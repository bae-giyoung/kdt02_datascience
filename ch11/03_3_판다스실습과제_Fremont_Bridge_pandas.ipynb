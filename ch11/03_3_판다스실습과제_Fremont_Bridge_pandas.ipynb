{
  "cells": [
    {
      "cell_type": "markdown",
      "metadata": {
        "id": "-7RY74DAVMbP"
      },
      "source": [
        "# Pandas 데이터 분석 연습 문제: 시애틀 자전거 통행량\n",
        "\n",
        "이 문제는 시애틀의 Fremont Bridge 자전거 통행량 데이터를 분석하는 연습을 제공합니다. pandas를 활용하여 데이터 전처리, 날짜 기반 분석, 날씨 데이터 병합 및 상관관계 분석을 수행합니다. (p234 참고)\n",
        "\n",
        "---"
      ]
    },
    {
      "cell_type": "markdown",
      "metadata": {
        "id": "xJ65b-27V_zF"
      },
      "source": [
        "<img src=\"https://images.seattletimes.com/wp-content/uploads/2020/01/01022020_bike-count_114545.jpg?d=2040x1360\" width=400>\n",
        "\n",
        "Ken Lambert, \"Bike ridership hits record highs on 2 Seattle routes\", The Seattle Times, Jan. 6, 2020"
      ]
    },
    {
      "cell_type": "markdown",
      "metadata": {
        "id": "XiY3C8DA8ZMv"
      },
      "source": [
        "\n",
        "## 1. 자전거 통행량 데이터 기본 전처리\n",
        "\n",
        "FremontBridge.csv 파일을 사용하여 시애틀 다리의 자전거 통행량 데이터를 불러오고 기본적인 전처리 작업을 수행합니다."
      ]
    },
    {
      "cell_type": "code",
      "execution_count": 1,
      "metadata": {
        "id": "MkflPU7pQveJ"
      },
      "outputs": [],
      "source": [
        "import matplotlib.pyplot as plt\n",
        "import numpy as np\n",
        "import pandas as pd\n",
        "import datetime as dt"
      ]
    },
    {
      "cell_type": "markdown",
      "metadata": {
        "id": "TDxJJOsC78bL"
      },
      "source": [
        "\n",
        "\n",
        "\n",
        "### 1.1 데이터 읽기\n",
        "\n",
        "- **목표**: FremontBridge.csv 파일을 pandas DataFrame으로 읽어와 df_bike 변수에 저장합니다.\n",
        "- **힌트**:\n",
        "    - pandas의 read_csv 함수를 사용하세요.\n",
        "    - 파일의 경로와 이름을 인자로 전달합니다. (url: 'https://raw.githubusercontent.com/jakevdp/bicycle-data/refs/heads/main/FremontBridge.csv')\n",
        "\n"
      ]
    },
    {
      "cell_type": "code",
      "execution_count": 2,
      "metadata": {
        "id": "yF1n57X479jt"
      },
      "outputs": [],
      "source": [
        "bicycle_url = 'https://raw.githubusercontent.com/jakevdp/bicycle-data/refs/heads/main/FremontBridge.csv'\n",
        "data = pd.read_csv(bicycle_url)"
      ]
    },
    {
      "cell_type": "markdown",
      "metadata": {
        "id": "P9FnyJtk8DzZ"
      },
      "source": [
        "### 1.2 데이터 미리보기\n",
        "\n",
        "- **목표**: df_bike DataFrame의 처음 5개 행을 출력하여 데이터 구조와 값을 확인합니다.\n",
        "- **힌트**:\n",
        "    - DataFrame의 head 메서드를 사용하면 처음 5개 행을 확인할 수 있습니다.\n",
        "\n"
      ]
    },
    {
      "cell_type": "code",
      "execution_count": 3,
      "metadata": {
        "id": "pWLfeVCN8GsD"
      },
      "outputs": [
        {
          "data": {
            "text/html": [
              "<div>\n",
              "<style scoped>\n",
              "    .dataframe tbody tr th:only-of-type {\n",
              "        vertical-align: middle;\n",
              "    }\n",
              "\n",
              "    .dataframe tbody tr th {\n",
              "        vertical-align: top;\n",
              "    }\n",
              "\n",
              "    .dataframe thead th {\n",
              "        text-align: right;\n",
              "    }\n",
              "</style>\n",
              "<table border=\"1\" class=\"dataframe\">\n",
              "  <thead>\n",
              "    <tr style=\"text-align: right;\">\n",
              "      <th></th>\n",
              "      <th>Date</th>\n",
              "      <th>Fremont Bridge Total</th>\n",
              "      <th>Fremont Bridge East Sidewalk</th>\n",
              "      <th>Fremont Bridge West Sidewalk</th>\n",
              "    </tr>\n",
              "  </thead>\n",
              "  <tbody>\n",
              "    <tr>\n",
              "      <th>0</th>\n",
              "      <td>11/01/2019 12:00:00 AM</td>\n",
              "      <td>12.0</td>\n",
              "      <td>7.0</td>\n",
              "      <td>5.0</td>\n",
              "    </tr>\n",
              "    <tr>\n",
              "      <th>1</th>\n",
              "      <td>11/01/2019 01:00:00 AM</td>\n",
              "      <td>7.0</td>\n",
              "      <td>0.0</td>\n",
              "      <td>7.0</td>\n",
              "    </tr>\n",
              "    <tr>\n",
              "      <th>2</th>\n",
              "      <td>11/01/2019 02:00:00 AM</td>\n",
              "      <td>1.0</td>\n",
              "      <td>0.0</td>\n",
              "      <td>1.0</td>\n",
              "    </tr>\n",
              "    <tr>\n",
              "      <th>3</th>\n",
              "      <td>11/01/2019 03:00:00 AM</td>\n",
              "      <td>6.0</td>\n",
              "      <td>6.0</td>\n",
              "      <td>0.0</td>\n",
              "    </tr>\n",
              "    <tr>\n",
              "      <th>4</th>\n",
              "      <td>11/01/2019 04:00:00 AM</td>\n",
              "      <td>6.0</td>\n",
              "      <td>5.0</td>\n",
              "      <td>1.0</td>\n",
              "    </tr>\n",
              "  </tbody>\n",
              "</table>\n",
              "</div>"
            ],
            "text/plain": [
              "                     Date  Fremont Bridge Total  Fremont Bridge East Sidewalk  \\\n",
              "0  11/01/2019 12:00:00 AM                  12.0                           7.0   \n",
              "1  11/01/2019 01:00:00 AM                   7.0                           0.0   \n",
              "2  11/01/2019 02:00:00 AM                   1.0                           0.0   \n",
              "3  11/01/2019 03:00:00 AM                   6.0                           6.0   \n",
              "4  11/01/2019 04:00:00 AM                   6.0                           5.0   \n",
              "\n",
              "   Fremont Bridge West Sidewalk  \n",
              "0                           5.0  \n",
              "1                           7.0  \n",
              "2                           1.0  \n",
              "3                           0.0  \n",
              "4                           1.0  "
            ]
          },
          "execution_count": 3,
          "metadata": {},
          "output_type": "execute_result"
        }
      ],
      "source": [
        "data.head()"
      ]
    },
    {
      "cell_type": "markdown",
      "metadata": {
        "id": "ilZYkqYo8HIQ"
      },
      "source": [
        "### 1.3 데이터 요약 정보 확인\n",
        "\n",
        "- **목표**: df_bike DataFrame의 컬럼명, 데이터 타입, 유효 값 개수, 메모리 사용량 등 요약 정보를 확인합니다.\n",
        "- **힌트**:\n",
        "    - DataFrame의 info 메서드를 호출하여 요약 정보를 확인하세요.\n",
        "\n"
      ]
    },
    {
      "cell_type": "code",
      "execution_count": 4,
      "metadata": {
        "id": "jkN8n57n8I3y"
      },
      "outputs": [
        {
          "name": "stdout",
          "output_type": "stream",
          "text": [
            "<class 'pandas.core.frame.DataFrame'>\n",
            "RangeIndex: 147278 entries, 0 to 147277\n",
            "Data columns (total 4 columns):\n",
            " #   Column                        Non-Null Count   Dtype  \n",
            "---  ------                        --------------   -----  \n",
            " 0   Date                          147278 non-null  object \n",
            " 1   Fremont Bridge Total          147256 non-null  float64\n",
            " 2   Fremont Bridge East Sidewalk  147256 non-null  float64\n",
            " 3   Fremont Bridge West Sidewalk  147255 non-null  float64\n",
            "dtypes: float64(3), object(1)\n",
            "memory usage: 4.5+ MB\n"
          ]
        }
      ],
      "source": [
        "data.info()"
      ]
    },
    {
      "cell_type": "markdown",
      "metadata": {
        "id": "4CpC0Hkz8JIz"
      },
      "source": [
        "### 1.4 데이터 타입 및 누락값 상세 확인\n",
        "\n",
        "- **목표**: 각 컬럼의 데이터 타입과 누락값(NaN)의 개수를 확인합니다.\n",
        "- **힌트**:\n",
        "    - 데이터 타입은 dtypes 속성으로 확인합니다.\n",
        "    - 누락값은 isnull 메서드와 sum 메서드를 조합하여 컬럼별 합계를 계산합니다.\n",
        "\n"
      ]
    },
    {
      "cell_type": "code",
      "execution_count": 5,
      "metadata": {
        "id": "gHG8yUTA8K-H"
      },
      "outputs": [
        {
          "data": {
            "text/plain": [
              "Date                             0\n",
              "Fremont Bridge Total            22\n",
              "Fremont Bridge East Sidewalk    22\n",
              "Fremont Bridge West Sidewalk    23\n",
              "dtype: int64"
            ]
          },
          "execution_count": 5,
          "metadata": {},
          "output_type": "execute_result"
        }
      ],
      "source": [
        "data.loc[:,:].isna().sum()"
      ]
    },
    {
      "cell_type": "markdown",
      "metadata": {
        "id": "QCKW6mXE8Le_"
      },
      "source": [
        "### 1.5 컬럼명 변경\n",
        "\n",
        "- **목표**: df_bike DataFrame의 컬럼명을 다음과 같이 변경합니다:\n",
        "    - Fremont Bridge Total → Total\n",
        "    - Fremont Bridge East Sidewalk → East\n",
        "    - Fremont Bridge West Sidewalk → West"
      ]
    },
    {
      "cell_type": "code",
      "execution_count": 6,
      "metadata": {
        "id": "vEZn0EBp8NVf"
      },
      "outputs": [],
      "source": [
        "data.columns = ['Date', 'Total', 'West', 'East']"
      ]
    },
    {
      "cell_type": "markdown",
      "metadata": {
        "id": "96qI6DBI8Ni-"
      },
      "source": [
        "### 1.6 'Date' 컬럼 타입 변경\n",
        "\n",
        "- **목표**: Date 컬럼을 문자열(object)에서 datetime 형식으로 변환하여 df_bike['Date']에 할당합니다.\n",
        "- **힌트**:\n",
        "    - pandas의 to_datetime 함수에 df_bike['Date']를 전달하여 변환합니다.\n",
        "\n"
      ]
    },
    {
      "cell_type": "code",
      "execution_count": 7,
      "metadata": {
        "id": "ZCjxMTDl8Phn"
      },
      "outputs": [],
      "source": [
        "data['Date'] = pd.to_datetime(data['Date'], format='%m/%d/%Y %I:%M:%S %p')"
      ]
    },
    {
      "cell_type": "markdown",
      "metadata": {
        "id": "5uti2lil8P4_"
      },
      "source": [
        "### 1.7 'Date' 컬럼을 인덱스로 설정\n",
        "\n",
        "- **목표**: datetime 형식으로 변환된 Date 컬럼을 df_bike의 행 인덱스로 설정합니다.\n",
        "- **힌트**:\n",
        "    - set_index 메서드에 Date 컬럼명을 전달합니다.\n",
        "\n"
      ]
    },
    {
      "cell_type": "code",
      "execution_count": 8,
      "metadata": {
        "id": "hhSGfwqY8RfX"
      },
      "outputs": [],
      "source": [
        "data = data.sort_values('Date')\n",
        "data = data.set_index(['Date'])"
      ]
    },
    {
      "cell_type": "markdown",
      "metadata": {
        "id": "E2LN9HA78Rwb"
      },
      "source": [
        "### 1.8 누락값 처리\n",
        "\n",
        "- **목표**: Total, East, West 컬럼의 누락값(NaN)을 각 컬럼의 평균값으로 채웁니다.\n",
        "- **힌트**:\n",
        "    - 각 컬럼에 fillna 메서드를 사용하고, 채울 값으로 해당 컬럼의 mean 값을 전달합니다.\n"
      ]
    },
    {
      "cell_type": "code",
      "execution_count": 9,
      "metadata": {},
      "outputs": [
        {
          "data": {
            "text/plain": [
              "Index([277, 277, 277, 277, 277, 277, 277, 277, 277, 277,\n",
              "       ...\n",
              "       365, 365, 365, 365, 365, 365, 365, 365, 365, 365],\n",
              "      dtype='int32', name='Date', length=147278)"
            ]
          },
          "execution_count": 9,
          "metadata": {},
          "output_type": "execute_result"
        }
      ],
      "source": [
        "data.index.dayofyear"
      ]
    },
    {
      "cell_type": "code",
      "execution_count": 10,
      "metadata": {
        "id": "EFv1kadb8SVf"
      },
      "outputs": [
        {
          "data": {
            "text/plain": [
              "Index([2, 2, 2, 2, 2, 2, 2, 2, 2, 2,\n",
              "       ...\n",
              "       4, 4, 4, 4, 4, 4, 4, 4, 4, 4],\n",
              "      dtype='int32', name='Date', length=147278)"
            ]
          },
          "execution_count": 10,
          "metadata": {},
          "output_type": "execute_result"
        }
      ],
      "source": [
        "data.index.dayofweek"
      ]
    },
    {
      "cell_type": "code",
      "execution_count": 11,
      "metadata": {},
      "outputs": [
        {
          "data": {
            "text/html": [
              "<div>\n",
              "<style scoped>\n",
              "    .dataframe tbody tr th:only-of-type {\n",
              "        vertical-align: middle;\n",
              "    }\n",
              "\n",
              "    .dataframe tbody tr th {\n",
              "        vertical-align: top;\n",
              "    }\n",
              "\n",
              "    .dataframe thead th {\n",
              "        text-align: right;\n",
              "    }\n",
              "</style>\n",
              "<table border=\"1\" class=\"dataframe\">\n",
              "  <thead>\n",
              "    <tr style=\"text-align: right;\">\n",
              "      <th></th>\n",
              "      <th>Total</th>\n",
              "      <th>West</th>\n",
              "      <th>East</th>\n",
              "    </tr>\n",
              "    <tr>\n",
              "      <th>Date</th>\n",
              "      <th></th>\n",
              "      <th></th>\n",
              "      <th></th>\n",
              "    </tr>\n",
              "  </thead>\n",
              "  <tbody>\n",
              "    <tr>\n",
              "      <th>2012-10-03 00:00:00</th>\n",
              "      <td>13.0</td>\n",
              "      <td>4.0</td>\n",
              "      <td>9.0</td>\n",
              "    </tr>\n",
              "    <tr>\n",
              "      <th>2012-10-03 00:00:00</th>\n",
              "      <td>13.0</td>\n",
              "      <td>4.0</td>\n",
              "      <td>9.0</td>\n",
              "    </tr>\n",
              "    <tr>\n",
              "      <th>2012-10-03 01:00:00</th>\n",
              "      <td>10.0</td>\n",
              "      <td>4.0</td>\n",
              "      <td>6.0</td>\n",
              "    </tr>\n",
              "    <tr>\n",
              "      <th>2012-10-03 01:00:00</th>\n",
              "      <td>10.0</td>\n",
              "      <td>4.0</td>\n",
              "      <td>6.0</td>\n",
              "    </tr>\n",
              "    <tr>\n",
              "      <th>2012-10-03 02:00:00</th>\n",
              "      <td>2.0</td>\n",
              "      <td>1.0</td>\n",
              "      <td>1.0</td>\n",
              "    </tr>\n",
              "  </tbody>\n",
              "</table>\n",
              "</div>"
            ],
            "text/plain": [
              "                     Total  West  East\n",
              "Date                                  \n",
              "2012-10-03 00:00:00   13.0   4.0   9.0\n",
              "2012-10-03 00:00:00   13.0   4.0   9.0\n",
              "2012-10-03 01:00:00   10.0   4.0   6.0\n",
              "2012-10-03 01:00:00   10.0   4.0   6.0\n",
              "2012-10-03 02:00:00    2.0   1.0   1.0"
            ]
          },
          "execution_count": 11,
          "metadata": {},
          "output_type": "execute_result"
        }
      ],
      "source": [
        "data.head()"
      ]
    },
    {
      "cell_type": "code",
      "execution_count": 12,
      "metadata": {},
      "outputs": [],
      "source": [
        "# 이 코드를 더 줄일 수 없을까?\n",
        "data.loc[:, 'Total'] = data.loc[:, 'Total'].fillna(data.loc[:, 'Total'].mean())\n",
        "data.loc[:, 'West'] = data.loc[:, 'West'].fillna(data.loc[:, 'West'].mean())\n",
        "data.loc[:, 'East'] = data.loc[:, 'East'].fillna(data.loc[:, 'East'].mean())"
      ]
    },
    {
      "cell_type": "code",
      "execution_count": 13,
      "metadata": {},
      "outputs": [
        {
          "name": "stdout",
          "output_type": "stream",
          "text": [
            "<class 'pandas.core.frame.DataFrame'>\n",
            "DatetimeIndex: 147278 entries, 2012-10-03 00:00:00 to 2021-12-31 23:00:00\n",
            "Data columns (total 3 columns):\n",
            " #   Column  Non-Null Count   Dtype  \n",
            "---  ------  --------------   -----  \n",
            " 0   Total   147278 non-null  float64\n",
            " 1   West    147278 non-null  float64\n",
            " 2   East    147278 non-null  float64\n",
            "dtypes: float64(3)\n",
            "memory usage: 4.5 MB\n"
          ]
        }
      ],
      "source": [
        "data.info()"
      ]
    },
    {
      "cell_type": "markdown",
      "metadata": {
        "id": "8b-JQs6B7dSD"
      },
      "source": [
        "\n",
        "\n",
        "## 2. 날짜 관련 데이터 분석 (자전거 통행량)\n",
        "\n",
        "시간 정보를 활용하여 자전거 통행량의 패턴을 분석하고 시각화합니다.\n",
        "\n"
      ]
    },
    {
      "cell_type": "markdown",
      "metadata": {
        "id": "CZ0PVFVI8iAD"
      },
      "source": [
        "### 2.1 주간 단위 총 통행량 시각화\n",
        "\n",
        "- **목표**: Total 컬럼의 일별 통행량을 주간 단위로 합산하여 선 그래프(line plot)로 시각화합니다.\n",
        "- **힌트**:\n",
        "    - Total 컬럼을 선택한 후 resample('W')로 주간 단위로 그룹화하고 sum으로 합계를 계산합니다.\n",
        "    - plot 메서드로 선 그래프를 그립니다.\n",
        "\n"
      ]
    },
    {
      "cell_type": "code",
      "execution_count": 14,
      "metadata": {
        "id": "LqvtdXno8kS_"
      },
      "outputs": [],
      "source": [
        "# 컬럼 추가의 방법으로 해도 좋다!\n",
        "# data['Weekday'] = "
      ]
    },
    {
      "cell_type": "markdown",
      "metadata": {
        "id": "byKqxa0_8ksX"
      },
      "source": [
        "### 2.2 시간대별 평균 통행량 시각화\n",
        "\n",
        "- **목표**: 하루 24시간(0~23시)별 평균 Total 통행량을 계산하고 막대 그래프(bar plot)로 시각화합니다.\n",
        "- **힌트**:\n",
        "    - 인덱스의 시간 정보(df_bike.index.hour)를 기준으로 groupby 연산을 수행합니다.\n",
        "    - Total 컬럼의 mean 값을 계산하고 plot(kind='bar')로 막대 그래프를 그립니다.\n",
        "\n"
      ]
    },
    {
      "cell_type": "code",
      "execution_count": null,
      "metadata": {
        "id": "tnCBQAyt8nL8"
      },
      "outputs": [],
      "source": []
    },
    {
      "cell_type": "markdown",
      "metadata": {
        "id": "wYvGfBcC8neT"
      },
      "source": [
        "### 2.3 요일별 평균 통행량 시각화\n",
        "\n",
        "- **목표**: 요일별(월~일) 평균 Total 통행량을 계산하고 막대 그래프로 시각화합니다.\n",
        "- **힌트**:\n",
        "    - 인덱스의 요일 이름(df_bike.index.day_name())을 기준으로 groupby 연산을 수행합니다.\n",
        "    - Total 컬럼의 mean 값을 계산하고 plot(kind='bar')로 막대 그래프를 그립니다.\n",
        "\n"
      ]
    },
    {
      "cell_type": "code",
      "execution_count": null,
      "metadata": {
        "id": "CNIhut7I8rWT"
      },
      "outputs": [],
      "source": []
    },
    {
      "cell_type": "markdown",
      "metadata": {
        "id": "F8pSRCMl8rnn"
      },
      "source": [
        "### 2.4 요일 및 시간대별 평균 통행량 (Pivot Table)\n",
        "\n",
        "- **목표**: 피벗 테이블을 사용하여 시간대(행)와 요일(열)에 따른 평균 Total 통행량 표를 생성합니다.\n",
        "- **힌트**:\n",
        "    - pivot_table 메서드에서 values='Total', index=df_bike.index.hour, columns=df_bike.index.day_name(), aggfunc='mean'을 지정합니다.\n",
        "\n"
      ]
    },
    {
      "cell_type": "code",
      "execution_count": null,
      "metadata": {
        "id": "RUejvE_j8umv"
      },
      "outputs": [],
      "source": []
    },
    {
      "cell_type": "markdown",
      "metadata": {
        "id": "CUPkgEwR8u2j"
      },
      "source": [
        "### 2.5 30일 이동 평균 통행량 시각화\n",
        "\n",
        "- **목표**: Total 통행량의 30일 이동 평균을 계산하고 선 그래프로 시각화합니다.\n",
        "- **힌트**:\n",
        "    - Total 컬럼에 rolling(window=30)을 적용하고 mean으로 평균을 계산합니다.\n",
        "    - plot 메서드로 선 그래프를 그립니다.\n",
        "\n"
      ]
    },
    {
      "cell_type": "code",
      "execution_count": null,
      "metadata": {
        "id": "wU9n980WQveN"
      },
      "outputs": [],
      "source": []
    },
    {
      "cell_type": "markdown",
      "metadata": {
        "id": "fjvahwiy80Ik"
      },
      "source": [
        "## 3. 날씨 데이터 병합 및 분석\n",
        "\n",
        "SeattleWeather.csv 파일의 날씨 데이터를 읽어와 자전거 통행량 데이터와 병합하여 날씨와 통행량의 관계를 분석합니다."
      ]
    },
    {
      "cell_type": "markdown",
      "metadata": {
        "id": "fmIQcoVV8x2z"
      },
      "source": [
        "\n",
        "### 3.1 날씨 데이터 읽기 및 기본 전처리\n",
        "\n",
        "- **목표**:\n",
        "    - SeattleWeather.csv 파일을 df_weather DataFrame으로 읽습니다. (url: https://raw.githubusercontent.com/jakevdp/bicycle-data/refs/heads/main/SeattleWeather.csv)\n",
        "    - DATE 컬럼을 datetime 형식으로 변환하고 인덱스로 설정합니다.\n",
        "    - PRCP 컬럼의 누락값을 0으로 채웁니다.\n"
      ]
    },
    {
      "cell_type": "code",
      "execution_count": null,
      "metadata": {
        "id": "_VZBLlP886Zg"
      },
      "outputs": [],
      "source": []
    },
    {
      "cell_type": "markdown",
      "metadata": {
        "id": "NzgsE2gZ864w"
      },
      "source": [
        "### 3.2 데이터프레임 병합 (Merge)\n",
        "\n",
        "- **목표**: df_bike와 df_weather를 날짜 인덱스를 기준으로 병합하여 df_merged에 저장합니다.\n",
        "- **힌트**:\n",
        "    - pd.merge 함수에 df_bike, df_weather, left_index=True, right_index=True 옵션을 전달합니다.\n",
        "\n"
      ]
    },
    {
      "cell_type": "code",
      "execution_count": null,
      "metadata": {
        "id": "Q8j14mWhQveS"
      },
      "outputs": [],
      "source": []
    },
    {
      "cell_type": "markdown",
      "metadata": {
        "id": "C9prXIZ48-xH"
      },
      "source": [
        "### 3.3 강수량과 자전거 통행량 관계 분석\n",
        "\n",
        "- **목표**:\n",
        "    - PRCP와 Total 간의 관계를 산점도(scatter plot)로 시각화합니다.\n",
        "    - 두 변수의 상관계수를 계산합니다.\n",
        "- **힌트**:\n",
        "    - df_merged.plot.scatter로 산점도를 그립니다.\n",
        "    - sns.scatterplot 로 산점도를 그립니다.\n",
        "    - df_merged['PRCP'].corr 로 상관계수를 계산합니다.\n",
        "\n"
      ]
    },
    {
      "cell_type": "code",
      "execution_count": null,
      "metadata": {
        "id": "O8IVLRXWQveT"
      },
      "outputs": [],
      "source": []
    },
    {
      "cell_type": "markdown",
      "metadata": {
        "id": "QggCf-fn9BIn"
      },
      "source": [
        "### 3.4 기온과 자전거 통행량 관계 분석\n",
        "\n",
        "- **목표**: TAVG(또는 TMAX, TMIN)와 Total 간의 관계를 산점도 또는 구간별 평균 통행량으로 분석합니다.\n",
        "- **힌트**:\n",
        "    - 산점도는 df_merged.plot.scatter(x='TAVG', y='Total')로 그립니다.\n",
        "    - 구간별 분석은 pd.cut으로 기온을 구간화하고 groupby로 평균을 계산한 후 plot으로 시각화합니다.\n"
      ]
    },
    {
      "cell_type": "code",
      "execution_count": null,
      "metadata": {
        "id": "FMiVYbLb9Cu_"
      },
      "outputs": [],
      "source": []
    },
    {
      "cell_type": "markdown",
      "metadata": {
        "id": "5WsbzMNx9DMv"
      },
      "source": [
        "\n",
        "### 3.5 날씨 조건에 따른 통행량 비교\n",
        "\n",
        "- **목표**: 비가 온 날(PRCP > 0)과 비가 오지 않은 날(PRCP = 0)의 평균 Total 통행량을 비교합니다.\n",
        "- **힌트**:\n",
        "    - 불리언 인덱싱으로 조건 (비가 온 날과 비가 오지 않은 날)을 설정합니다."
      ]
    },
    {
      "cell_type": "code",
      "execution_count": null,
      "metadata": {
        "id": "5DKgb53v9D0z"
      },
      "outputs": [],
      "source": []
    }
  ],
  "metadata": {
    "colab": {
      "provenance": []
    },
    "kernelspec": {
      "display_name": "Python 3",
      "language": "python",
      "name": "python3"
    },
    "language_info": {
      "codemirror_mode": {
        "name": "ipython",
        "version": 3
      },
      "file_extension": ".py",
      "mimetype": "text/x-python",
      "name": "python",
      "nbconvert_exporter": "python",
      "pygments_lexer": "ipython3",
      "version": "3.9.13"
    }
  },
  "nbformat": 4,
  "nbformat_minor": 0
}
