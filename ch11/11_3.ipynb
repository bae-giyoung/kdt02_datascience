{
 "cells": [
  {
   "cell_type": "markdown",
   "id": "fcd4080c",
   "metadata": {},
   "source": [
    "# 개념 복습(출처: GPT)"
   ]
  },
  {
   "cell_type": "markdown",
   "id": "7b285000",
   "metadata": {},
   "source": [
    "### 1. Numpy의 브로드캐스팅"
   ]
  },
  {
   "cell_type": "markdown",
   "id": "710c2463",
   "metadata": {},
   "source": [
    "* #### [ 브로드 캐스팅이란? ]\n",
    ">브로드캐스팅이란,\n",
    "><br>서로 다른 모양(shape)의 배열 간 연산이 가능하도록 자동으로 배열의 크기를 확장해주는 규칙\n",
    "><br>즉, 작은 배열을 큰 배열의 shape에 맞게 늘려서 연산이 가능하게 만들어줌"
   ]
  },
  {
   "cell_type": "markdown",
   "id": "11f69fa8",
   "metadata": {},
   "source": [
    "* #### [브로드캐스팅 규칙]\n",
    ">   * 두 배열의 shape을 뒤에서부터(오른쪽에서부터) 비교<br>\n",
    ">   * 각 차원이 일치하거나, 둘 중 하나가 1이면 OK<br>\n",
    ">   * 일치하지 않고 둘 다 1이 아니라면 브로드캐스팅 불가능(에러)<br>"
   ]
  },
  {
   "cell_type": "markdown",
   "id": "20ec8664",
   "metadata": {},
   "source": [
    "* #### [브로드캐스팅 예시]\n",
    ">   * <br>\n",
    ">   * <br>\n",
    ">   * <br>"
   ]
  },
  {
   "cell_type": "markdown",
   "id": "9c417b5d",
   "metadata": {},
   "source": [
    "* #### [요약 정리]\n",
    "| 용어     | 의미                           |\n",
    "| ------ | ---------------------------- |\n",
    "| 브로드캐스팅 | 작은 배열을 큰 배열의 shape에 맞게 자동 확장 |\n",
    "| 비교 방식  | 오른쪽부터 차원 비교                  |\n",
    "| 허용 조건  | 두 차원이 같거나, 한 쪽이 1이면 OK       |\n",
    "| 실패 조건  | 두 차원이 다르고 둘 다 1이 아님          |\n"
   ]
  }
 ],
 "metadata": {
  "language_info": {
   "name": "python"
  }
 },
 "nbformat": 4,
 "nbformat_minor": 5
}
