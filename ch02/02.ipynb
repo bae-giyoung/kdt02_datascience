{
 "cells": [
  {
   "cell_type": "code",
   "execution_count": 1,
   "id": "8f658b70",
   "metadata": {},
   "outputs": [
    {
     "name": "stdout",
     "output_type": "stream",
     "text": [
      "Requirement already satisfied: numpy in c:\\users\\user\\appdata\\local\\programs\\python\\python39\\lib\\site-packages (2.0.2)\n",
      "Note: you may need to restart the kernel to use updated packages.\n"
     ]
    },
    {
     "name": "stderr",
     "output_type": "stream",
     "text": [
      "WARNING: You are using pip version 22.0.4; however, version 25.1.1 is available.\n",
      "You should consider upgrading via the 'c:\\Users\\user\\AppData\\Local\\Programs\\Python\\Python39\\python.exe -m pip install --upgrade pip' command.\n"
     ]
    }
   ],
   "source": [
    "%pip install numpy"
   ]
  },
  {
   "cell_type": "code",
   "execution_count": 2,
   "id": "9dbed150",
   "metadata": {},
   "outputs": [],
   "source": [
    "import numpy as np"
   ]
  },
  {
   "cell_type": "code",
   "execution_count": 2,
   "id": "65ae34e6",
   "metadata": {},
   "outputs": [
    {
     "data": {
      "text/plain": [
       "'2.0.2'"
      ]
     },
     "execution_count": 2,
     "metadata": {},
     "output_type": "execute_result"
    }
   ],
   "source": [
    "np.__version__"
   ]
  },
  {
   "cell_type": "code",
   "execution_count": 3,
   "id": "5d0433b3",
   "metadata": {},
   "outputs": [
    {
     "name": "stdout",
     "output_type": "stream",
     "text": [
      "Python 3.9.13\n"
     ]
    }
   ],
   "source": [
    "!python --version"
   ]
  },
  {
   "cell_type": "code",
   "execution_count": 6,
   "id": "4791de76",
   "metadata": {},
   "outputs": [
    {
     "data": {
      "text/plain": [
       "[np.int64(-5),\n",
       " np.int64(-4),\n",
       " np.int64(-3),\n",
       " np.int64(-2),\n",
       " np.int64(-1),\n",
       " np.int64(0),\n",
       " np.int64(1),\n",
       " np.int64(2),\n",
       " np.int64(3),\n",
       " np.int64(4),\n",
       " np.int64(5)]"
      ]
     },
     "execution_count": 6,
     "metadata": {},
     "output_type": "execute_result"
    }
   ],
   "source": [
    "x = np.arange(-5,6)\n",
    "list(x)"
   ]
  },
  {
   "cell_type": "code",
   "execution_count": 7,
   "id": "3157c9e3",
   "metadata": {},
   "outputs": [
    {
     "data": {
      "text/plain": [
       "array([-9, -7, -5, -3, -1,  1,  3,  5,  7,  9, 11])"
      ]
     },
     "execution_count": 7,
     "metadata": {},
     "output_type": "execute_result"
    }
   ],
   "source": [
    "2*x + 1"
   ]
  },
  {
   "cell_type": "code",
   "execution_count": 9,
   "id": "eb07cebc",
   "metadata": {},
   "outputs": [
    {
     "data": {
      "text/plain": [
       "array([-9, -7, -5, -3, -1,  1,  3,  5,  7,  9, 11])"
      ]
     },
     "execution_count": 9,
     "metadata": {},
     "output_type": "execute_result"
    }
   ],
   "source": [
    "def fn(x):\n",
    "    return 2*x+1\n",
    "\n",
    "fn(x)"
   ]
  },
  {
   "cell_type": "code",
   "execution_count": 11,
   "id": "7bcedeae",
   "metadata": {},
   "outputs": [
    {
     "data": {
      "text/plain": [
       "array([-9, -7, -5, -3, -1,  1,  3,  5,  7,  9, 11])"
      ]
     },
     "execution_count": 11,
     "metadata": {},
     "output_type": "execute_result"
    }
   ],
   "source": [
    "np.array([-9, -7, -5, -3, -1,  1,  3,  5,  7,  9, 11])"
   ]
  },
  {
   "cell_type": "code",
   "execution_count": 15,
   "id": "6f699676",
   "metadata": {},
   "outputs": [
    {
     "data": {
      "text/plain": [
       "(array([0, 1, 2, 3, 4, 5, 6, 7, 8, 9]),\n",
       " array([ 0. ,  0.1,  0.2,  0.3,  0.4,  0.5,  0.6,  0.7,  0.8,  0.9,  1. ,\n",
       "         1.1,  1.2,  1.3,  1.4,  1.5,  1.6,  1.7,  1.8,  1.9,  2. ,  2.1,\n",
       "         2.2,  2.3,  2.4,  2.5,  2.6,  2.7,  2.8,  2.9,  3. ,  3.1,  3.2,\n",
       "         3.3,  3.4,  3.5,  3.6,  3.7,  3.8,  3.9,  4. ,  4.1,  4.2,  4.3,\n",
       "         4.4,  4.5,  4.6,  4.7,  4.8,  4.9,  5. ,  5.1,  5.2,  5.3,  5.4,\n",
       "         5.5,  5.6,  5.7,  5.8,  5.9,  6. ,  6.1,  6.2,  6.3,  6.4,  6.5,\n",
       "         6.6,  6.7,  6.8,  6.9,  7. ,  7.1,  7.2,  7.3,  7.4,  7.5,  7.6,\n",
       "         7.7,  7.8,  7.9,  8. ,  8.1,  8.2,  8.3,  8.4,  8.5,  8.6,  8.7,\n",
       "         8.8,  8.9,  9. ,  9.1,  9.2,  9.3,  9.4,  9.5,  9.6,  9.7,  9.8,\n",
       "         9.9, 10. ]))"
      ]
     },
     "execution_count": 15,
     "metadata": {},
     "output_type": "execute_result"
    }
   ],
   "source": [
    "x1 = np.arange(0,10)\n",
    "x2 = np.linspace(0,10,101)\n",
    "x1, x2"
   ]
  },
  {
   "cell_type": "code",
   "execution_count": 16,
   "id": "edb10e7e",
   "metadata": {},
   "outputs": [
    {
     "data": {
      "text/plain": [
       "(array([1, 2, 3]), array([4, 5, 6]))"
      ]
     },
     "execution_count": 16,
     "metadata": {},
     "output_type": "execute_result"
    }
   ],
   "source": [
    "v1 = np.array([1,2,3])\n",
    "v2 = np.array([4,5,6])\n",
    "v1, v2"
   ]
  },
  {
   "cell_type": "code",
   "execution_count": 17,
   "id": "ebd21309",
   "metadata": {},
   "outputs": [
    {
     "data": {
      "text/plain": [
       "np.int64(32)"
      ]
     },
     "execution_count": 17,
     "metadata": {},
     "output_type": "execute_result"
    }
   ],
   "source": [
    "np.dot(v1, v2)"
   ]
  },
  {
   "cell_type": "code",
   "execution_count": 18,
   "id": "83d2755a",
   "metadata": {},
   "outputs": [
    {
     "data": {
      "text/plain": [
       "np.int64(32)"
      ]
     },
     "execution_count": 18,
     "metadata": {},
     "output_type": "execute_result"
    }
   ],
   "source": [
    "v1.dot(v2)"
   ]
  },
  {
   "cell_type": "code",
   "execution_count": null,
   "id": "4b48d8a3",
   "metadata": {},
   "outputs": [
    {
     "data": {
      "text/plain": [
       "array([[1, 4],\n",
       "       [2, 5],\n",
       "       [3, 6]])"
      ]
     },
     "execution_count": 26,
     "metadata": {},
     "output_type": "execute_result"
    }
   ],
   "source": [
    "A = [[1,2,3],\n",
    "     [4,5,6]]\n",
    "A = np.array(A)\n",
    "\n",
    "# 전치 행렬\n",
    "A.T"
   ]
  },
  {
   "cell_type": "code",
   "execution_count": null,
   "id": "e3984ceb",
   "metadata": {},
   "outputs": [
    {
     "data": {
      "text/plain": [
       "(array([[21, 27],\n",
       "        [48, 63]]),\n",
       " (2, 2))"
      ]
     },
     "execution_count": 28,
     "metadata": {},
     "output_type": "execute_result"
    }
   ],
   "source": [
    "A = np.array([[1,2,3],\n",
    "     [4,5,6]])\n",
    "\n",
    "B = np.array([[1,2],\n",
    "     [4,5],\n",
    "     [4,5]])\n",
    "\n",
    "# A B 행렬의 곱셈, 결과의 모양 확인\n",
    "A.dot(B), A.dot(B).shape"
   ]
  },
  {
   "cell_type": "code",
   "execution_count": null,
   "id": "70763e8c",
   "metadata": {},
   "outputs": [
    {
     "data": {
      "text/plain": [
       "array([[21, 27],\n",
       "       [48, 63]])"
      ]
     },
     "execution_count": 29,
     "metadata": {},
     "output_type": "execute_result"
    }
   ],
   "source": [
    "# A B 행렬의 곱셈\n",
    "A @ B"
   ]
  },
  {
   "cell_type": "code",
   "execution_count": 30,
   "id": "1cc93311",
   "metadata": {},
   "outputs": [],
   "source": [
    "l = [1, 3.14, True, 'hello', sum, range]"
   ]
  },
  {
   "cell_type": "code",
   "execution_count": 31,
   "id": "70508655",
   "metadata": {},
   "outputs": [
    {
     "name": "stdout",
     "output_type": "stream",
     "text": [
      "<class 'int'> 1\n",
      "<class 'float'> 3.14\n",
      "<class 'bool'> True\n",
      "<class 'str'> hello\n",
      "<class 'builtin_function_or_method'> <built-in function sum>\n",
      "<class 'type'> <class 'range'>\n"
     ]
    }
   ],
   "source": [
    "for i in l:\n",
    "    print(type(i), i)"
   ]
  },
  {
   "cell_type": "code",
   "execution_count": null,
   "id": "de462be3",
   "metadata": {},
   "outputs": [
    {
     "data": {
      "text/plain": [
       "(128, 3, 800, 600)"
      ]
     },
     "execution_count": 33,
     "metadata": {},
     "output_type": "execute_result"
    }
   ],
   "source": [
    "# 이미지 만들기\n",
    "image = np.random.randn(128, 3, 800, 600) # 120장, rgb 3개, 사이즈(800*600)\n",
    "image.shape"
   ]
  },
  {
   "cell_type": "code",
   "execution_count": null,
   "id": "b9f4f0ea",
   "metadata": {},
   "outputs": [
    {
     "data": {
      "text/plain": [
       "(array([ 1,  2,  3,  4,  5,  6,  7,  8,  9, 10]), np.int64(55))"
      ]
     },
     "execution_count": 37,
     "metadata": {},
     "output_type": "execute_result"
    }
   ],
   "source": [
    "data = np.arange(1, 11)\n",
    "data, np.sum(data)"
   ]
  },
  {
   "cell_type": "code",
   "execution_count": 3,
   "id": "c4fdad25",
   "metadata": {},
   "outputs": [
    {
     "data": {
      "text/plain": [
       "[<matplotlib.lines.Line2D at 0x1a8fd5a09a0>]"
      ]
     },
     "execution_count": 3,
     "metadata": {},
     "output_type": "execute_result"
    },
    {
     "data": {
      "image/png": "[encoded data removed]",
      "text/plain": [
       "<Figure size 640x480 with 1 Axes>"
      ]
     },
     "metadata": {},
     "output_type": "display_data"
    }
   ],
   "source": [
    "import matplotlib.pyplot as plt\n",
    "\n",
    "x = np.linspace(-5,5,101)\n",
    "y = x**2\n",
    "\n",
    "plt.plot(x, y)\n"
   ]
  },
  {
   "cell_type": "code",
   "execution_count": 4,
   "id": "952258ee",
   "metadata": {},
   "outputs": [
    {
     "data": {
      "text/plain": [
       "(100,)"
      ]
     },
     "execution_count": 4,
     "metadata": {},
     "output_type": "execute_result"
    }
   ],
   "source": [
    "np.zeros(100).shape"
   ]
  },
  {
   "cell_type": "code",
   "execution_count": 7,
   "id": "13dc2788",
   "metadata": {},
   "outputs": [
    {
     "name": "stdout",
     "output_type": "stream",
     "text": [
      "[[0. 0. 0.]\n",
      " [0. 0. 0.]\n",
      " [0. 0. 0.]]\n",
      "(3, 3)\n"
     ]
    }
   ],
   "source": [
    "# int M[3][3] = {0}\n",
    "print(np.zeros((3,3)))\n",
    "print(np.zeros((3,3)).shape)"
   ]
  },
  {
   "cell_type": "code",
   "execution_count": 10,
   "id": "72b9441d",
   "metadata": {},
   "outputs": [
    {
     "name": "stdout",
     "output_type": "stream",
     "text": [
      "[[1. 1. 1.]\n",
      " [1. 1. 1.]\n",
      " [1. 1. 1.]\n",
      " [1. 1. 1.]]\n",
      "(4, 3)\n"
     ]
    }
   ],
   "source": [
    "print(np.ones((4,3)))\n",
    "print(np.ones((4,3)).shape)"
   ]
  },
  {
   "cell_type": "code",
   "execution_count": 14,
   "id": "b6a0c709",
   "metadata": {},
   "outputs": [
    {
     "data": {
      "text/plain": [
       "(array([0.1, 0.1, 0.1]), (3,))"
      ]
     },
     "execution_count": 14,
     "metadata": {},
     "output_type": "execute_result"
    }
   ],
   "source": [
    "np.full((3), 0.1), np.full((3), 0.1).shape"
   ]
  },
  {
   "cell_type": "markdown",
   "id": "7f29dac2",
   "metadata": {},
   "source": [
    "# Dense 함수 다시 풀기"
   ]
  },
  {
   "cell_type": "code",
   "execution_count": 15,
   "id": "291900dc",
   "metadata": {},
   "outputs": [
    {
     "data": {
      "text/plain": [
       "((4, 3), (3,))"
      ]
     },
     "execution_count": 15,
     "metadata": {},
     "output_type": "execute_result"
    }
   ],
   "source": [
    "input_data= np.random.randn(150, 4)\n",
    "W = np.ones((4,3))\n",
    "b = np.full((3), 0.1)\n",
    "\n",
    "W.shape, b.shape"
   ]
  },
  {
   "cell_type": "code",
   "execution_count": 16,
   "id": "037224a3",
   "metadata": {},
   "outputs": [
    {
     "data": {
      "text/plain": [
       "(150, 3)"
      ]
     },
     "execution_count": 16,
     "metadata": {},
     "output_type": "execute_result"
    }
   ],
   "source": [
    "output = input_data.dot(W) + b\n",
    "output.shape"
   ]
  },
  {
   "cell_type": "code",
   "execution_count": null,
   "id": "a208aee0",
   "metadata": {},
   "outputs": [
    {
     "data": {
      "text/plain": [
       "(1000,)"
      ]
     },
     "execution_count": 21,
     "metadata": {},
     "output_type": "execute_result"
    }
   ],
   "source": [
    "import numpy as np\n",
    "\n",
    "data = np.random.random(1000) # 값이 0 ~ 1 사이\n",
    "data.shape"
   ]
  },
  {
   "cell_type": "code",
   "execution_count": 22,
   "id": "0a9314d0",
   "metadata": {},
   "outputs": [
    {
     "data": {
      "text/plain": [
       "(array([ 97.,  90., 100.,  98.,  91., 133.,  96.,  89., 103., 103.]),\n",
       " array([0.00112571, 0.10094049, 0.20075528, 0.30057007, 0.40038486,\n",
       "        0.50019964, 0.60001443, 0.69982922, 0.79964401, 0.89945879,\n",
       "        0.99927358]),\n",
       " <BarContainer object of 10 artists>)"
      ]
     },
     "execution_count": 22,
     "metadata": {},
     "output_type": "execute_result"
    },
    {
     "data": {
      "image/png": "[encoded data removed]",
      "text/plain": [
       "<Figure size 640x480 with 1 Axes>"
      ]
     },
     "metadata": {},
     "output_type": "display_data"
    }
   ],
   "source": [
    "import matplotlib.pyplot as plt\n",
    "\n",
    "plt.hist(data)"
   ]
  },
  {
   "cell_type": "code",
   "execution_count": null,
   "id": "03d286e3",
   "metadata": {},
   "outputs": [
    {
     "data": {
      "text/plain": [
       "(1000,)"
      ]
     },
     "execution_count": 24,
     "metadata": {},
     "output_type": "execute_result"
    }
   ],
   "source": [
    "data = np.random.uniform(-1, 1, 1000) # 포함 아님\n",
    "data.shape"
   ]
  },
  {
   "cell_type": "code",
   "execution_count": 25,
   "id": "45bc6320",
   "metadata": {},
   "outputs": [
    {
     "data": {
      "text/plain": [
       "(array([ 99.,  86.,  94., 108., 108., 112., 102., 111.,  87.,  93.]),\n",
       " array([-9.99342396e-01, -7.99469895e-01, -5.99597394e-01, -3.99724893e-01,\n",
       "        -1.99852392e-01,  2.01083675e-05,  1.99892609e-01,  3.99765110e-01,\n",
       "         5.99637611e-01,  7.99510112e-01,  9.99382612e-01]),\n",
       " <BarContainer object of 10 artists>)"
      ]
     },
     "execution_count": 25,
     "metadata": {},
     "output_type": "execute_result"
    },
    {
     "data": {
      "image/png": "[encoded data removed]",
      "text/plain": [
       "<Figure size 640x480 with 1 Axes>"
      ]
     },
     "metadata": {},
     "output_type": "display_data"
    }
   ],
   "source": [
    "plt.hist(data)"
   ]
  },
  {
   "cell_type": "code",
   "execution_count": 30,
   "id": "1c6dc655",
   "metadata": {},
   "outputs": [
    {
     "data": {
      "text/plain": [
       "array([8, 4])"
      ]
     },
     "execution_count": 30,
     "metadata": {},
     "output_type": "execute_result"
    }
   ],
   "source": [
    "data = np.arange(1, 11)\n",
    "\n",
    "np.random.choice(data, 2, replace=False)\n",
    "np.random.choice(data, 2, replace=False)\n",
    "np.random.choice(data, 2, replace=False)\n",
    "np.random.choice(data, 2, replace=False)\n",
    "np.random.choice(data, 2, replace=False)\n",
    "np.random.choice(data, 2, replace=False)\n",
    "np.random.choice(data, 2, replace=False)"
   ]
  },
  {
   "cell_type": "code",
   "execution_count": 38,
   "id": "62af33fc",
   "metadata": {},
   "outputs": [
    {
     "data": {
      "text/plain": [
       "array([ 6, 10,  4,  5,  5])"
      ]
     },
     "execution_count": 38,
     "metadata": {},
     "output_type": "execute_result"
    }
   ],
   "source": [
    "np.random.choice(data, 5, replace=True) # 중복으로 "
   ]
  },
  {
   "cell_type": "code",
   "execution_count": 36,
   "id": "dbba615b",
   "metadata": {},
   "outputs": [
    {
     "data": {
      "text/plain": [
       "array([10,  9,  6,  7,  8])"
      ]
     },
     "execution_count": 36,
     "metadata": {},
     "output_type": "execute_result"
    }
   ],
   "source": [
    "np.random.choice(data, 5, replace=False) # 중복 없이"
   ]
  },
  {
   "cell_type": "code",
   "execution_count": 39,
   "id": "b857c52a",
   "metadata": {},
   "outputs": [
    {
     "data": {
      "text/plain": [
       "array([ 1,  2,  3,  4,  5,  6,  7,  8,  9, 10])"
      ]
     },
     "execution_count": 39,
     "metadata": {},
     "output_type": "execute_result"
    }
   ],
   "source": [
    "data"
   ]
  },
  {
   "cell_type": "code",
   "execution_count": 42,
   "id": "47bd5b42",
   "metadata": {},
   "outputs": [],
   "source": [
    "data = np.arange(1, 11)\n",
    "np.random.shuffle(data)"
   ]
  },
  {
   "cell_type": "code",
   "execution_count": 43,
   "id": "c9c7a5d4",
   "metadata": {},
   "outputs": [
    {
     "data": {
      "text/plain": [
       "array([ 4,  8,  1, 10,  5,  6,  9,  3,  7,  2])"
      ]
     },
     "execution_count": 43,
     "metadata": {},
     "output_type": "execute_result"
    }
   ],
   "source": [
    "data"
   ]
  },
  {
   "cell_type": "code",
   "execution_count": 50,
   "id": "90a8d250",
   "metadata": {},
   "outputs": [
    {
     "data": {
      "text/plain": [
       "array([1, 1, 1, 1, 1, 1, 1, 3, 1, 2])"
      ]
     },
     "execution_count": 50,
     "metadata": {},
     "output_type": "execute_result"
    }
   ],
   "source": [
    "data = np.arange(1, 4)\n",
    "np.random.choice(data, 10, p=[0.8, 0.1, 0.1]) # p 확률"
   ]
  },
  {
   "cell_type": "code",
   "execution_count": 49,
   "id": "1d8732b1",
   "metadata": {},
   "outputs": [
    {
     "data": {
      "text/plain": [
       "array([1, 2, 3])"
      ]
     },
     "execution_count": 49,
     "metadata": {},
     "output_type": "execute_result"
    }
   ],
   "source": [
    "data"
   ]
  },
  {
   "cell_type": "code",
   "execution_count": 51,
   "id": "3b8ae8a4",
   "metadata": {},
   "outputs": [
    {
     "data": {
      "text/plain": [
       "array([4, 2, 2, 4, 1, 6, 2, 2, 6, 4, 5, 1, 6, 6, 6, 3, 5, 2, 1, 5, 6, 1,\n",
       "       2, 6, 1, 3, 2, 4, 5, 4, 6, 2, 3, 6, 4, 3, 4, 2, 5, 6, 5, 4, 6, 5,\n",
       "       1, 5, 3, 4, 5, 5, 3, 1, 1, 5, 6, 2, 1, 2, 6, 6, 1, 1, 3, 3, 3, 1,\n",
       "       6, 2, 3, 1, 4, 2, 6, 3, 3, 6, 3, 5, 1, 4, 1, 1, 3, 1, 4, 4, 2, 5,\n",
       "       6, 2, 5, 5, 2, 3, 4, 2, 4, 6, 2, 1])"
      ]
     },
     "execution_count": 51,
     "metadata": {},
     "output_type": "execute_result"
    }
   ],
   "source": [
    "data = np.arange(1, 7)\n",
    "np.random.choice(data, 100) # 확률을 안 주면 uniform하다"
   ]
  },
  {
   "cell_type": "code",
   "execution_count": 56,
   "id": "ee864fb8",
   "metadata": {},
   "outputs": [
    {
     "data": {
      "text/plain": [
       "(1000,)"
      ]
     },
     "execution_count": 56,
     "metadata": {},
     "output_type": "execute_result"
    }
   ],
   "source": [
    "data = np.random.normal(0, 1, 1000)\n",
    "data.shape"
   ]
  },
  {
   "cell_type": "code",
   "execution_count": 57,
   "id": "9f7d7a77",
   "metadata": {},
   "outputs": [
    {
     "data": {
      "text/plain": [
       "(array([ 11.,  44., 100., 186., 245., 230., 120.,  46.,  14.,   4.]),\n",
       " array([-3.01068224, -2.35782433, -1.70496642, -1.05210851, -0.3992506 ,\n",
       "         0.25360731,  0.90646522,  1.55932313,  2.21218104,  2.86503895,\n",
       "         3.51789686]),\n",
       " <BarContainer object of 10 artists>)"
      ]
     },
     "execution_count": 57,
     "metadata": {},
     "output_type": "execute_result"
    },
    {
     "data": {
      "image/png": "[encoded data removed]",
      "text/plain": [
       "<Figure size 640x480 with 1 Axes>"
      ]
     },
     "metadata": {},
     "output_type": "display_data"
    }
   ],
   "source": [
    "plt.hist(data)"
   ]
  },
  {
   "cell_type": "code",
   "execution_count": 58,
   "id": "e3f4c126",
   "metadata": {},
   "outputs": [
    {
     "data": {
      "text/plain": [
       "(1000,)"
      ]
     },
     "execution_count": 58,
     "metadata": {},
     "output_type": "execute_result"
    }
   ],
   "source": [
    "data = np.random.randn(1000)\n",
    "data.shape"
   ]
  },
  {
   "cell_type": "code",
   "execution_count": 59,
   "id": "dad8aaa9",
   "metadata": {},
   "outputs": [
    {
     "data": {
      "text/plain": [
       "(array([  4.,  25.,  86., 165., 231., 229., 161.,  68.,  26.,   5.]),\n",
       " array([-3.11118192, -2.48464449, -1.85810707, -1.23156965, -0.60503222,\n",
       "         0.0215052 ,  0.64804262,  1.27458005,  1.90111747,  2.52765489,\n",
       "         3.15419232]),\n",
       " <BarContainer object of 10 artists>)"
      ]
     },
     "execution_count": 59,
     "metadata": {},
     "output_type": "execute_result"
    },
    {
     "data": {
      "image/png": "[encoded data removed]",
      "text/plain": [
       "<Figure size 640x480 with 1 Axes>"
      ]
     },
     "metadata": {},
     "output_type": "display_data"
    }
   ],
   "source": [
    "plt.hist(data)"
   ]
  },
  {
   "cell_type": "code",
   "execution_count": 60,
   "id": "bc90edc3",
   "metadata": {},
   "outputs": [
    {
     "data": {
      "text/plain": [
       "(100,)"
      ]
     },
     "execution_count": 60,
     "metadata": {},
     "output_type": "execute_result"
    }
   ],
   "source": [
    "data = np.random.randint(1,7,100)\n",
    "data.shape"
   ]
  },
  {
   "cell_type": "code",
   "execution_count": 61,
   "id": "18897983",
   "metadata": {},
   "outputs": [
    {
     "data": {
      "text/plain": [
       "(array([16.,  0., 18.,  0., 14.,  0., 11.,  0., 20., 21.]),\n",
       " array([1. , 1.5, 2. , 2.5, 3. , 3.5, 4. , 4.5, 5. , 5.5, 6. ]),\n",
       " <BarContainer object of 10 artists>)"
      ]
     },
     "execution_count": 61,
     "metadata": {},
     "output_type": "execute_result"
    },
    {
     "data": {
      "image/png": "[encoded data removed]",
      "text/plain": [
       "<Figure size 640x480 with 1 Axes>"
      ]
     },
     "metadata": {},
     "output_type": "display_data"
    }
   ],
   "source": [
    "plt.hist(data)"
   ]
  },
  {
   "cell_type": "code",
   "execution_count": null,
   "id": "6a5fb613",
   "metadata": {},
   "outputs": [
    {
     "data": {
      "text/plain": [
       "array([[1., 0., 0.],\n",
       "       [0., 1., 0.],\n",
       "       [0., 0., 1.]])"
      ]
     },
     "execution_count": 62,
     "metadata": {},
     "output_type": "execute_result"
    }
   ],
   "source": [
    "# 3*3 단위 행렬 만들기\n",
    "np.eye(3)"
   ]
  },
  {
   "cell_type": "code",
   "execution_count": 72,
   "id": "efef8cd9",
   "metadata": {},
   "outputs": [
    {
     "data": {
      "text/plain": [
       "array([[1., 1.],\n",
       "       [1., 1.],\n",
       "       [1., 1.]])"
      ]
     },
     "execution_count": 72,
     "metadata": {},
     "output_type": "execute_result"
    }
   ],
   "source": [
    "# 3개의 정수를 가지는 초기화되지 않은 배열 만들기\n",
    "v1 = np.empty((3,2))\n",
    "v1"
   ]
  },
  {
   "cell_type": "code",
   "execution_count": 73,
   "id": "ae6f4f2a",
   "metadata": {},
   "outputs": [
    {
     "data": {
      "text/plain": [
       "(array([[0., 0.],\n",
       "        [0., 0.],\n",
       "        [0., 0.]]),\n",
       " array([[1., 1.],\n",
       "        [1., 1.],\n",
       "        [1., 1.]]))"
      ]
     },
     "execution_count": 73,
     "metadata": {},
     "output_type": "execute_result"
    }
   ],
   "source": [
    "np.zeros((3,2)), np.ones((3,2))"
   ]
  },
  {
   "cell_type": "code",
   "execution_count": 74,
   "id": "6bbf494d",
   "metadata": {},
   "outputs": [
    {
     "data": {
      "text/plain": [
       "((100,), dtype('int32'))"
      ]
     },
     "execution_count": 74,
     "metadata": {},
     "output_type": "execute_result"
    }
   ],
   "source": [
    "data.shape, data.dtype"
   ]
  },
  {
   "cell_type": "code",
   "execution_count": 76,
   "id": "1bfefa0e",
   "metadata": {},
   "outputs": [
    {
     "data": {
      "text/plain": [
       "((3, 2), dtype('float64'))"
      ]
     },
     "execution_count": 76,
     "metadata": {},
     "output_type": "execute_result"
    }
   ],
   "source": [
    "data = np.zeros((3,2), dtype=\"float\")\n",
    "data.shape, data.dtype"
   ]
  },
  {
   "cell_type": "code",
   "execution_count": 82,
   "id": "97d7a44d",
   "metadata": {},
   "outputs": [
    {
     "data": {
      "text/plain": [
       "((3, 2), dtype('float32'))"
      ]
     },
     "execution_count": 82,
     "metadata": {},
     "output_type": "execute_result"
    }
   ],
   "source": [
    "#data = np.zeros((3,2), dtype=np.float31) #AttributeError: module 'numpy' has no attribute 'float31'\n",
    "#data = np.zeros((3,2), dtype=np.float) # AttributeError: module 'numpy' has no attribute 'float'.`np.float` was a deprecated alias for the builtin `float`. To avoid this error in existing code, use `float` by itself. Doing this will not modify any behavior and is safe. If you specifically wanted the numpy scalar type, use `np.float64` here. The aliases was originally deprecated in NumPy 1.20;\n",
    "data = np.zeros((3,2), dtype=np.float32)\n",
    "data.shape, data.dtype"
   ]
  },
  {
   "cell_type": "code",
   "execution_count": 84,
   "id": "e238f23a",
   "metadata": {},
   "outputs": [
    {
     "data": {
      "text/plain": [
       "array([[9, 4, 2, 1],\n",
       "       [5, 9, 7, 5],\n",
       "       [5, 7, 4, 1]], dtype=int32)"
      ]
     },
     "execution_count": 84,
     "metadata": {},
     "output_type": "execute_result"
    }
   ],
   "source": [
    "data = np.random.randint(1,10,(3,4))\n",
    "data"
   ]
  },
  {
   "cell_type": "code",
   "execution_count": 99,
   "id": "5b9e084e",
   "metadata": {},
   "outputs": [
    {
     "data": {
      "text/plain": [
       "array([ 1.93677465,  0.2816269 ,  1.04018236, -0.38856856, -0.60508093,\n",
       "        0.47231637,  0.11986742, -1.26389461, -1.13281942, -2.58688209])"
      ]
     },
     "execution_count": 99,
     "metadata": {},
     "output_type": "execute_result"
    }
   ],
   "source": [
    "data = np.random.randn(10)\n",
    "data"
   ]
  },
  {
   "cell_type": "code",
   "execution_count": 95,
   "id": "b645df0b",
   "metadata": {},
   "outputs": [
    {
     "data": {
      "text/plain": [
       "array([[-0.6503194 , -0.16995548,  1.08381623,  0.721088  ],\n",
       "       [ 0.70746045,  2.42343139,  0.17640336,  0.99315882],\n",
       "       [ 0.69982605,  0.73380012,  0.01293947,  0.14270548]])"
      ]
     },
     "execution_count": 95,
     "metadata": {},
     "output_type": "execute_result"
    }
   ],
   "source": [
    "data = np.random.normal(0,1,(3,4))\n",
    "data"
   ]
  },
  {
   "cell_type": "code",
   "execution_count": 100,
   "id": "825e49b3",
   "metadata": {},
   "outputs": [
    {
     "data": {
      "text/plain": [
       "((10,), dtype('float64'), 1, 10)"
      ]
     },
     "execution_count": 100,
     "metadata": {},
     "output_type": "execute_result"
    }
   ],
   "source": [
    "data.shape, data.dtype, data.ndim, data.size"
   ]
  },
  {
   "cell_type": "code",
   "execution_count": null,
   "id": "e19f0529",
   "metadata": {},
   "outputs": [
    {
     "data": {
      "text/plain": [
       "array([[6, 3, 7, 4],\n",
       "       [6, 9, 2, 6],\n",
       "       [7, 4, 3, 7]], dtype=int32)"
      ]
     },
     "execution_count": 110,
     "metadata": {},
     "output_type": "execute_result"
    }
   ],
   "source": [
    "# 다차원 배열\n",
    "np.random.seed(42)\n",
    "data = np.random.randint(0,10,(3,4))\n",
    "data"
   ]
  },
  {
   "cell_type": "code",
   "execution_count": 128,
   "id": "6190f3d1",
   "metadata": {},
   "outputs": [
    {
     "data": {
      "text/plain": [
       "array([7, 2, 5, 4], dtype=int32)"
      ]
     },
     "execution_count": 128,
     "metadata": {},
     "output_type": "execute_result"
    }
   ],
   "source": [
    "# row 0을 slicing\n",
    "data[0]"
   ]
  },
  {
   "cell_type": "code",
   "execution_count": 130,
   "id": "f3273587",
   "metadata": {},
   "outputs": [
    {
     "data": {
      "text/plain": [
       "array([7, 1, 4], dtype=int32)"
      ]
     },
     "execution_count": 130,
     "metadata": {},
     "output_type": "execute_result"
    }
   ],
   "source": [
    "# col 0을 slicing\n",
    "data[:, 0]"
   ]
  },
  {
   "cell_type": "code",
   "execution_count": 127,
   "id": "082d48aa",
   "metadata": {},
   "outputs": [
    {
     "data": {
      "text/plain": [
       "array([7, 5], dtype=int32)"
      ]
     },
     "execution_count": 127,
     "metadata": {},
     "output_type": "execute_result"
    }
   ],
   "source": [
    "data[1, 1:3]"
   ]
  },
  {
   "cell_type": "code",
   "execution_count": 114,
   "id": "64cf7490",
   "metadata": {},
   "outputs": [
    {
     "data": {
      "text/plain": [
       "array([[7, 2, 5, 4],\n",
       "       [1, 7, 5, 1],\n",
       "       [4, 0, 9, 5]], dtype=int32)"
      ]
     },
     "execution_count": 114,
     "metadata": {},
     "output_type": "execute_result"
    }
   ],
   "source": [
    "data = np.random.randint(0,10,(3,4))\n",
    "data"
   ]
  },
  {
   "cell_type": "code",
   "execution_count": 120,
   "id": "c72da102",
   "metadata": {},
   "outputs": [
    {
     "data": {
      "text/plain": [
       "array([0, 9, 5], dtype=int32)"
      ]
     },
     "execution_count": 120,
     "metadata": {},
     "output_type": "execute_result"
    }
   ],
   "source": [
    "data[2, 1:4]"
   ]
  },
  {
   "cell_type": "code",
   "execution_count": 121,
   "id": "c54fa45d",
   "metadata": {},
   "outputs": [
    {
     "data": {
      "text/plain": [
       "array([[7, 5],\n",
       "       [0, 9]], dtype=int32)"
      ]
     },
     "execution_count": 121,
     "metadata": {},
     "output_type": "execute_result"
    }
   ],
   "source": [
    "data[1:3,1:3]"
   ]
  },
  {
   "cell_type": "code",
   "execution_count": 125,
   "id": "b5a8bdd8",
   "metadata": {},
   "outputs": [
    {
     "data": {
      "text/plain": [
       "array([[7, 2, 5, 4],\n",
       "       [1, 7, 5, 1],\n",
       "       [4, 0, 9, 5]], dtype=int32)"
      ]
     },
     "execution_count": 125,
     "metadata": {},
     "output_type": "execute_result"
    }
   ],
   "source": [
    "# 모든 열 가져오고 싶다\n",
    "data[:, ]"
   ]
  },
  {
   "cell_type": "code",
   "execution_count": 126,
   "id": "1c0e8008",
   "metadata": {},
   "outputs": [
    {
     "data": {
      "text/plain": [
       "array([4, 1, 5], dtype=int32)"
      ]
     },
     "execution_count": 126,
     "metadata": {},
     "output_type": "execute_result"
    }
   ],
   "source": [
    "# 마지막 \"열\"\n",
    "data[:, -1]"
   ]
  },
  {
   "cell_type": "code",
   "execution_count": 131,
   "id": "7ee5b96d",
   "metadata": {},
   "outputs": [
    {
     "data": {
      "text/plain": [
       "array([0, 9, 5], dtype=int32)"
      ]
     },
     "execution_count": 131,
     "metadata": {},
     "output_type": "execute_result"
    }
   ],
   "source": [
    "data[2, 1:4]"
   ]
  },
  {
   "cell_type": "code",
   "execution_count": 150,
   "id": "9f98b994",
   "metadata": {},
   "outputs": [
    {
     "data": {
      "text/plain": [
       "(55, 30)"
      ]
     },
     "execution_count": 150,
     "metadata": {},
     "output_type": "execute_result"
    }
   ],
   "source": [
    "# 짝수만 더하기\n",
    "def get_even(x):\n",
    "    for i in x:\n",
    "        if i % 2 != 0:\n",
    "            x.remove(i)\n",
    "    return x\n",
    "\n",
    "x = list(range(1, 11))\n",
    "new_x = get_even(x[:])\n",
    "sum(x), sum(new_x)"
   ]
  },
  {
   "cell_type": "code",
   "execution_count": 155,
   "id": "32561113",
   "metadata": {},
   "outputs": [
    {
     "data": {
      "text/plain": [
       "np.int64(55)"
      ]
     },
     "execution_count": 155,
     "metadata": {},
     "output_type": "execute_result"
    }
   ],
   "source": [
    "# 짝수만 더하기\n",
    "def get_even(x):\n",
    "    for i in x:\n",
    "        if i % 2 != 0:\n",
    "            np.delete(x, i)\n",
    "    return x\n",
    "\n",
    "x = np.array(range(1, 11))\n",
    "get_even(x.copy())\n",
    "sum(x)"
   ]
  },
  {
   "cell_type": "code",
   "execution_count": 157,
   "id": "370b8df8",
   "metadata": {},
   "outputs": [
    {
     "data": {
      "text/plain": [
       "(array([[7, 4, 8],\n",
       "        [5, 7, 3]], dtype=int32),\n",
       " (2, 3))"
      ]
     },
     "execution_count": 157,
     "metadata": {},
     "output_type": "execute_result"
    }
   ],
   "source": [
    "np.random.seed(42)\n",
    "data = np.random.randint(1,10,(2,3))\n",
    "data, data.shape"
   ]
  },
  {
   "cell_type": "code",
   "execution_count": null,
   "id": "d45fecad",
   "metadata": {},
   "outputs": [
    {
     "data": {
      "text/plain": [
       "array([[7, 4, 8, 5, 7, 3]], dtype=int32)"
      ]
     },
     "execution_count": 158,
     "metadata": {},
     "output_type": "execute_result"
    }
   ],
   "source": [
    "data.reshape(1, 6) # 새로운 ndarray 반환"
   ]
  },
  {
   "cell_type": "code",
   "execution_count": null,
   "id": "49fde27a",
   "metadata": {},
   "outputs": [
    {
     "data": {
      "text/plain": [
       "array([[7, 4],\n",
       "       [8, 5],\n",
       "       [7, 3]], dtype=int32)"
      ]
     },
     "execution_count": 159,
     "metadata": {},
     "output_type": "execute_result"
    }
   ],
   "source": [
    "data.reshape(3,2) # 새로운 ndarray 반환"
   ]
  },
  {
   "cell_type": "code",
   "execution_count": null,
   "id": "c40b1dc3",
   "metadata": {},
   "outputs": [
    {
     "data": {
      "text/plain": [
       "array([[7, 4, 8],\n",
       "       [5, 7, 3]], dtype=int32)"
      ]
     },
     "execution_count": 161,
     "metadata": {},
     "output_type": "execute_result"
    }
   ],
   "source": [
    "data # 원본엔 변경이 없네"
   ]
  },
  {
   "cell_type": "code",
   "execution_count": 12,
   "id": "05fb885d",
   "metadata": {},
   "outputs": [
    {
     "data": {
      "text/plain": [
       "array([-0.49282589,  0.3179108 , -1.27602524])"
      ]
     },
     "execution_count": 12,
     "metadata": {},
     "output_type": "execute_result"
    }
   ],
   "source": [
    "data = np.random.normal(0, 1,(3))\n",
    "data"
   ]
  },
  {
   "cell_type": "code",
   "execution_count": 4,
   "id": "0d8aeca0",
   "metadata": {},
   "outputs": [
    {
     "data": {
      "text/plain": [
       "array([[ 0.16714185,  1.16507457, -0.72810537]])"
      ]
     },
     "execution_count": 4,
     "metadata": {},
     "output_type": "execute_result"
    }
   ],
   "source": [
    "data.reshape(1,3)"
   ]
  },
  {
   "cell_type": "markdown",
   "id": "eb2a3163",
   "metadata": {},
   "source": [
    "###numpy.newaxis\n",
    "##### numpy 배열에 새로운 축(새로운 차원)을 추가하는데 사용하는 인덱싱 객체\n",
    "###### 예시)\n",
    "###### 1차원 array 생성\n",
    "###### arr = numpy.arange(1, 5) -> 결과 : array([1, 2, 3, 4])\n",
    "######\n",
    "###### 열 벡터로 변환\n",
    "###### row_vec = arr[numpy.axis, :] -> 결과 : array([[1, 2, 3, 4]]) -> (1,4)의 row vector!\n",
    "######\n",
    "###### 행 벡터로 변환\n",
    "###### col_vec = arr[:, numpy.axis] -> 결과 : array([[1],[2],[3],[4]]) -> (4,1)의 column vector!"
   ]
  },
  {
   "cell_type": "code",
   "execution_count": 17,
   "id": "3bb09b8e",
   "metadata": {},
   "outputs": [
    {
     "data": {
      "text/plain": [
       "array([[ 0.3179108 , -1.27602524]])"
      ]
     },
     "execution_count": 17,
     "metadata": {},
     "output_type": "execute_result"
    }
   ],
   "source": [
    "data[np.newaxis, 1:3]"
   ]
  },
  {
   "cell_type": "code",
   "execution_count": 18,
   "id": "f4ee3833",
   "metadata": {},
   "outputs": [
    {
     "data": {
      "text/plain": [
       "array([[-0.49282589,  0.3179108 , -1.27602524]])"
      ]
     },
     "execution_count": 18,
     "metadata": {},
     "output_type": "execute_result"
    }
   ],
   "source": [
    "data[np.newaxis, :] # 1 3"
   ]
  },
  {
   "cell_type": "code",
   "execution_count": 26,
   "id": "c4e81dd0",
   "metadata": {},
   "outputs": [
    {
     "data": {
      "text/plain": [
       "array([[-0.49282589],\n",
       "       [ 0.3179108 ],\n",
       "       [-1.27602524]])"
      ]
     },
     "execution_count": 26,
     "metadata": {},
     "output_type": "execute_result"
    }
   ],
   "source": [
    "data[0:3, np.newaxis]"
   ]
  },
  {
   "cell_type": "code",
   "execution_count": 19,
   "id": "b109a197",
   "metadata": {},
   "outputs": [
    {
     "data": {
      "text/plain": [
       "array([[-0.49282589],\n",
       "       [ 0.3179108 ],\n",
       "       [-1.27602524]])"
      ]
     },
     "execution_count": 19,
     "metadata": {},
     "output_type": "execute_result"
    }
   ],
   "source": [
    "data[:, np.newaxis] # 3 1"
   ]
  },
  {
   "cell_type": "code",
   "execution_count": 167,
   "id": "ef9ef8c6",
   "metadata": {},
   "outputs": [
    {
     "data": {
      "text/plain": [
       "array([[-0.094621  ],\n",
       "       [-0.9288281 ],\n",
       "       [-0.88523035]])"
      ]
     },
     "execution_count": 167,
     "metadata": {},
     "output_type": "execute_result"
    }
   ],
   "source": [
    "data[:, None]"
   ]
  },
  {
   "cell_type": "code",
   "execution_count": 168,
   "id": "412e8c35",
   "metadata": {},
   "outputs": [
    {
     "data": {
      "text/plain": [
       "array([[-0.094621  , -0.9288281 , -0.88523035]])"
      ]
     },
     "execution_count": 168,
     "metadata": {},
     "output_type": "execute_result"
    }
   ],
   "source": [
    "data[None, :]"
   ]
  },
  {
   "cell_type": "code",
   "execution_count": null,
   "id": "5098d150",
   "metadata": {},
   "outputs": [],
   "source": [
    "# A\n",
    "# Union\n",
    "# B"
   ]
  },
  {
   "cell_type": "code",
   "execution_count": 173,
   "id": "302df9a3",
   "metadata": {},
   "outputs": [
    {
     "data": {
      "text/plain": [
       "((2, 3), (2, 3))"
      ]
     },
     "execution_count": 173,
     "metadata": {},
     "output_type": "execute_result"
    }
   ],
   "source": [
    "data1 = np.random.normal(0, 10,(2,3))\n",
    "data2 = np.random.normal(0, 10,(2,3))\n",
    "data1.shape, data2.shape"
   ]
  },
  {
   "cell_type": "code",
   "execution_count": null,
   "id": "880a37f3",
   "metadata": {},
   "outputs": [
    {
     "data": {
      "text/plain": [
       "(4, 3)"
      ]
     },
     "execution_count": 175,
     "metadata": {},
     "output_type": "execute_result"
    }
   ],
   "source": [
    "np.concatenate((data1, data2)).shape # 위 아래로 붙었다"
   ]
  },
  {
   "cell_type": "code",
   "execution_count": null,
   "id": "579bbe28",
   "metadata": {},
   "outputs": [
    {
     "data": {
      "text/plain": [
       "(2, 6)"
      ]
     },
     "execution_count": 176,
     "metadata": {},
     "output_type": "execute_result"
    }
   ],
   "source": [
    "np.concatenate((data1, data2), axis=1).shape # axis default는 0(세로) 1(가로) -> 더 찾아보기!"
   ]
  },
  {
   "cell_type": "code",
   "execution_count": 177,
   "id": "b188988f",
   "metadata": {},
   "outputs": [
    {
     "data": {
      "text/plain": [
       "array([[14.86980958, -0.24455177,  3.55551317],\n",
       "       [ 4.1701111 ,  8.32461857, -2.93399146]])"
      ]
     },
     "execution_count": 177,
     "metadata": {},
     "output_type": "execute_result"
    }
   ],
   "source": [
    "data1"
   ]
  },
  {
   "cell_type": "code",
   "execution_count": 178,
   "id": "9ce718b3",
   "metadata": {},
   "outputs": [],
   "source": [
    "col = np.array([5, 3])"
   ]
  },
  {
   "cell_type": "code",
   "execution_count": null,
   "id": "c3109b6a",
   "metadata": {},
   "outputs": [
    {
     "ename": "ValueError",
     "evalue": "all the input arrays must have same number of dimensions, but the array at index 0 has 2 dimension(s) and the array at index 1 has 1 dimension(s)",
     "output_type": "error",
     "traceback": [
      "\u001b[1;31m---------------------------------------------------------------------------\u001b[0m",
      "\u001b[1;31mValueError\u001b[0m                                Traceback (most recent call last)",
      "Cell \u001b[1;32mIn[179], line 1\u001b[0m\n\u001b[1;32m----> 1\u001b[0m \u001b[43mnp\u001b[49m\u001b[38;5;241;43m.\u001b[39;49m\u001b[43mconcatenate\u001b[49m\u001b[43m(\u001b[49m\u001b[43m(\u001b[49m\u001b[43mdata1\u001b[49m\u001b[43m,\u001b[49m\u001b[43m \u001b[49m\u001b[43mcol\u001b[49m\u001b[43m)\u001b[49m\u001b[43m,\u001b[49m\u001b[43m \u001b[49m\u001b[43maxis\u001b[49m\u001b[38;5;241;43m=\u001b[39;49m\u001b[38;5;241;43m1\u001b[39;49m\u001b[43m)\u001b[49m\u001b[38;5;241m.\u001b[39mshape\n",
      "\u001b[1;31mValueError\u001b[0m: all the input arrays must have same number of dimensions, but the array at index 0 has 2 dimension(s) and the array at index 1 has 1 dimension(s)"
     ]
    }
   ],
   "source": [
    "# 같은 차원이어야 한다! must have same number of dimensions\n",
    "np.concatenate((data1, col), axis=1).shape # ValueError: all the input arrays must have same number of dimensions, but the array at index 0 has 2 dimension(s) and the array at index 1 has 1 dimension(s)"
   ]
  },
  {
   "cell_type": "code",
   "execution_count": 185,
   "id": "e93dc8dd",
   "metadata": {},
   "outputs": [
    {
     "name": "stdout",
     "output_type": "stream",
     "text": [
      "[[14.86980958 -0.24455177  3.55551317  5.        ]\n",
      " [ 4.1701111   8.32461857 -2.93399146  3.        ]]\n",
      "(2, 4)\n"
     ]
    }
   ],
   "source": [
    "new_data1 = np.concatenate((data1, col[:, None]), axis=1)\n",
    "\n",
    "print(new_data1)\n",
    "print(new_data1.shape)"
   ]
  },
  {
   "cell_type": "code",
   "execution_count": null,
   "id": "79c5456f",
   "metadata": {},
   "outputs": [],
   "source": [
    "np.c_[(data1, data2)].shape"
   ]
  },
  {
   "cell_type": "code",
   "execution_count": null,
   "id": "a45cc22f",
   "metadata": {},
   "outputs": [],
   "source": [
    "np.hstack[(data1, data2)].shape"
   ]
  },
  {
   "cell_type": "code",
   "execution_count": null,
   "id": "fb748190",
   "metadata": {},
   "outputs": [],
   "source": [
    "np.ver[(data1, data2)].shape"
   ]
  },
  {
   "cell_type": "code",
   "execution_count": 187,
   "id": "e9732ddb",
   "metadata": {},
   "outputs": [
    {
     "data": {
      "text/plain": [
       "(100,)"
      ]
     },
     "execution_count": 187,
     "metadata": {},
     "output_type": "execute_result"
    }
   ],
   "source": [
    "index = np.arange(100)\n",
    "index.shape"
   ]
  },
  {
   "cell_type": "code",
   "execution_count": 188,
   "id": "5017d39a",
   "metadata": {},
   "outputs": [
    {
     "data": {
      "text/plain": [
       "[array([ 0,  1,  2,  3,  4,  5,  6,  7,  8,  9, 10, 11, 12, 13, 14, 15, 16,\n",
       "        17, 18, 19]),\n",
       " array([20, 21, 22, 23, 24, 25, 26, 27, 28, 29, 30, 31, 32, 33, 34, 35, 36,\n",
       "        37, 38, 39, 40, 41, 42, 43, 44, 45, 46, 47, 48, 49, 50, 51, 52, 53,\n",
       "        54, 55, 56, 57, 58, 59, 60, 61, 62, 63, 64, 65, 66, 67, 68, 69, 70,\n",
       "        71, 72, 73, 74, 75, 76, 77, 78, 79, 80, 81, 82, 83, 84, 85, 86, 87,\n",
       "        88, 89, 90, 91, 92, 93, 94, 95, 96, 97, 98, 99])]"
      ]
     },
     "execution_count": 188,
     "metadata": {},
     "output_type": "execute_result"
    }
   ],
   "source": [
    "np.split(index, [20])"
   ]
  },
  {
   "cell_type": "code",
   "execution_count": 192,
   "id": "b2767ca8",
   "metadata": {},
   "outputs": [
    {
     "data": {
      "text/plain": [
       "(array([ 0,  1,  2,  3,  4,  5,  6,  7,  8,  9, 10, 11, 12, 13, 14, 15, 16,\n",
       "        17, 18, 19]),\n",
       " array([20, 21, 22, 23, 24, 25, 26, 27, 28, 29, 30, 31, 32, 33, 34, 35, 36,\n",
       "        37, 38, 39, 40, 41, 42, 43, 44, 45, 46, 47, 48, 49, 50, 51, 52, 53,\n",
       "        54, 55, 56, 57, 58, 59, 60, 61, 62, 63, 64, 65, 66, 67, 68, 69, 70,\n",
       "        71, 72, 73, 74, 75, 76, 77, 78, 79, 80, 81, 82, 83, 84, 85, 86, 87,\n",
       "        88, 89, 90, 91, 92, 93, 94, 95, 96, 97, 98, 99]))"
      ]
     },
     "execution_count": 192,
     "metadata": {},
     "output_type": "execute_result"
    }
   ],
   "source": [
    "a1, a2 = np.split(index, [20])\n",
    "\n",
    "a1, a2"
   ]
  },
  {
   "cell_type": "code",
   "execution_count": 191,
   "id": "9acd8d17",
   "metadata": {},
   "outputs": [
    {
     "data": {
      "text/plain": [
       "((20,), (60,), (20,))"
      ]
     },
     "execution_count": 191,
     "metadata": {},
     "output_type": "execute_result"
    }
   ],
   "source": [
    "a1, a2, a3 = np.split(index, [20, 80])\n",
    "\n",
    "a1.shape, a2.shape, a3.shape"
   ]
  }
 ],
 "metadata": {
  "kernelspec": {
   "display_name": "Python 3",
   "language": "python",
   "name": "python3"
  },
  "language_info": {
   "codemirror_mode": {
    "name": "ipython",
    "version": 3
   },
   "file_extension": ".py",
   "mimetype": "text/x-python",
   "name": "python",
   "nbconvert_exporter": "python",
   "pygments_lexer": "ipython3",
   "version": "3.9.13"
  }
 },
 "nbformat": 4,
 "nbformat_minor": 5
}
