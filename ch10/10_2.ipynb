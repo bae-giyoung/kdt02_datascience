{
 "cells": [
  {
   "cell_type": "markdown",
   "id": "46294076",
   "metadata": {},
   "source": [
    "# 선형회귀(Numpy)\n",
    "> 선형 회귀는 독립 변수(x)와 종속 변수(y)간의 선형 관계를 모델링해서 예측하는 통계기법\n",
    "\n",
    "## 모델\n",
    "- 단순 모델 : y = ax + b\n",
    "- 다중 모델 : y = a1x1 + a2x2 + ... + anxn + b\n",
    "\n",
    "## 머신 러닝 활용\n",
    "- y와 x가 결정 => {a, b} 매개 변수를 찾아야 함.\n",
    "- y와 x가 선형 관계를 가져야 함. \n",
    "- 이상치와 다중공선성.\n",
    "- 다중공선성이 있다 -> 전처리를 잘못했다. 원데이터로부터 파생테이터를 잘못만들었다. -> 결측치 어떻게 봉합니까?\n",
    "- 데이터가 상관관계가 있다고 믿는다. -> 데이터간의 관계를 만든다.\n",
    "- 지도 학습, 비지도 학습\n",
    "- 비지도 학습은 군집 알고리즘이 핵심: 비슷한 애들까리 묶는다. 경향성이 있다. 군집.\n",
    "\n",
    "## {a, b} 매개 변수를 찾아야 함!\n",
    "- 매개변수를 찾는 방법: 최소제곱법, 경사하강법\n",
    "- 평가는 : MSE, R^2\n",
    "\n",
    "\n",
    "###### [깨알 노트]\n",
    "###### 점과 직선의 방정식"
   ]
  },
  {
   "cell_type": "markdown",
   "id": "37266d27",
   "metadata": {},
   "source": [
    "---"
   ]
  },
  {
   "cell_type": "markdown",
   "id": "14d2d503",
   "metadata": {},
   "source": [
    "## 예제1. \n",
    ">어떤 회사의 연도별 매출이 광고비에 의존한다고 가정하자(선형**이기 때문에!)\n",
    "><br>아래 데이터가 주어질 때, 광고비가 8일 때 매출을 예상하세요!\n",
    "\n",
    "|광고비|매출|\n",
    ":---|:---:\n",
    "|2|81|\n",
    "|4|93|\n",
    "|6|91|\n",
    "|8|?|\n",
    "\n",
    "    -> 광고비 x 이고, 매출 y라고 생각.\n",
    "       종속 y를 찾으세요 라는 문제로 생각!\n",
    "\n",
    "    -> y = ax + b\n",
    "        81 = 2a + b\n",
    "        93 = 4a + b\n",
    "        91 = 6a + b\n",
    "        ? = 8a + b\n",
    "\n",
    "    -> 방법1: 무차별 대입법(반복문으로)\n",
    "    -> 방법2: 연립방정식\n",
    "    -> 방법3: 최소제곱법\n",
    "    -> 방법4: 경사하강법"
   ]
  },
  {
   "cell_type": "code",
   "execution_count": 1,
   "id": "404a6aa9",
   "metadata": {},
   "outputs": [
    {
     "name": "stdout",
     "output_type": "stream",
     "text": [
      "기울기: 2.50, 절편 : 78.33\n",
      "광고비(8) 예측 매출: 98.33\n"
     ]
    }
   ],
   "source": [
    "import numpy as np\n",
    "\n",
    "# 데이터 준비\n",
    "X = np.array([2,4,6])\n",
    "y = np.array([81, 93, 91])\n",
    "\n",
    "# 최소제곱법(평균)\n",
    "X_mean = np.mean(X)\n",
    "y_mean = np.mean(y)\n",
    "\n",
    "# 최소제곱법(계산)\n",
    "# Cov(x,y) / Var(x) => a를 구하는 방법(통계)\n",
    "# a = np.sum((X - X_mean) * (y - y_mean)) / np.sum((X-X_mean)**2)\n",
    "# b = y_mean - a * X_mean\n",
    "X = np.column_stack([X, np.ones(len(X))])\n",
    "a, b = np.linalg.lstsq(X, y)[0]\n",
    "\n",
    "print(f\"기울기: {a:.2f}, 절편 : {b:.2f}\")\n",
    "\n",
    "x_pred = 8\n",
    "y_pred = a * x_pred + b\n",
    "print(f\"광고비(8) 예측 매출: {y_pred:.2f}\")"
   ]
  },
  {
   "cell_type": "markdown",
   "id": "584e5644",
   "metadata": {},
   "source": [
    "---"
   ]
  },
  {
   "cell_type": "markdown",
   "id": "5210a57b",
   "metadata": {},
   "source": [
    "## 예제2: \n",
    ">어떤 회사의 \n",
    "\n",
    "가격(x1)|온도(x2)|판매량(y)\n",
    ":---|:---:|:---\n",
    "5|20|65\n",
    "7|22|70\n",
    "9|23|60\n",
    "8|24|?\n",
    "\n",
    "- y = a1x1 + a2x2 + b"
   ]
  },
  {
   "cell_type": "code",
   "execution_count": 2,
   "id": "09c6e188",
   "metadata": {},
   "outputs": [
    {
     "name": "stdout",
     "output_type": "stream",
     "text": [
      "기울기1: -12.50, 기울기2: 15.00, 절편 : -172.50\n",
      "87.50\n"
     ]
    }
   ],
   "source": [
    "import numpy as np\n",
    "\n",
    "# 데이터 준비\n",
    "X = np.array([[5,20], [7,22], [9,23]])\n",
    "y = np.array([65, 70, 60])\n",
    "X_bias = np.column_stack([X, np.ones(len(X))])\n",
    "# 최소제곱법(계산)\n",
    "coeffs = np.linalg.lstsq(X_bias, y)[0]\n",
    "print(f\"기울기1: {coeffs[0]:.2f}, 기울기2: {coeffs[1]:.2f}, 절편 : {coeffs[-1]:.2f}\")\n",
    "y_pred = np.dot([8,24,1], coeffs)\n",
    "print(f\"{y_pred:.2f}\")"
   ]
  },
  {
   "cell_type": "markdown",
   "id": "42f4f09e",
   "metadata": {},
   "source": [
    "2x + 3y = 8\n",
    "\n",
    "[[2 3]\n",
    " [4 -1]]\n",
    "\n",
    "[[X]\n",
    " [y]]\n",
    "\n",
    "* \n",
    "* 역행렬은 항상 존재하는 것이 아니기 때문에 "
   ]
  },
  {
   "cell_type": "markdown",
   "id": "ac36a397",
   "metadata": {},
   "source": [
    "# Numpy를 활용한 선형회귀 모델(v2)"
   ]
  },
  {
   "cell_type": "markdown",
   "id": "9735f774",
   "metadata": {},
   "source": [
    "> pip install scikit-learn 설치하세요"
   ]
  },
  {
   "cell_type": "code",
   "execution_count": 3,
   "id": "ecd97bec",
   "metadata": {},
   "outputs": [],
   "source": [
    "import matplotlib.pyplot as plt\n",
    "import seaborn as sns\n",
    "import numpy as np\n",
    "import pandas as pd\n",
    "from sklearn.datasets import load_iris"
   ]
  },
  {
   "cell_type": "code",
   "execution_count": 4,
   "id": "8c8d8d4c",
   "metadata": {},
   "outputs": [],
   "source": [
    "iris = load_iris()\n",
    "iris_df = pd.DataFrame(data=iris.data, columns=iris.feature_names)\n",
    "iris_df[\"target\"] = iris.target"
   ]
  },
  {
   "cell_type": "code",
   "execution_count": 5,
   "id": "ecd6758c",
   "metadata": {},
   "outputs": [],
   "source": [
    "#sns.pairplot(iris_df, hue=\"target\")\n",
    "#plt.suptitle(\"Iris Data Pair Plot\")\n",
    "#plt.show()"
   ]
  },
  {
   "cell_type": "code",
   "execution_count": 6,
   "id": "6468dcc4",
   "metadata": {},
   "outputs": [],
   "source": [
    "# 1. 데이터 전처리\n",
    "# 2. (전처리 데이터로) 모델 만들기\n",
    "# 3. 예측"
   ]
  },
  {
   "cell_type": "code",
   "execution_count": 7,
   "id": "3d49d650",
   "metadata": {},
   "outputs": [],
   "source": [
    "# 학습 데이터 뽑기: 이렇게 범주형, 카테고리가 나눠져 있는 데이터는 각 카테고리별로 균질하게 뽑아야 한다.\n",
    "# 데이터 크기에 따라 아래 중 하나의 비율로 나눔\n",
    "# * 70:30\n",
    "# * 80:20\n",
    "# * 75:25"
   ]
  },
  {
   "cell_type": "markdown",
   "id": "558c6a8c",
   "metadata": {},
   "source": [
    "# 데이터 조작(학습용 데이터)"
   ]
  },
  {
   "cell_type": "code",
   "execution_count": 8,
   "id": "59a30a6d",
   "metadata": {},
   "outputs": [
    {
     "name": "stdout",
     "output_type": "stream",
     "text": [
      "(150, 3) (150,)\n"
     ]
    }
   ],
   "source": [
    "X = np.column_stack([iris.data[:, 0], \n",
    "                     iris.data[:, 2], \n",
    "                     iris.data[:, 3]])\n",
    "y = iris.data[:, 1]\n",
    "print(X.shape, y.shape)"
   ]
  },
  {
   "cell_type": "code",
   "execution_count": 9,
   "id": "ac8257b9",
   "metadata": {},
   "outputs": [],
   "source": [
    "# 학습데이터 뽑기\n",
    "def custom_train_test_split(X, y, test_size=0.3, random_state=42):\n",
    "    np.random.seed(random_state)\n",
    "    \n",
    "    indices = np.random.permutation(len(X))\n",
    "    split_idx = int(len(X) * (1 - test_size))\n",
    "    train_idx = indices[:split_idx]\n",
    "    test_idx = indices[split_idx:]\n",
    "\n",
    "    X_train = X[train_idx]\n",
    "    X_test = X[test_idx]\n",
    "    y_train = y[train_idx]\n",
    "    y_test = y[test_idx]\n",
    "\n",
    "    return X_train, X_test, y_train, y_test"
   ]
  },
  {
   "cell_type": "code",
   "execution_count": 10,
   "id": "60cdb278",
   "metadata": {},
   "outputs": [
    {
     "name": "stdout",
     "output_type": "stream",
     "text": [
      "(105, 3) (45, 3) (105,) (45,)\n"
     ]
    }
   ],
   "source": [
    "X_train, X_test, y_train, y_test = custom_train_test_split(X, y)\n",
    "print(X_train.shape, X_test.shape, y_train.shape, y_test.shape)"
   ]
  },
  {
   "cell_type": "code",
   "execution_count": 11,
   "id": "d119425f",
   "metadata": {},
   "outputs": [],
   "source": [
    "# 최소제곱법\n",
    "def fit_linear_regreesion_lsq(X, y):\n",
    "    X_bias = np.column_stack([np.ones(len(X)), X]) # 매개변수 순서!\n",
    "    cofficients, _, _, _ = np.linalg.lstsq(X_bias, y)\n",
    "    intercept_ = cofficients[0]\n",
    "    coef_ = cofficients[1:]\n",
    "    return coef_, intercept_"
   ]
  },
  {
   "cell_type": "code",
   "execution_count": 12,
   "id": "9886ea36",
   "metadata": {},
   "outputs": [],
   "source": [
    "# 경사하강법\n",
    "def fit_linear_regression_gd(X, y, \n",
    "                             learning_rate=0.01, \n",
    "                             max_iter=1000,\n",
    "                             tolerance=1e-6):    \n",
    "    n_samples, n_features = X.shape\n",
    "    weights = np.random.normal(0, 0.01, n_features+1)\n",
    "    X_with_bias = np.column_stack([np.ones(n_samples), X])\n",
    "    cost_history = []\n",
    "    for i in range(max_iter):\n",
    "        predictions = X_with_bias @ weights\n",
    "        cost = np.mean((predictions - y) ** 2)\n",
    "        cost_history.append(cost)\n",
    "        gradients = (2 / n_samples) * X_with_bias.T @ (predictions-y)\n",
    "        weights = weights - learning_rate* gradients # <- 이게 목적임!!\n",
    "        if i > 0 and abs(cost_history[-2] - cost_history[-1]) < tolerance:\n",
    "            print(f\"경사하강법이 {i+1}번째 반복에서 수렴했습니다.\")\n",
    "            break    \n",
    "    coef_ = weights[1:]\n",
    "    intercept_ = weights[0]\n",
    "    return coef_, intercept_, cost_history  "
   ]
  },
  {
   "cell_type": "code",
   "execution_count": 13,
   "id": "ccdede62",
   "metadata": {},
   "outputs": [],
   "source": [
    "def predict_linear_regreesion(X, coef_, intercept_):\n",
    "    return X @ coef_ + intercept_"
   ]
  },
  {
   "cell_type": "code",
   "execution_count": 14,
   "id": "71324a6a",
   "metadata": {},
   "outputs": [],
   "source": [
    "coef_, intercept_ = fit_linear_regreesion_lsq(X_train, y_train)\n",
    "y_pred_lsq = predict_linear_regreesion(X_test, coef_, intercept_)"
   ]
  },
  {
   "cell_type": "code",
   "execution_count": 15,
   "id": "de55940d",
   "metadata": {},
   "outputs": [],
   "source": [
    "coef_, intercept_, _ = fit_linear_regression_gd(X_train, y_train)\n",
    "y_pred_gd = predict_linear_regreesion(X_test, coef_, intercept_)"
   ]
  },
  {
   "cell_type": "code",
   "execution_count": 16,
   "id": "685b7400",
   "metadata": {},
   "outputs": [],
   "source": [
    "def mean_squared_error(y_true, y_pred):\n",
    "    return np.mean((y_true - y_pred)**2)    "
   ]
  },
  {
   "cell_type": "code",
   "execution_count": 17,
   "id": "a7298c4e",
   "metadata": {},
   "outputs": [],
   "source": [
    "def r2_score(y_true, y_pred):\n",
    "    ss_res = np.sum((y_true-y_pred)**2)\n",
    "    y_mean = np.mean(y_true)\n",
    "    ss_tot = np.sum((y_true-y_mean)**2)\n",
    "    r2 = 1 - (ss_res  / ss_tot)    \n",
    "    return r2"
   ]
  },
  {
   "cell_type": "code",
   "execution_count": 18,
   "id": "6f2a311e",
   "metadata": {},
   "outputs": [
    {
     "name": "stdout",
     "output_type": "stream",
     "text": [
      "0.08472197157942186 0.38100017156758104\n"
     ]
    }
   ],
   "source": [
    "mse_lsq = mean_squared_error(y_test, y_pred_lsq)\n",
    "r2_lsq = r2_score(y_test, y_pred_lsq)\n",
    "print(mse_lsq, r2_lsq)"
   ]
  },
  {
   "cell_type": "code",
   "execution_count": 19,
   "id": "9f7a3cd4",
   "metadata": {},
   "outputs": [
    {
     "name": "stdout",
     "output_type": "stream",
     "text": [
      "0.10692359591372268 0.21878957380109543\n"
     ]
    }
   ],
   "source": [
    "mse_gd = mean_squared_error(y_test, y_pred_gd)\n",
    "r2_gd = r2_score(y_test, y_pred_gd)\n",
    "print(mse_gd, r2_gd)"
   ]
  },
  {
   "cell_type": "markdown",
   "id": "524c1bcc",
   "metadata": {},
   "source": [
    "# 성능을 높이자!"
   ]
  },
  {
   "cell_type": "code",
   "execution_count": 20,
   "id": "f0b823f5",
   "metadata": {},
   "outputs": [],
   "source": [
    "def std_feat(X_train, X_test): # 평균이 0이고, 표준편차 1\n",
    "    mean = np.mean(X_train, axis=0) # 무조건 학습 데이터 기준으로 \n",
    "    std = np.std(X_train, axis=0)\n",
    "\n",
    "    X_train_scaled = (X_train - mean) / std\n",
    "    X_test_scaled = (X_test - mean) / std\n",
    "\n",
    "    return X_train_scaled, X_test_scaled"
   ]
  },
  {
   "cell_type": "code",
   "execution_count": 21,
   "id": "a402ba2d",
   "metadata": {},
   "outputs": [],
   "source": [
    "X_train_scaled, X_test_scaled = std_feat(X_train, X_test)"
   ]
  },
  {
   "cell_type": "code",
   "execution_count": 22,
   "id": "21e0b082",
   "metadata": {},
   "outputs": [],
   "source": [
    "coef_, intercept_, _ = fit_linear_regression_gd(X_train_scaled, y_train)\n",
    "y_pred_gd = predict_linear_regreesion(X_test_scaled, coef_, intercept_)"
   ]
  },
  {
   "cell_type": "code",
   "execution_count": 23,
   "id": "8ae55ef2",
   "metadata": {},
   "outputs": [
    {
     "name": "stdout",
     "output_type": "stream",
     "text": [
      "0.09576411976970942 0.30032348631237715\n"
     ]
    }
   ],
   "source": [
    "mse_gd = mean_squared_error(y_test, y_pred_gd)\n",
    "r2_gd = r2_score(y_test, y_pred_gd)\n",
    "print(mse_gd, r2_gd)"
   ]
  },
  {
   "cell_type": "markdown",
   "id": "ff933a2c",
   "metadata": {},
   "source": [
    "# learning rate에 따른 학습 결과를 확인"
   ]
  },
  {
   "cell_type": "code",
   "execution_count": 26,
   "id": "b72ba2d8",
   "metadata": {},
   "outputs": [
    {
     "name": "stdout",
     "output_type": "stream",
     "text": [
      "경사하강법이 507번째 반복에서 수렴했습니다.\n"
     ]
    },
    {
     "name": "stderr",
     "output_type": "stream",
     "text": [
      "c:\\Users\\user\\AppData\\Local\\Programs\\Python\\Python39\\lib\\site-packages\\numpy\\_core\\_methods.py:127: RuntimeWarning: overflow encountered in reduce\n",
      "  ret = umr_sum(arr, axis, dtype, out, keepdims, where=where)\n",
      "C:\\Users\\user\\AppData\\Local\\Temp\\ipykernel_7368\\2123151041.py:16: RuntimeWarning: invalid value encountered in scalar subtract\n",
      "  if i > 0 and abs(cost_history[-2] - cost_history[-1]) < tolerance:\n",
      "C:\\Users\\user\\AppData\\Local\\Temp\\ipykernel_7368\\2123151041.py:12: RuntimeWarning: overflow encountered in square\n",
      "  cost = np.mean((predictions - y) ** 2)\n"
     ]
    },
    {
     "data": {
      "image/png": "[encoded data removed]",
      "text/plain": [
       "<Figure size 1200x1000 with 4 Axes>"
      ]
     },
     "metadata": {},
     "output_type": "display_data"
    }
   ],
   "source": [
    "learning_rates = [0.001, 0.01, 0.1, 0.5]\n",
    "fig, axes = plt.subplots(2, 2, figsize=(12, 10))\n",
    "axes = axes.ravel() # 그냥 순서대로 그리고 싶어서\n",
    "\n",
    "for i, lr in enumerate(learning_rates):\n",
    "    _, _, cost_history = fit_linear_regression_gd(X_train_scaled,\n",
    "                                                  y_train,\n",
    "                                                  learning_rate=lr)\n",
    "    axes[i].plot(cost_history)\n",
    "    axes[i].set_title(f\"lr={lr}\")"
   ]
  },
  {
   "cell_type": "markdown",
   "id": "0ec68089",
   "metadata": {},
   "source": [
    "---"
   ]
  },
  {
   "cell_type": "markdown",
   "id": "951ff9e4",
   "metadata": {},
   "source": [
    "---"
   ]
  },
  {
   "cell_type": "markdown",
   "id": "a0f78499",
   "metadata": {},
   "source": [
    "# 경사하강법\n",
    "적당한 거리만큼의 변경량은 일동시키는것\n",
    "하이퍼 파라미터"
   ]
  },
  {
   "cell_type": "code",
   "execution_count": 27,
   "id": "0d4de82d",
   "metadata": {},
   "outputs": [
    {
     "ename": "IndentationError",
     "evalue": "expected an indented block (814998434.py, line 11)",
     "output_type": "error",
     "traceback": [
      "\u001b[1;36m  Cell \u001b[1;32mIn[27], line 11\u001b[1;36m\u001b[0m\n\u001b[1;33m    \"\"\"\u001b[0m\n\u001b[1;37m    ^\u001b[0m\n\u001b[1;31mIndentationError\u001b[0m\u001b[1;31m:\u001b[0m expected an indented block\n"
     ]
    }
   ],
   "source": [
    "    # [정말정말 중요]: 경사하강법은 이상치에 매우 민감하다.....엄청!\n",
    "    # 이상치를 일단은 \"눌러야 됨\"\n",
    "    # 정규화부터 해야 함(파이토치 사용할 때 주의!!!!! -> 정규화를 알아서 해주는 메서드인지, 정규화를 해서 줘야하는 메소드인지)\n",
    "    #\n",
    "    #\n",
    "#def fit_linear_regression_lsq(X, y): -> 기울기와 절편\n",
    "def fit_linear_regression_gd(X, y, \n",
    "                             learning_rate=0.01, \n",
    "                             max_iter=1000,\n",
    "                             tolerance=1e-6):\n",
    "    \"\"\"\n",
    "    learning_rate(학습률): 기울기를 얼마만큼 이동시키나요?\n",
    "    max_iter(최대반복횟수): max_iter번 정도 기울기를 움직여보겠다!!!!\n",
    "    tolerance(수렴조건): max_iter번 중에 tolerance를 만족하면 멈춰주세요!!\n",
    "    \"\"\"\n",
    "    # 150 , 3\n",
    "    n_samples, n_features = X.shape\n",
    "    weights = np.random.normal(0, 0.01, n_features+1) # weight 가중치, np.random.normal() 0에서 0.01사이에 있는 값을 location, scale, size\n",
    "    # bias 절편, 머신러닝에선 threshold\n",
    "    X_with_bias = np.column_stack([np.ones(n_samples), X]) # iris 데이터니까 150개\n",
    "\n",
    "    cost_history = []\n",
    "\n",
    "    for i in range(max_iter):\n",
    "\n",
    "        # 1. 예측값 계산\n",
    "        #[[절편, 특징1, 특징2, 특징3],   [가중치1,\n",
    "        #[절편, 특징1, 특징2, 특징3], X  가중치2,\n",
    "        #[절편, 특징1, 특징2, 특징3]]       가중치3,\n",
    "        #                                 가중치4]\n",
    "        predictions = X_with_bias @ weights\n",
    "        # 2. 비용함수를 계산\n",
    "        cost = np.mean((predictions - y)**2) # MSE -> 딥러닝에서는 비용함수를 다 따로 만든다!\n",
    "        cost_history.append(cost)\n",
    "        # 3. 기울기 계산 (편미분 (aj/aw) = (2/n) * X^T * (Xw - y))\n",
    "        gradients = (2 / n_samples) * X_with_bias.T @ (predictions - y)\n",
    "        # 4. 가중치를 업데이트\n",
    "        weights = weights - learning_rate*gradients # 이게 목적임!!!!\n",
    "        # 5. 수렴 조건 점검\n",
    "        if i > 0 and abs(cost_history[-2] - cost_history[-1]) < tolerance:\n",
    "            print(f\"경사하강법이 {i+1}번째 반복에서 수렴했습니다.\")\n",
    "            break\n",
    "    \n",
    "    coef_ = weights[1:]\n",
    "    intercept_ = weights[0]\n",
    "    return coef_, intercept_"
   ]
  },
  {
   "cell_type": "code",
   "execution_count": null,
   "id": "a42ef907",
   "metadata": {},
   "outputs": [
    {
     "name": "stdout",
     "output_type": "stream",
     "text": [
      "0.08450878298803613 0.3825577805210957\n"
     ]
    }
   ],
   "source": [
    "from sklearn.linear_model import BayesianRidge\n",
    "br = BayesianRidge()\n",
    "br.fit(X_train, y_train) ##### scikit-learn은 전부 이렇게 사용하도록\n",
    "y_pred_br = br.predict(X_test) ##### scikit-learn은 전부 이렇게 사용하도록\n",
    "mse_br = mean_squared_error(y_test, y_pred_br)\n",
    "r2_br = r2_score(y_test, y_pred_br)\n",
    "print(mse_br, r2_br)"
   ]
  },
  {
   "cell_type": "markdown",
   "id": "a2067d19",
   "metadata": {},
   "source": [
    "---"
   ]
  },
  {
   "cell_type": "markdown",
   "id": "50e9a072",
   "metadata": {},
   "source": [
    "## 1. 전처리 -> 2. 모델 -> 3. 예측 -> 4. 평가"
   ]
  },
  {
   "cell_type": "markdown",
   "id": "5b18b440",
   "metadata": {},
   "source": [
    "### [전처리]\n",
    ">이상치 잘 처리해야 한다!!!!!<br>\n",
    ">* 결측치<br>\n",
    ">* 숫자<br>**\n",
    ">* <br>\n",
    "\n"
   ]
  },
  {
   "cell_type": "markdown",
   "id": "62025b38",
   "metadata": {},
   "source": [
    "### [모델]\n",
    ">무슨 경향을 알려주려나 보다<br>결정트리 외에는 전부 기울기 싸움<br>\n",
    ">* 기울기: 방향성, 예측 -> 답이 아니기 때문에 오차가 생긴다!<br>\n",
    ">* 절편: "
   ]
  },
  {
   "cell_type": "markdown",
   "id": "7a0bfe21",
   "metadata": {},
   "source": [
    "### [예측]\n",
    "><br>\n",
    ">* y hat<br> "
   ]
  },
  {
   "cell_type": "markdown",
   "id": "b54de8da",
   "metadata": {},
   "source": [
    "### [평가]\n",
    ">오차<br>\n",
    ">* |y hat - y|<br>"
   ]
  },
  {
   "cell_type": "code",
   "execution_count": null,
   "id": "2986bd39",
   "metadata": {},
   "outputs": [],
   "source": [
    "# 평균제곱오차\n",
    "# yhat - y\n",
    "# y - yhat\n",
    "def mean_squared_error(y_true: np.array, y_pred: np.array): # 매개변수로 반드시 실제값과 예측값\n",
    "    return np.mean((y_true - y_pred)**2)"
   ]
  },
  {
   "cell_type": "code",
   "execution_count": null,
   "id": "f4871868",
   "metadata": {},
   "outputs": [],
   "source": [
    "def r2_score(y_true: np.array, y_pred: np.array):\n",
    "    ## 잔차제곱합\n",
    "    ss_res = np.sum((y_true - y_pred)**2)\n",
    "\n",
    "    ## 총제곱합\n",
    "    y_mean = np.mean(y_true)\n",
    "    ss_tot = np.sum((y_true - y_mean)**2)\n",
    "\n",
    "    ## r2\n",
    "    r2 = 1 - (ss_res / ss_tot)\n",
    "    return r2"
   ]
  },
  {
   "cell_type": "markdown",
   "id": "97661c00",
   "metadata": {},
   "source": [
    "# 회귀에 사용되는 평가 지표\n",
    "- MSE(평균제곱오차) : -> (평균오차)**2 -> 양수 -> 0일때 Best!!!! -> MSE는 숫자가 작을수록 성능이 높다!\n",
    "- RMSE(평균제곱근오차) : | |\n",
    "- MAE(평균절대오차) : 이상치 때문에 쓴다.\n",
    "\n",
    "- R^2(결정계수) : 상관관계가 높을 수록 1에 가까워짐(0.78이면 78%의 설명력을 가진다고 해석)"
   ]
  },
  {
   "cell_type": "markdown",
   "id": "29bf716d",
   "metadata": {},
   "source": [
    "##### 인공지능:\n",
    "> 데이터(X, y)에서 숨겨진 패턴(a, b)를 자동으로 찾는 알고리즘"
   ]
  },
  {
   "cell_type": "markdown",
   "id": "9617d009",
   "metadata": {},
   "source": [
    "# 경사하강법\n",
    "적당한 거리만큼의 변경량은 일동시키는것\n",
    "하이퍼 파라미터"
   ]
  },
  {
   "cell_type": "code",
   "execution_count": null,
   "id": "00b50325",
   "metadata": {},
   "outputs": [],
   "source": [
    "    # [정말정말 중요]: 경사하강법은 이상치에 매우 민감하다.....엄청!\n",
    "    # 이상치를 일단은 \"눌러야 됨\"\n",
    "    # 정규화부터 해야 함(파이토치 사용할 때 주의!!!!! -> 정규화를 알아서 해주는 메서드인지, 정규화를 해서 줘야하는 메소드인지)\n",
    "    #\n",
    "    #\n",
    "#def fit_linear_regression_lsq(X, y): -> 기울기와 절편\n",
    "def fit_linear_regression_gd(X, y, \n",
    "                             learning_rate=0.01, \n",
    "                             max_iter=1000,\n",
    "                             tolerance=1e-6):\n",
    "    \"\"\"\n",
    "    learning_rate(학습률): 기울기를 얼마만큼 이동시키나요?\n",
    "    max_iter(최대반복횟수): max_iter번 정도 기울기를 움직여보겠다!!!!\n",
    "    tolerance(수렴조건): max_iter번 중에 tolerance를 만족하면 멈춰주세요!!\n",
    "    \"\"\"\n",
    "    # 150 , 3\n",
    "    n_samples, n_features = X.shape\n",
    "    weights = np.random.normal(0, 0.01, n_features+1) # weight 가중치, np.random.normal() 0에서 0.01사이에 있는 값을 location, scale, size\n",
    "    # bias 또는 intercept 절편, 머신러닝에선 threshold\n",
    "    X_with_bias = np.column_stack([np.ones(n_samples), X]) # iris 데이터니까 150개\n",
    "\n",
    "    cost_history = []\n",
    "\n",
    "    for i in range(max_iter):\n",
    "\n",
    "        # 1. 예측값 계산\n",
    "        #[[절편, 특징1, 특징2, 특징3],   [가중치1,\n",
    "        #[절편, 특징1, 특징2, 특징3], X  가중치2,\n",
    "        #[절편, 특징1, 특징2, 특징3]]       가중치3,\n",
    "        #                                 가중치4]\n",
    "        predictions = X_with_bias @ weights\n",
    "        # 2. 비용함수를 계산\n",
    "        cost = np.mean((predictions - y)**2) # MSE -> 딥러닝에서는 비용함수를 다 따로 만든다!\n",
    "        cost_history.append(cost)\n",
    "        # 3. 기울기 계산 (편미분 (aj/aw) = (2/n) * X^T * (Xw - y))\n",
    "        gradients = (2 / n_samples) * X_with_bias.T @ (predictions - y)\n",
    "        # 4. 가중치를 업데이트\n",
    "        weights = weights - learning_rate*gradients # 이게 목적임!!!!\n",
    "        # 5. 수렴 조건 점검\n",
    "        if i > 0 and abs(cost_history[-2] - cost_history[-1]) < tolerance:\n",
    "            print(f\"경사하강법이 {i+1}번째 반복에서 수렴했습니다.\")\n",
    "            break\n",
    "    \n",
    "    coef_ = weights[1:]\n",
    "    intercept_ = weights[0]\n",
    "    return coef_, intercept_"
   ]
  },
  {
   "cell_type": "markdown",
   "id": "a7232afa",
   "metadata": {},
   "source": [
    "# scikit-learn\n",
    ">파이썬에서 머신러닝 모델을 쉽게 학습할 수 있도록 만들어주는 라이브러리\n",
    "\n",
    "1. 학습 데이터와 테스트 데이터를 나눠주는 방법\n",
    "2. 데이터의 (전처리)특성공학\n",
    "3. 모델(선형모델, 통계모델, 트리모델, 앙상블모델)\n",
    "    - 지도 학습 모델\n",
    "    - 비지도 학습 모델\n",
    "    - 하지만, 딥러닝 모델은 주지 않음!!\n",
    "4. 평가\n",
    "5. 최적화\n",
    "6. 모델을 이진데이터로 변환"
   ]
  }
 ],
 "metadata": {
  "kernelspec": {
   "display_name": "Python 3",
   "language": "python",
   "name": "python3"
  },
  "language_info": {
   "codemirror_mode": {
    "name": "ipython",
    "version": 3
   },
   "file_extension": ".py",
   "mimetype": "text/x-python",
   "name": "python",
   "nbconvert_exporter": "python",
   "pygments_lexer": "ipython3",
   "version": "3.9.13"
  }
 },
 "nbformat": 4,
 "nbformat_minor": 5
}
