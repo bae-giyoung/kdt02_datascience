{
 "cells": [
  {
   "cell_type": "code",
   "execution_count": 1,
   "id": "4a96dd2f",
   "metadata": {},
   "outputs": [
    {
     "data": {
      "text/plain": [
       "array([-0.61203188, -0.59298352, -1.49926331,  0.83818198,  1.48351525,\n",
       "       -0.13650845, -1.0731203 , -1.72236118, -1.10435479,  1.39419603])"
      ]
     },
     "execution_count": 1,
     "metadata": {},
     "output_type": "execute_result"
    }
   ],
   "source": [
    "import numpy as np\n",
    "\n",
    "data = np.random.normal(0, 1, 10)\n",
    "data"
   ]
  },
  {
   "cell_type": "code",
   "execution_count": 19,
   "id": "314cdc5f",
   "metadata": {},
   "outputs": [
    {
     "data": {
      "text/plain": [
       "(array([1, 2, 3, 4, 5, 6, 7]), array([7, 5, 3, 1, 2, 6, 4]))"
      ]
     },
     "execution_count": 19,
     "metadata": {},
     "output_type": "execute_result"
    }
   ],
   "source": [
    "# np.sort()는 원본을 변경하지 않음!\n",
    "np.sort(data), data"
   ]
  },
  {
   "cell_type": "code",
   "execution_count": 20,
   "id": "e2c4e05c",
   "metadata": {},
   "outputs": [
    {
     "data": {
      "text/plain": [
       "(np.int64(3), np.int64(0), np.int64(1), np.int64(7))"
      ]
     },
     "execution_count": 20,
     "metadata": {},
     "output_type": "execute_result"
    }
   ],
   "source": [
    "# 최대값, 최소값의 인덱스 찾기\n",
    "i1 = np.argmin(data)\n",
    "i2 = np.argmax(data)\n",
    "\n",
    "i1, i2, data[i1], data[i2]"
   ]
  },
  {
   "cell_type": "code",
   "execution_count": 21,
   "id": "f5d5cb3e",
   "metadata": {},
   "outputs": [
    {
     "data": {
      "text/plain": [
       "(array([3, 4, 2, 6, 1, 5, 0]), array([1, 2, 3, 4, 5, 6, 7]))"
      ]
     },
     "execution_count": 21,
     "metadata": {},
     "output_type": "execute_result"
    }
   ],
   "source": [
    "# argsort\n",
    "idx = np.argsort(data)\n",
    "idx, data[idx]"
   ]
  },
  {
   "cell_type": "code",
   "execution_count": 22,
   "id": "7fe018b3",
   "metadata": {},
   "outputs": [
    {
     "data": {
      "text/plain": [
       "array([1, 2, 3])"
      ]
     },
     "execution_count": 22,
     "metadata": {},
     "output_type": "execute_result"
    }
   ],
   "source": [
    "# argsort는 데이터를 바꿀 수 없을 때, k개 찾기에서 유용\n",
    "data[idx][:3]"
   ]
  },
  {
   "cell_type": "code",
   "execution_count": 23,
   "id": "d5279383",
   "metadata": {},
   "outputs": [
    {
     "data": {
      "text/plain": [
       "(array([[2, 1, 6, 9, 7, 9],\n",
       "        [2, 8, 8, 6, 6, 2],\n",
       "        [3, 7, 5, 1, 3, 5],\n",
       "        [4, 5, 4, 9, 7, 3]], dtype=int32),\n",
       " (4, 6))"
      ]
     },
     "execution_count": 23,
     "metadata": {},
     "output_type": "execute_result"
    }
   ],
   "source": [
    "data = np.random.randint(0, 10, (4,6))\n",
    "data, data.shape"
   ]
  },
  {
   "cell_type": "code",
   "execution_count": 13,
   "id": "81554fea",
   "metadata": {},
   "outputs": [
    {
     "data": {
      "text/plain": [
       "array([[0, 0, 1, 5, 6, 8],\n",
       "       [3, 5, 6, 8, 8, 8],\n",
       "       [2, 2, 4, 7, 9, 9],\n",
       "       [0, 1, 2, 5, 8, 9]], dtype=int32)"
      ]
     },
     "execution_count": 13,
     "metadata": {},
     "output_type": "execute_result"
    }
   ],
   "source": [
    "np.sort(data)"
   ]
  },
  {
   "cell_type": "code",
   "execution_count": 14,
   "id": "74b8215c",
   "metadata": {},
   "outputs": [
    {
     "data": {
      "text/plain": [
       "array([[1, 0, 0, 0, 1, 2],\n",
       "       [5, 2, 5, 3, 2, 5],\n",
       "       [8, 8, 7, 4, 6, 6],\n",
       "       [9, 9, 8, 8, 9, 8]], dtype=int32)"
      ]
     },
     "execution_count": 14,
     "metadata": {},
     "output_type": "execute_result"
    }
   ],
   "source": [
    "np.sort(data, axis=0)"
   ]
  },
  {
   "cell_type": "code",
   "execution_count": 16,
   "id": "e7cadb85",
   "metadata": {},
   "outputs": [
    {
     "data": {
      "text/plain": [
       "array([[0, 0, 1, 5, 6, 8],\n",
       "       [3, 5, 6, 8, 8, 8],\n",
       "       [2, 2, 4, 7, 9, 9],\n",
       "       [0, 1, 2, 5, 8, 9]], dtype=int32)"
      ]
     },
     "execution_count": 16,
     "metadata": {},
     "output_type": "execute_result"
    }
   ],
   "source": [
    "np.sort(data, axis=1)"
   ]
  },
  {
   "cell_type": "code",
   "execution_count": 17,
   "id": "3ecd87da",
   "metadata": {},
   "outputs": [
    {
     "data": {
      "text/plain": [
       "array([4, 4, 6, 6, 9, 2, 3], dtype=int32)"
      ]
     },
     "execution_count": 17,
     "metadata": {},
     "output_type": "execute_result"
    }
   ],
   "source": [
    "data = np.random.randint(0, 10, 7)\n",
    "data"
   ]
  },
  {
   "cell_type": "code",
   "execution_count": 27,
   "id": "d202bc71",
   "metadata": {},
   "outputs": [
    {
     "data": {
      "text/plain": [
       "array([10, 13,  2,  4, 18, 15, 19, 12,  7, 11, 17,  6,  9,  3,  5, 14,  8,\n",
       "       16,  1])"
      ]
     },
     "execution_count": 27,
     "metadata": {},
     "output_type": "execute_result"
    }
   ],
   "source": [
    "data = np.arange(1,20)\n",
    "np.random.shuffle(data) # 원본 변경\n",
    "data"
   ]
  },
  {
   "cell_type": "code",
   "execution_count": 28,
   "id": "405cfbf8",
   "metadata": {},
   "outputs": [
    {
     "data": {
      "text/plain": [
       "array([ 1,  2,  3,  4,  5,  6,  7,  8,  9, 10, 11, 12, 13, 14, 15, 16, 17,\n",
       "       18, 19])"
      ]
     },
     "execution_count": 28,
     "metadata": {},
     "output_type": "execute_result"
    }
   ],
   "source": [
    "np.partition(data, 3)"
   ]
  },
  {
   "cell_type": "markdown",
   "id": "a8785514",
   "metadata": {},
   "source": [
    "# Pandas"
   ]
  }
 ],
 "metadata": {
  "kernelspec": {
   "display_name": "Python 3",
   "language": "python",
   "name": "python3"
  },
  "language_info": {
   "codemirror_mode": {
    "name": "ipython",
    "version": 3
   },
   "file_extension": ".py",
   "mimetype": "text/x-python",
   "name": "python",
   "nbconvert_exporter": "python",
   "pygments_lexer": "ipython3",
   "version": "3.9.13"
  }
 },
 "nbformat": 4,
 "nbformat_minor": 5
}
