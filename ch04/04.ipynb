{
 "cells": [
  {
   "cell_type": "code",
   "execution_count": 2,
   "id": "4a96dd2f",
   "metadata": {},
   "outputs": [
    {
     "data": {
      "text/plain": [
       "array([-0.94391908, -0.55244573, -0.97700164,  0.99070686, -0.15628306,\n",
       "       -2.19958978,  0.9310809 ,  0.86012501, -0.96734109,  0.73309328])"
      ]
     },
     "execution_count": 2,
     "metadata": {},
     "output_type": "execute_result"
    }
   ],
   "source": [
    "import numpy as np\n",
    "\n",
    "data = np.random.normal(0, 1, 10)\n",
    "data"
   ]
  },
  {
   "cell_type": "code",
   "execution_count": 4,
   "id": "314cdc5f",
   "metadata": {},
   "outputs": [
    {
     "data": {
      "text/plain": [
       "(array([-2.19958978, -0.97700164, -0.96734109, -0.94391908, -0.55244573,\n",
       "        -0.15628306,  0.73309328,  0.86012501,  0.9310809 ,  0.99070686]),\n",
       " array([-0.94391908, -0.55244573, -0.97700164,  0.99070686, -0.15628306,\n",
       "        -2.19958978,  0.9310809 ,  0.86012501, -0.96734109,  0.73309328]))"
      ]
     },
     "execution_count": 4,
     "metadata": {},
     "output_type": "execute_result"
    }
   ],
   "source": [
    "# np.sort()는 원본을 변경하지 않음!\n",
    "np.sort(data), data"
   ]
  },
  {
   "cell_type": "code",
   "execution_count": 6,
   "id": "3fadccf6",
   "metadata": {},
   "outputs": [
    {
     "data": {
      "text/plain": [
       "(np.float64(-2.1995897818314605), np.float64(0.9907068629847772))"
      ]
     },
     "execution_count": 6,
     "metadata": {},
     "output_type": "execute_result"
    }
   ],
   "source": [
    "np.min(data), np.max(data)"
   ]
  },
  {
   "cell_type": "code",
   "execution_count": 7,
   "id": "e2c4e05c",
   "metadata": {},
   "outputs": [
    {
     "data": {
      "text/plain": [
       "(np.int64(5),\n",
       " np.int64(3),\n",
       " np.float64(-2.1995897818314605),\n",
       " np.float64(0.9907068629847772))"
      ]
     },
     "execution_count": 7,
     "metadata": {},
     "output_type": "execute_result"
    }
   ],
   "source": [
    "# 최대값, 최소값의 인덱스 찾기\n",
    "i1 = np.argmin(data)\n",
    "i2 = np.argmax(data)\n",
    "\n",
    "i1, i2, data[i1], data[i2]"
   ]
  },
  {
   "cell_type": "code",
   "execution_count": 9,
   "id": "d82b3fe3",
   "metadata": {},
   "outputs": [
    {
     "data": {
      "text/plain": [
       "(array([5, 2, 8, 0, 1, 4, 9, 7, 6, 3]),\n",
       " array([-2.19958978, -0.97700164, -0.96734109, -0.94391908, -0.55244573,\n",
       "        -0.15628306,  0.73309328,  0.86012501,  0.9310809 ,  0.99070686]))"
      ]
     },
     "execution_count": 9,
     "metadata": {},
     "output_type": "execute_result"
    }
   ],
   "source": [
    "idx = np.argsort(data)\n",
    "idx, data[idx]"
   ]
  },
  {
   "cell_type": "code",
   "execution_count": 10,
   "id": "f5d5cb3e",
   "metadata": {},
   "outputs": [
    {
     "data": {
      "text/plain": [
       "(array([5, 2, 8, 0, 1, 4, 9, 7, 6, 3]),\n",
       " array([-2.19958978, -0.97700164, -0.96734109, -0.94391908, -0.55244573,\n",
       "        -0.15628306,  0.73309328,  0.86012501,  0.9310809 ,  0.99070686]))"
      ]
     },
     "execution_count": 10,
     "metadata": {},
     "output_type": "execute_result"
    }
   ],
   "source": [
    "# argsort\n",
    "# 원본 데이터를 변경하지 않을 때 또는 사본을 만들지도 않을 때 유용하게 사용할 수 있다!\n",
    "idx = np.argsort(data)\n",
    "idx, data[idx]"
   ]
  },
  {
   "cell_type": "code",
   "execution_count": 11,
   "id": "7fe018b3",
   "metadata": {},
   "outputs": [
    {
     "data": {
      "text/plain": [
       "array([-2.19958978, -0.97700164, -0.96734109])"
      ]
     },
     "execution_count": 11,
     "metadata": {},
     "output_type": "execute_result"
    }
   ],
   "source": [
    "# argsort는 데이터를 바꿀 수 없을 때, k개 찾기에서 유용\n",
    "data[idx][:3]"
   ]
  },
  {
   "cell_type": "code",
   "execution_count": 12,
   "id": "062753c4",
   "metadata": {},
   "outputs": [
    {
     "data": {
      "text/plain": [
       "array([-2.19958978, -0.97700164, -0.96734109])"
      ]
     },
     "execution_count": 12,
     "metadata": {},
     "output_type": "execute_result"
    }
   ],
   "source": [
    "data[[5,2,8]][:3] # 와 같은 것! fancy index"
   ]
  },
  {
   "cell_type": "code",
   "execution_count": 15,
   "id": "d5279383",
   "metadata": {},
   "outputs": [
    {
     "data": {
      "text/plain": [
       "(array([[4, 9, 5, 2, 2, 2],\n",
       "        [1, 1, 2, 0, 7, 6],\n",
       "        [1, 9, 6, 1, 4, 9],\n",
       "        [2, 3, 4, 3, 8, 0]], dtype=int32),\n",
       " (4, 6))"
      ]
     },
     "execution_count": 15,
     "metadata": {},
     "output_type": "execute_result"
    }
   ],
   "source": [
    "data = np.random.randint(0, 10, (4,6))\n",
    "data, data.shape"
   ]
  },
  {
   "cell_type": "code",
   "execution_count": 18,
   "id": "81554fea",
   "metadata": {},
   "outputs": [
    {
     "data": {
      "text/plain": [
       "array([[2, 2, 2, 4, 5, 9],\n",
       "       [0, 1, 1, 2, 6, 7],\n",
       "       [1, 1, 4, 6, 9, 9],\n",
       "       [0, 2, 3, 3, 4, 8]], dtype=int32)"
      ]
     },
     "execution_count": 18,
     "metadata": {},
     "output_type": "execute_result"
    }
   ],
   "source": [
    "np.sort(data)"
   ]
  },
  {
   "cell_type": "code",
   "execution_count": 19,
   "id": "74b8215c",
   "metadata": {},
   "outputs": [
    {
     "data": {
      "text/plain": [
       "array([[1, 1, 2, 0, 2, 0],\n",
       "       [1, 3, 4, 1, 4, 2],\n",
       "       [2, 9, 5, 2, 7, 6],\n",
       "       [4, 9, 6, 3, 8, 9]], dtype=int32)"
      ]
     },
     "execution_count": 19,
     "metadata": {},
     "output_type": "execute_result"
    }
   ],
   "source": [
    "np.sort(data, axis=0)"
   ]
  },
  {
   "cell_type": "code",
   "execution_count": 20,
   "id": "e7cadb85",
   "metadata": {},
   "outputs": [
    {
     "data": {
      "text/plain": [
       "array([[2, 2, 2, 4, 5, 9],\n",
       "       [0, 1, 1, 2, 6, 7],\n",
       "       [1, 1, 4, 6, 9, 9],\n",
       "       [0, 2, 3, 3, 4, 8]], dtype=int32)"
      ]
     },
     "execution_count": 20,
     "metadata": {},
     "output_type": "execute_result"
    }
   ],
   "source": [
    "np.sort(data, axis=1)"
   ]
  },
  {
   "cell_type": "code",
   "execution_count": 21,
   "id": "3ecd87da",
   "metadata": {},
   "outputs": [
    {
     "data": {
      "text/plain": [
       "array([3, 3, 4, 2, 2, 1, 5], dtype=int32)"
      ]
     },
     "execution_count": 21,
     "metadata": {},
     "output_type": "execute_result"
    }
   ],
   "source": [
    "data = np.random.randint(0, 10, 7)\n",
    "data"
   ]
  },
  {
   "cell_type": "code",
   "execution_count": 22,
   "id": "d202bc71",
   "metadata": {},
   "outputs": [
    {
     "data": {
      "text/plain": [
       "array([13, 17,  9, 12, 16,  8,  1, 14,  5,  3, 15,  6,  7, 18,  2, 11, 19,\n",
       "       10,  4])"
      ]
     },
     "execution_count": 22,
     "metadata": {},
     "output_type": "execute_result"
    }
   ],
   "source": [
    "data = np.arange(1,20)\n",
    "np.random.shuffle(data) # 원본 변경\n",
    "data"
   ]
  },
  {
   "cell_type": "code",
   "execution_count": 23,
   "id": "405cfbf8",
   "metadata": {},
   "outputs": [
    {
     "data": {
      "text/plain": [
       "array([ 1,  2,  3,  4,  5,  6,  7,  8,  9, 10, 11, 12, 13, 14, 15, 16, 17,\n",
       "       18, 19])"
      ]
     },
     "execution_count": 23,
     "metadata": {},
     "output_type": "execute_result"
    }
   ],
   "source": [
    "np.partition(data, 3) # 이것은?"
   ]
  },
  {
   "cell_type": "markdown",
   "id": "a8785514",
   "metadata": {},
   "source": [
    "# Pandas"
   ]
  }
 ],
 "metadata": {
  "kernelspec": {
   "display_name": "Python 3",
   "language": "python",
   "name": "python3"
  },
  "language_info": {
   "codemirror_mode": {
    "name": "ipython",
    "version": 3
   },
   "file_extension": ".py",
   "mimetype": "text/x-python",
   "name": "python",
   "nbconvert_exporter": "python",
   "pygments_lexer": "ipython3",
   "version": "3.9.13"
  }
 },
 "nbformat": 4,
 "nbformat_minor": 5
}
