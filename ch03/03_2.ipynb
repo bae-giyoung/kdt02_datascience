{
 "cells": [
  {
   "cell_type": "markdown",
   "id": "513ce5f9",
   "metadata": {},
   "source": [
    "1. 브로드캐스팅\n",
    "2. 마스크\n",
    "3. 팬시 인덱스"
   ]
  },
  {
   "cell_type": "markdown",
   "id": "3c218493",
   "metadata": {},
   "source": [
    "#### 브로드캐스팅\n",
    "###### for문을 돌리지 않고 빠른 연산이 가능한 비결"
   ]
  },
  {
   "cell_type": "code",
   "execution_count": 1,
   "id": "2d948582",
   "metadata": {},
   "outputs": [],
   "source": [
    "import numpy as np"
   ]
  },
  {
   "cell_type": "code",
   "execution_count": 4,
   "id": "fd4a1916",
   "metadata": {},
   "outputs": [
    {
     "data": {
      "text/plain": [
       "(array([ 2,  3,  4,  5,  6,  7,  8,  9, 10, 11]),\n",
       " array([ 2,  3,  4,  5,  6,  7,  8,  9, 10, 11]))"
      ]
     },
     "execution_count": 4,
     "metadata": {},
     "output_type": "execute_result"
    }
   ],
   "source": [
    "x = np.arange(1,11)\n",
    "y = np.array([1])\n",
    "x + y, x + 1"
   ]
  },
  {
   "cell_type": "code",
   "execution_count": null,
   "id": "fa4d3708",
   "metadata": {},
   "outputs": [
    {
     "data": {
      "text/plain": [
       "((10,), (1,), 1, 1)"
      ]
     },
     "execution_count": 5,
     "metadata": {},
     "output_type": "execute_result"
    }
   ],
   "source": [
    "# 차원이 같다 => 넘어감\n",
    "x.ndim, y.ndim"
   ]
  },
  {
   "cell_type": "code",
   "execution_count": null,
   "id": "a54f3e55",
   "metadata": {},
   "outputs": [],
   "source": [
    "# 형상이 다르다 =>\n",
    "x.shape, y.shape"
   ]
  },
  {
   "cell_type": "code",
   "execution_count": null,
   "id": "57e1c050",
   "metadata": {},
   "outputs": [
    {
     "data": {
      "text/plain": [
       "array([1, 1, 1, 1, 1, 1, 1, 1, 1, 1])"
      ]
     },
     "execution_count": 2,
     "metadata": {},
     "output_type": "execute_result"
    }
   ],
   "source": [
    "# 작은 걸 늘린다 element-wise로\n",
    "y = np.full(10, 1)\n",
    "y"
   ]
  },
  {
   "cell_type": "code",
   "execution_count": 7,
   "id": "44d3ac46",
   "metadata": {},
   "outputs": [
    {
     "data": {
      "text/plain": [
       "(array([[1.41777937, 1.42206486, 1.83432521, 1.96694298],\n",
       "        [1.08337947, 1.80443605, 1.07390151, 1.74877093],\n",
       "        [1.80393427, 1.44401385, 1.27399377, 1.28653567],\n",
       "        [1.78227838, 1.85772365, 1.21945137, 1.96896073],\n",
       "        [1.09510763, 1.40115141, 1.22453079, 1.38377271],\n",
       "        [1.66420782, 1.17936761, 1.1370435 , 1.86798653],\n",
       "        [1.69724909, 1.07244714, 1.6730839 , 1.0297886 ],\n",
       "        [1.98673575, 1.61601438, 1.46726072, 1.56064734],\n",
       "        [1.07234627, 1.01224374, 1.98217118, 1.87714954],\n",
       "        [1.347631  , 1.11222946, 1.00268721, 1.8402549 ],\n",
       "        [1.92944676, 1.32729141, 1.68509986, 1.98860249],\n",
       "        [1.70290302, 1.77288006, 1.68430379, 1.41835759],\n",
       "        [1.99588099, 1.1367052 , 1.88161623, 1.71507231],\n",
       "        [1.70875561, 1.3503972 , 1.32354631, 1.43230613],\n",
       "        [1.55181633, 1.79521129, 1.77799699, 1.54714202]]),\n",
       " (15, 4))"
      ]
     },
     "execution_count": 7,
     "metadata": {},
     "output_type": "execute_result"
    }
   ],
   "source": [
    "# 브로드캐스팅 다른 예제\n",
    "x = np.random.rand(15,4)\n",
    "y = np.array([1])\n",
    "x + y, (x + y).shape"
   ]
  },
  {
   "cell_type": "code",
   "execution_count": null,
   "id": "0c5297bf",
   "metadata": {},
   "outputs": [
    {
     "data": {
      "text/plain": [
       "((1, 1), (1, 1))"
      ]
     },
     "execution_count": 10,
     "metadata": {},
     "output_type": "execute_result"
    }
   ],
   "source": [
    "# 차원이 다르다\n",
    "x.ndim, y.ndim\n",
    "\n",
    "# 작은 것의 차원을 늘린다.\n",
    "y.reshape(1,1).shape, y[None, :].shape"
   ]
  },
  {
   "cell_type": "code",
   "execution_count": 11,
   "id": "2364084b",
   "metadata": {},
   "outputs": [
    {
     "data": {
      "text/plain": [
       "(array([[1]]), (1, 1))"
      ]
     },
     "execution_count": 11,
     "metadata": {},
     "output_type": "execute_result"
    }
   ],
   "source": [
    "new_y = y.reshape(1,1)\n",
    "new_y, new_y.shape"
   ]
  },
  {
   "cell_type": "code",
   "execution_count": 12,
   "id": "a7f3266a",
   "metadata": {},
   "outputs": [
    {
     "data": {
      "text/plain": [
       "((15, 4), (1, 1))"
      ]
     },
     "execution_count": 12,
     "metadata": {},
     "output_type": "execute_result"
    }
   ],
   "source": [
    "x.shape, new_y.shape"
   ]
  },
  {
   "cell_type": "code",
   "execution_count": 14,
   "id": "ccc69941",
   "metadata": {},
   "outputs": [
    {
     "data": {
      "text/plain": [
       "array([[1, 1, 1, 1],\n",
       "       [1, 1, 1, 1],\n",
       "       [1, 1, 1, 1],\n",
       "       [1, 1, 1, 1],\n",
       "       [1, 1, 1, 1],\n",
       "       [1, 1, 1, 1],\n",
       "       [1, 1, 1, 1],\n",
       "       [1, 1, 1, 1],\n",
       "       [1, 1, 1, 1],\n",
       "       [1, 1, 1, 1],\n",
       "       [1, 1, 1, 1],\n",
       "       [1, 1, 1, 1],\n",
       "       [1, 1, 1, 1],\n",
       "       [1, 1, 1, 1],\n",
       "       [1, 1, 1, 1]])"
      ]
     },
     "execution_count": 14,
     "metadata": {},
     "output_type": "execute_result"
    }
   ],
   "source": [
    "# 형상이 같도록 작은 것의 형상을 늘린다\n",
    "new_y = np.full((15,4), 1)\n",
    "new_y"
   ]
  },
  {
   "cell_type": "markdown",
   "id": "0556b06b",
   "metadata": {},
   "source": [
    "##### 브로드캐스팅 예제"
   ]
  },
  {
   "cell_type": "code",
   "execution_count": 15,
   "id": "de809362",
   "metadata": {},
   "outputs": [
    {
     "data": {
      "text/plain": [
       "(array([[1., 1., 1.],\n",
       "        [1., 1., 1.]]),\n",
       " array([0, 1, 2]),\n",
       " (2, 3),\n",
       " (3,))"
      ]
     },
     "execution_count": 15,
     "metadata": {},
     "output_type": "execute_result"
    }
   ],
   "source": [
    "M = np.ones((2,3))\n",
    "a = np.arange(3)\n",
    "\n",
    "M, a, M.shape, a.shape"
   ]
  },
  {
   "cell_type": "code",
   "execution_count": 18,
   "id": "1303d42c",
   "metadata": {},
   "outputs": [
    {
     "data": {
      "text/plain": [
       "(array([[0, 1, 2]]), (1, 3))"
      ]
     },
     "execution_count": 18,
     "metadata": {},
     "output_type": "execute_result"
    }
   ],
   "source": [
    "# 차원이 다르므로 작은 것의 차원을 늘린다\n",
    "new_a = a[None, :]\n",
    "new_a, new_a.shape"
   ]
  },
  {
   "cell_type": "code",
   "execution_count": null,
   "id": "52b868b5",
   "metadata": {},
   "outputs": [],
   "source": [
    "# 작은 것의 행을 늘린다\n",
    "new_a = new_a"
   ]
  },
  {
   "cell_type": "markdown",
   "id": "f255ac67",
   "metadata": {},
   "source": [
    "##### 배열을 중앙 정렬하기"
   ]
  },
  {
   "cell_type": "code",
   "execution_count": 20,
   "id": "eabf686e",
   "metadata": {},
   "outputs": [
    {
     "data": {
      "text/plain": [
       "(array([[0.57566766, 0.72324082, 0.80535079],\n",
       "        [0.21998419, 0.45615524, 0.65437353],\n",
       "        [0.569617  , 0.08911817, 0.22294188],\n",
       "        [0.29752329, 0.85365239, 0.87411336],\n",
       "        [0.08538028, 0.53412328, 0.45967946],\n",
       "        [0.12677424, 0.65144905, 0.42616458],\n",
       "        [0.00323827, 0.18014511, 0.80117741],\n",
       "        [0.79751628, 0.85031972, 0.72393411],\n",
       "        [0.79180004, 0.61438484, 0.20695812],\n",
       "        [0.72827396, 0.86401168, 0.99120511]]),\n",
       " (10, 3))"
      ]
     },
     "execution_count": 20,
     "metadata": {},
     "output_type": "execute_result"
    }
   ],
   "source": [
    "X = np.random.random((10,3))\n",
    "X, X.shape"
   ]
  },
  {
   "cell_type": "code",
   "execution_count": 22,
   "id": "5269117b",
   "metadata": {},
   "outputs": [
    {
     "data": {
      "text/plain": [
       "(array([0.41957752, 0.58166003, 0.61658983]), (3,))"
      ]
     },
     "execution_count": 22,
     "metadata": {},
     "output_type": "execute_result"
    }
   ],
   "source": [
    "Xmean = X.mean(0)\n",
    "Xmean, Xmean.shape"
   ]
  },
  {
   "cell_type": "code",
   "execution_count": 23,
   "id": "156e3906",
   "metadata": {},
   "outputs": [
    {
     "data": {
      "text/plain": [
       "array([[ 0.15609014,  0.14158079,  0.18876096],\n",
       "       [-0.19959333, -0.12550479,  0.03778369],\n",
       "       [ 0.15003948, -0.49254186, -0.39364795],\n",
       "       [-0.12205423,  0.27199236,  0.25752353],\n",
       "       [-0.33419724, -0.04753675, -0.15691038],\n",
       "       [-0.29280329,  0.06978902, -0.19042526],\n",
       "       [-0.41633925, -0.40151492,  0.18458757],\n",
       "       [ 0.37793876,  0.26865969,  0.10734428],\n",
       "       [ 0.37222252,  0.03272481, -0.40963171],\n",
       "       [ 0.30869644,  0.28235165,  0.37461527]])"
      ]
     },
     "execution_count": 23,
     "metadata": {},
     "output_type": "execute_result"
    }
   ],
   "source": [
    "X_centerd = X - Xmean\n",
    "X_centerd"
   ]
  },
  {
   "cell_type": "code",
   "execution_count": 24,
   "id": "ff3aab59",
   "metadata": {},
   "outputs": [
    {
     "data": {
      "text/plain": [
       "array([-2.22044605e-17,  4.44089210e-17,  5.55111512e-17])"
      ]
     },
     "execution_count": 24,
     "metadata": {},
     "output_type": "execute_result"
    }
   ],
   "source": [
    "X_centerd.mean(0)"
   ]
  },
  {
   "cell_type": "markdown",
   "id": "46adae73",
   "metadata": {},
   "source": [
    "##### 2차원 함수 플로팅하기"
   ]
  },
  {
   "cell_type": "code",
   "execution_count": 27,
   "id": "4c1c7a8c",
   "metadata": {},
   "outputs": [],
   "source": [
    "# x와 y는 0에서 50단계로 나눈 배열임\n",
    "x = np.linspace(0,5,50)\n",
    "y = np.linspace(0,5,50)[:, None]"
   ]
  },
  {
   "cell_type": "code",
   "execution_count": 30,
   "id": "cd80713a",
   "metadata": {},
   "outputs": [
    {
     "data": {
      "text/plain": [
       "((50,), (50, 1), (50, 50))"
      ]
     },
     "execution_count": 30,
     "metadata": {},
     "output_type": "execute_result"
    }
   ],
   "source": [
    "x.shape, y.shape, (y*x).shape"
   ]
  },
  {
   "cell_type": "code",
   "execution_count": null,
   "id": "e93f3fd9",
   "metadata": {},
   "outputs": [],
   "source": [
    "z = np.sin(x)**10 + np.cos(10+y*x)*np.cos(x)"
   ]
  },
  {
   "cell_type": "markdown",
   "id": "d708bb36",
   "metadata": {},
   "source": [
    "### 마스크"
   ]
  },
  {
   "cell_type": "code",
   "execution_count": 31,
   "id": "e8ad8363",
   "metadata": {},
   "outputs": [
    {
     "data": {
      "text/plain": [
       "array([ 1,  2,  3,  4,  5,  6,  7,  8,  9, 10])"
      ]
     },
     "execution_count": 31,
     "metadata": {},
     "output_type": "execute_result"
    }
   ],
   "source": [
    "x = np.arange(1,11)\n",
    "x"
   ]
  },
  {
   "cell_type": "code",
   "execution_count": null,
   "id": "74ac0b78",
   "metadata": {},
   "outputs": [
    {
     "data": {
      "text/plain": [
       "array([ True,  True,  True,  True,  True, False, False, False, False,\n",
       "       False])"
      ]
     },
     "execution_count": 32,
     "metadata": {},
     "output_type": "execute_result"
    }
   ],
   "source": [
    "x < 6 # x의 각 요소별로 비교 연산 후 리스트로 결과를 반환하는 걸까?"
   ]
  },
  {
   "cell_type": "code",
   "execution_count": 33,
   "id": "b17b34c6",
   "metadata": {},
   "outputs": [
    {
     "data": {
      "text/plain": [
       "array([1, 2, 3, 4, 5])"
      ]
     },
     "execution_count": 33,
     "metadata": {},
     "output_type": "execute_result"
    }
   ],
   "source": [
    "mask = x < 6\n",
    "\n",
    "x[mask]"
   ]
  },
  {
   "cell_type": "code",
   "execution_count": null,
   "id": "2fe06893",
   "metadata": {},
   "outputs": [
    {
     "data": {
      "text/plain": [
       "np.int64(5)"
      ]
     },
     "execution_count": 34,
     "metadata": {},
     "output_type": "execute_result"
    }
   ],
   "source": [
    "np.sum(mask) # True를 1로 계산해줌ㅎ => True의 개수를 셀 수 있겠다"
   ]
  },
  {
   "cell_type": "code",
   "execution_count": 38,
   "id": "3eeac175",
   "metadata": {},
   "outputs": [
    {
     "data": {
      "text/plain": [
       "(array([False, False, False, False, False, False,  True,  True,  True,\n",
       "        False]),\n",
       " array([7, 8, 9]))"
      ]
     },
     "execution_count": 38,
     "metadata": {},
     "output_type": "execute_result"
    }
   ],
   "source": [
    "mask = (6 < x) & (x < 10)\n",
    "mask, x[mask]"
   ]
  },
  {
   "cell_type": "markdown",
   "id": "416dd59f",
   "metadata": {},
   "source": [
    "### 팬시 인덱스"
   ]
  },
  {
   "cell_type": "code",
   "execution_count": 43,
   "id": "544997f0",
   "metadata": {},
   "outputs": [
    {
     "data": {
      "text/plain": [
       "array([ 1,  2,  3,  4,  5,  6,  7,  8,  9, 10])"
      ]
     },
     "execution_count": 43,
     "metadata": {},
     "output_type": "execute_result"
    }
   ],
   "source": [
    "x = np.arange(1,11)\n",
    "x"
   ]
  },
  {
   "cell_type": "code",
   "execution_count": 44,
   "id": "6cc89e86",
   "metadata": {},
   "outputs": [
    {
     "data": {
      "text/plain": [
       "array([3, 6, 8])"
      ]
     },
     "execution_count": 44,
     "metadata": {},
     "output_type": "execute_result"
    }
   ],
   "source": [
    "index = [2,5,7]\n",
    "x[index]"
   ]
  },
  {
   "cell_type": "markdown",
   "id": "30b8162a",
   "metadata": {},
   "source": [
    "## p91"
   ]
  },
  {
   "cell_type": "code",
   "execution_count": null,
   "id": "e3f55b3b",
   "metadata": {},
   "outputs": [],
   "source": [
    "#"
   ]
  },
  {
   "cell_type": "code",
   "execution_count": 57,
   "id": "d341dbf4",
   "metadata": {},
   "outputs": [
    {
     "data": {
      "image/png": "[encoded data removed]",
      "text/plain": [
       "<Figure size 640x480 with 1 Axes>"
      ]
     },
     "metadata": {},
     "output_type": "display_data"
    }
   ],
   "source": [
    "import matplotlib.pyplot as plt\n",
    "\n",
    "def f(x, noise):\n",
    "    return 2*x + 1 + noise\n",
    "\n",
    "x = np.linspace(0,10,101)\n",
    "noise = np.random.normal(0,3,len(x))\n",
    "y = f(x, noise)\n",
    "plt.scatter(x, y)\n",
    "plt.grid()"
   ]
  },
  {
   "cell_type": "code",
   "execution_count": 56,
   "id": "4a190d94",
   "metadata": {},
   "outputs": [
    {
     "data": {
      "text/plain": [
       "(array([74, 83,  4, 98, 93, 21, 24, 56, 34,  7, 27, 58, 68, 10, 45, 33,  2,\n",
       "        65, 70, 41], dtype=int32),\n",
       " (20,))"
      ]
     },
     "execution_count": 56,
     "metadata": {},
     "output_type": "execute_result"
    }
   ],
   "source": [
    "idx = np.random.choice(101, 20, replace=False)\n",
    "idx, idx.shape"
   ]
  },
  {
   "cell_type": "code",
   "execution_count": 58,
   "id": "f5fdb531",
   "metadata": {},
   "outputs": [],
   "source": [
    "s = x[idx]"
   ]
  },
  {
   "cell_type": "code",
   "execution_count": 88,
   "id": "eb0a6ee5",
   "metadata": {},
   "outputs": [
    {
     "data": {
      "image/png": "[encoded data removed]",
      "text/plain": [
       "<Figure size 640x480 with 1 Axes>"
      ]
     },
     "metadata": {},
     "output_type": "display_data"
    }
   ],
   "source": [
    "import matplotlib.pyplot as plt\n",
    "\n",
    "def f(x,noise):\n",
    "    return 2*x + 1 + noise\n",
    "\n",
    "x = np.linspace(0,10,101)\n",
    "noise = np.random.normal(0,3,len(x))\n",
    "y = f(x, noise)\n",
    "\n",
    "idx = np.random.choice(101, 20, replace=False)\n",
    "s = x[idx]\n",
    "plt.scatter(x, y)\n",
    "plt.scatter(idx, s)\n",
    "plt.grid()"
   ]
  },
  {
   "cell_type": "code",
   "execution_count": 60,
   "id": "a98d78a2",
   "metadata": {},
   "outputs": [
    {
     "data": {
      "text/plain": [
       "array([ 1,  2,  3,  4,  5,  6,  7,  8,  9, 10])"
      ]
     },
     "execution_count": 60,
     "metadata": {},
     "output_type": "execute_result"
    }
   ],
   "source": [
    "x = np.arange(1, 11)\n",
    "x"
   ]
  },
  {
   "cell_type": "code",
   "execution_count": 61,
   "id": "1eb37c0f",
   "metadata": {},
   "outputs": [
    {
     "data": {
      "text/plain": [
       "[2, 1, 8, 4]"
      ]
     },
     "execution_count": 61,
     "metadata": {},
     "output_type": "execute_result"
    }
   ],
   "source": [
    "i = [2,1,8,4]\n",
    "i"
   ]
  },
  {
   "cell_type": "code",
   "execution_count": 63,
   "id": "2c3d3177",
   "metadata": {},
   "outputs": [
    {
     "data": {
      "text/plain": [
       "array([3, 2, 9, 5])"
      ]
     },
     "execution_count": 63,
     "metadata": {},
     "output_type": "execute_result"
    }
   ],
   "source": [
    "# 팬시 인덱스\n",
    "x[i]"
   ]
  },
  {
   "cell_type": "code",
   "execution_count": null,
   "id": "25a4a9f5",
   "metadata": {},
   "outputs": [
    {
     "data": {
      "text/plain": [
       "array([ 1, 99, 99,  4, 99,  6,  7,  8, 99, 10])"
      ]
     },
     "execution_count": 64,
     "metadata": {},
     "output_type": "execute_result"
    }
   ],
   "source": [
    "# 팬시 인덱스 값도 바꿀 수 있다!\n",
    "x[i] = 99\n",
    "x"
   ]
  },
  {
   "cell_type": "code",
   "execution_count": 80,
   "id": "3585b0d4",
   "metadata": {},
   "outputs": [
    {
     "data": {
      "text/plain": [
       "array([0., 0., 0., 0., 0., 0., 0., 0., 0., 0.])"
      ]
     },
     "execution_count": 80,
     "metadata": {},
     "output_type": "execute_result"
    }
   ],
   "source": [
    "x = np.zeros(10)\n",
    "x"
   ]
  },
  {
   "cell_type": "code",
   "execution_count": 81,
   "id": "ba9f9b24",
   "metadata": {},
   "outputs": [],
   "source": [
    "x[[0,0]] = [1]"
   ]
  },
  {
   "cell_type": "code",
   "execution_count": 82,
   "id": "ef6a9f49",
   "metadata": {},
   "outputs": [
    {
     "data": {
      "text/plain": [
       "array([1., 0., 0., 0., 0., 0., 0., 0., 0., 0.])"
      ]
     },
     "execution_count": 82,
     "metadata": {},
     "output_type": "execute_result"
    }
   ],
   "source": [
    "x"
   ]
  },
  {
   "cell_type": "code",
   "execution_count": 83,
   "id": "6f16906f",
   "metadata": {},
   "outputs": [
    {
     "data": {
      "text/plain": [
       "array([2., 0., 0., 0., 0., 0., 0., 0., 0., 0.])"
      ]
     },
     "execution_count": 83,
     "metadata": {},
     "output_type": "execute_result"
    }
   ],
   "source": [
    "x[[0,0]] = [1,2]\n",
    "x"
   ]
  },
  {
   "cell_type": "code",
   "execution_count": 84,
   "id": "4b73e71a",
   "metadata": {},
   "outputs": [
    {
     "data": {
      "text/plain": [
       "array([2., 1., 1., 0., 1., 0., 0., 0., 1., 0.])"
      ]
     },
     "execution_count": 84,
     "metadata": {},
     "output_type": "execute_result"
    }
   ],
   "source": [
    "x[i] += [1] # x[i] = x[i] + 1\n",
    "x"
   ]
  },
  {
   "cell_type": "code",
   "execution_count": 85,
   "id": "617e8de0",
   "metadata": {},
   "outputs": [
    {
     "data": {
      "text/plain": [
       "array([2., 7., 7., 0., 7., 0., 0., 0., 7., 0.])"
      ]
     },
     "execution_count": 85,
     "metadata": {},
     "output_type": "execute_result"
    }
   ],
   "source": [
    "x[i] += [1]\n",
    "x[i] += [1]\n",
    "x[i] += [1]\n",
    "x[i] += [1]\n",
    "x[i] += [1]\n",
    "x[i] += [1]\n",
    "x"
   ]
  },
  {
   "cell_type": "code",
   "execution_count": null,
   "id": "eb2106ce",
   "metadata": {},
   "outputs": [
    {
     "data": {
      "text/plain": [
       "array([2., 7., 7., 0., 7., 0., 1., 0., 7., 0.])"
      ]
     },
     "execution_count": 86,
     "metadata": {},
     "output_type": "execute_result"
    }
   ],
   "source": [
    "x[[6,6,6,6,6,6]] += 1 # 예상한 대로 안된다는것! 대신\n",
    "x"
   ]
  },
  {
   "cell_type": "code",
   "execution_count": 87,
   "id": "0e44a0d8",
   "metadata": {},
   "outputs": [
    {
     "data": {
      "text/plain": [
       "array([2., 7., 7., 0., 7., 0., 7., 0., 7., 0.])"
      ]
     },
     "execution_count": 87,
     "metadata": {},
     "output_type": "execute_result"
    }
   ],
   "source": [
    "np.add.at(x, [6,6,6,6,6,6], 1) # 이렇게 사용!\n",
    "x"
   ]
  }
 ],
 "metadata": {
  "kernelspec": {
   "display_name": "Python 3",
   "language": "python",
   "name": "python3"
  },
  "language_info": {
   "codemirror_mode": {
    "name": "ipython",
    "version": 3
   },
   "file_extension": ".py",
   "mimetype": "text/x-python",
   "name": "python",
   "nbconvert_exporter": "python",
   "pygments_lexer": "ipython3",
   "version": "3.9.13"
  }
 },
 "nbformat": 4,
 "nbformat_minor": 5
}
