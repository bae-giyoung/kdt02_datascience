{
 "cells": [
  {
   "cell_type": "markdown",
   "metadata": {},
   "source": [
    "# 과제: 100개의 임의 점 좌표에 대해 5-최근접 이웃 구하기 및 시각화\n",
    "\n",
    "## 과제 설명\n",
    "\n",
    "### 1. 목표: 100개의 임의의 2차원 좌표에 대해 각 점의 5-최근접 이웃을 찾아 시각화하는 프로그램을 작성.\n",
    "\n",
    "### 2. 조건:\n",
    "거리: 유클리드 거리 제곱을 사용하여 각 점 간의 거리를 계산.\n",
    "출력: 각 점에 대해 가장 가까운 5개의 이웃 좌표를 출력.\n",
    "시각화: 각 좌표와 해당 좌표에 가까운 5개의 이웃을 스캐터 플롯으로 시각화. (점마다 이웃 관계를 선으로 연결하여 표시)\n",
    "\n",
    "\n"
   ]
  },
  {
   "cell_type": "code",
   "execution_count": 45,
   "metadata": {},
   "outputs": [],
   "source": [
    "import numpy as np"
   ]
  },
  {
   "cell_type": "markdown",
   "metadata": {},
   "source": [
    "3. 단계별 요구 사항\n",
    "\n",
    "## 3.1 난수 좌표 생성:\n",
    "[0, 1) 범위에서 100개의 2차원 좌표를 생성.\n",
    "\n"
   ]
  },
  {
   "cell_type": "code",
   "execution_count": 46,
   "metadata": {},
   "outputs": [
    {
     "data": {
      "text/plain": [
       "((100,), (100,))"
      ]
     },
     "execution_count": 46,
     "metadata": {},
     "output_type": "execute_result"
    }
   ],
   "source": [
    "x = np.random.rand(100)\n",
    "y = np.random.rand(100)\n",
    "\n",
    "x.shape, y.shape"
   ]
  },
  {
   "cell_type": "code",
   "execution_count": null,
   "metadata": {},
   "outputs": [
    {
     "data": {
      "text/plain": [
       "[(np.float64(0.16230403680957717), np.float64(0.10637890101815206)),\n",
       " (np.float64(0.5893400403393221), np.float64(0.9400265284813889)),\n",
       " (np.float64(0.7314669241366684), np.float64(0.6051770336011897)),\n",
       " (np.float64(0.37842901257695705), np.float64(0.19375056324735118)),\n",
       " (np.float64(0.9801387813489346), np.float64(0.15920224915407)),\n",
       " (np.float64(0.9215594462660587), np.float64(0.9970626913816616)),\n",
       " (np.float64(0.4244475215851623), np.float64(0.8365743660086596)),\n",
       " (np.float64(0.3636898974553816), np.float64(0.4128002183110605)),\n",
       " (np.float64(0.40328359289625637), np.float64(0.8245182934668126)),\n",
       " (np.float64(0.3166474923713769), np.float64(0.8116190638500079)),\n",
       " (np.float64(0.6074242695252149), np.float64(0.540387954291594)),\n",
       " (np.float64(0.16818579985275772), np.float64(0.3771758221204773)),\n",
       " (np.float64(0.9815592404171355), np.float64(0.11060361102099003)),\n",
       " (np.float64(0.8309690261919297), np.float64(0.1780562955861381)),\n",
       " (np.float64(0.44884919538541), np.float64(0.07856383036148584)),\n",
       " (np.float64(0.3154654041738485), np.float64(0.147367333421919)),\n",
       " (np.float64(0.569188238337722), np.float64(0.9728624641593733)),\n",
       " (np.float64(0.48883356539558165), np.float64(0.24133667949089288)),\n",
       " (np.float64(0.02976870370538187), np.float64(0.24528033727381848)),\n",
       " (np.float64(0.5259312854537239), np.float64(0.04721484036460766)),\n",
       " (np.float64(0.38375275553106725), np.float64(0.9250726797757416)),\n",
       " (np.float64(0.6473545645042735), np.float64(0.5724974398060253)),\n",
       " (np.float64(0.3375410412368982), np.float64(0.11465718027429672)),\n",
       " (np.float64(0.5863988218190066), np.float64(0.9290899122154956)),\n",
       " (np.float64(0.3961675443341809), np.float64(0.3483842239140288)),\n",
       " (np.float64(0.4049040511686788), np.float64(0.15614314034070476)),\n",
       " (np.float64(0.6450960319323578), np.float64(0.35678549960627715)),\n",
       " (np.float64(0.511880647320679), np.float64(0.022167522608351642)),\n",
       " (np.float64(0.04521477665617657), np.float64(0.11526196417408618)),\n",
       " (np.float64(0.9904405230603344), np.float64(0.9375191267857047)),\n",
       " (np.float64(0.9379833025561413), np.float64(0.1131978718963006)),\n",
       " (np.float64(0.9448791648343385), np.float64(0.17320946585240793)),\n",
       " (np.float64(0.5579792958390123), np.float64(0.5817677217574834)),\n",
       " (np.float64(0.704920439055343), np.float64(0.020001297196730605)),\n",
       " (np.float64(0.627880633554517), np.float64(0.5073651929530619)),\n",
       " (np.float64(0.3042363289077642), np.float64(0.4318448062001443)),\n",
       " (np.float64(0.011656756439382354), np.float64(0.9004490392715161)),\n",
       " (np.float64(0.2939087663971708), np.float64(0.2704834736112659)),\n",
       " (np.float64(0.5305119176925311), np.float64(0.26796287681472464)),\n",
       " (np.float64(0.45723479549498813), np.float64(0.173982321194589)),\n",
       " (np.float64(0.05908516309659395), np.float64(0.11405202203702636)),\n",
       " (np.float64(0.5364411030367251), np.float64(0.5081909300250981)),\n",
       " (np.float64(0.6861816687436622), np.float64(0.9175282269122335)),\n",
       " (np.float64(0.16964600055233725), np.float64(0.7997867900523269)),\n",
       " (np.float64(0.17933819492706693), np.float64(0.12623769780886496)),\n",
       " (np.float64(0.30828211130297134), np.float64(0.20876996209491427)),\n",
       " (np.float64(0.03850514806862504), np.float64(0.5837099416097323)),\n",
       " (np.float64(0.9874108129841025), np.float64(0.7631338810868801)),\n",
       " (np.float64(0.34436168645435317), np.float64(0.6744887882982549)),\n",
       " (np.float64(0.7266424824343062), np.float64(0.181846322786143)),\n",
       " (np.float64(0.08721223320663407), np.float64(0.3356292286169066)),\n",
       " (np.float64(0.9702487259035311), np.float64(0.8427958454997276)),\n",
       " (np.float64(0.4163058416208918), np.float64(0.8175930267500336)),\n",
       " (np.float64(0.750032136865968), np.float64(0.9051430591298224)),\n",
       " (np.float64(0.33884502702413843), np.float64(0.26154096969285145)),\n",
       " (np.float64(0.9860580834725177), np.float64(0.18806017429558675)),\n",
       " (np.float64(0.4679548860762047), np.float64(0.02416836715952242)),\n",
       " (np.float64(0.9615799266857776), np.float64(0.4119938750818922)),\n",
       " (np.float64(0.43359740035019856), np.float64(0.896305169107483)),\n",
       " (np.float64(0.3980800122355651), np.float64(0.5891208638489235)),\n",
       " (np.float64(0.5432950210004251), np.float64(0.48748372514055627)),\n",
       " (np.float64(0.25826425582605406), np.float64(0.4371601618940525)),\n",
       " (np.float64(0.6273013129162163), np.float64(0.680469385652634)),\n",
       " (np.float64(0.9881233237833702), np.float64(0.10454357280360949)),\n",
       " (np.float64(0.1681704011414742), np.float64(0.2610924497332111)),\n",
       " (np.float64(0.5872426113965097), np.float64(0.6706017594179985)),\n",
       " (np.float64(0.997446845945751), np.float64(0.9863335820295746)),\n",
       " (np.float64(0.7539943443580687), np.float64(0.6026817836509873)),\n",
       " (np.float64(0.06772956371178429), np.float64(0.47791665892714885)),\n",
       " (np.float64(0.5911293925847018), np.float64(0.6843489513600114)),\n",
       " (np.float64(0.450435729682625), np.float64(0.46518230331915555)),\n",
       " (np.float64(0.9542151046353428), np.float64(0.8812978242270448)),\n",
       " (np.float64(0.8196071618219898), np.float64(0.3058643316219628)),\n",
       " (np.float64(0.7232351448782569), np.float64(0.42704621576340485)),\n",
       " (np.float64(0.0854800622091777), np.float64(0.7674125562460008)),\n",
       " (np.float64(0.6328125550787557), np.float64(0.3574530440171283)),\n",
       " (np.float64(0.4805963284807153), np.float64(0.9389296693168547)),\n",
       " (np.float64(0.7322548474207062), np.float64(0.5268949575369917)),\n",
       " (np.float64(0.9503155031795569), np.float64(0.98412288792829)),\n",
       " (np.float64(0.41977031715028734), np.float64(0.9242432007178721)),\n",
       " (np.float64(0.6068995285309767), np.float64(0.3028167232272103)),\n",
       " (np.float64(0.30831831539813903), np.float64(0.8781405634067264)),\n",
       " (np.float64(0.3010435129843577), np.float64(0.23515891320879323)),\n",
       " (np.float64(0.3768407723854431), np.float64(0.9010606746426869)),\n",
       " (np.float64(0.343034144541558), np.float64(0.5086183570794743)),\n",
       " (np.float64(0.2067739654218128), np.float64(0.24312080291876303)),\n",
       " (np.float64(0.01237325688607005), np.float64(0.7571938769916637)),\n",
       " (np.float64(0.781773492665071), np.float64(0.3870212271077338)),\n",
       " (np.float64(0.15524699583484947), np.float64(0.2063848461459744)),\n",
       " (np.float64(0.7411020167026108), np.float64(0.19797840369372854)),\n",
       " (np.float64(0.6164665847926026), np.float64(0.12339981709167824)),\n",
       " (np.float64(0.9225073806578614), np.float64(0.5892193957559135)),\n",
       " (np.float64(0.7318618734880155), np.float64(0.35308023455709414)),\n",
       " (np.float64(0.8906610187425219), np.float64(0.1601760843413219)),\n",
       " (np.float64(0.5461056678805929), np.float64(0.5243738087253854)),\n",
       " (np.float64(0.8631761024598301), np.float64(0.4813554396971985)),\n",
       " (np.float64(0.1408422347436964), np.float64(0.3791348679074583)),\n",
       " (np.float64(0.07361411646286165), np.float64(0.9426818991684038)),\n",
       " (np.float64(0.763807172412265), np.float64(0.8927140778651947)),\n",
       " (np.float64(0.7391657329027688), np.float64(0.26025265048577406))]"
      ]
     },
     "execution_count": 9,
     "metadata": {},
     "output_type": "execute_result"
    }
   ],
   "source": [
    "points = list(zip(x, y))\n",
    "points"
   ]
  },
  {
   "cell_type": "code",
   "execution_count": 11,
   "metadata": {},
   "outputs": [
    {
     "data": {
      "text/plain": [
       "((100, 2),\n",
       " array([[0.16230404, 0.1063789 ],\n",
       "        [0.58934004, 0.94002653],\n",
       "        [0.73146692, 0.60517703],\n",
       "        [0.37842901, 0.19375056],\n",
       "        [0.98013878, 0.15920225],\n",
       "        [0.92155945, 0.99706269],\n",
       "        [0.42444752, 0.83657437],\n",
       "        [0.3636899 , 0.41280022],\n",
       "        [0.40328359, 0.82451829],\n",
       "        [0.31664749, 0.81161906],\n",
       "        [0.60742427, 0.54038795],\n",
       "        [0.1681858 , 0.37717582],\n",
       "        [0.98155924, 0.11060361],\n",
       "        [0.83096903, 0.1780563 ],\n",
       "        [0.4488492 , 0.07856383],\n",
       "        [0.3154654 , 0.14736733],\n",
       "        [0.56918824, 0.97286246],\n",
       "        [0.48883357, 0.24133668],\n",
       "        [0.0297687 , 0.24528034],\n",
       "        [0.52593129, 0.04721484],\n",
       "        [0.38375276, 0.92507268],\n",
       "        [0.64735456, 0.57249744],\n",
       "        [0.33754104, 0.11465718],\n",
       "        [0.58639882, 0.92908991],\n",
       "        [0.39616754, 0.34838422],\n",
       "        [0.40490405, 0.15614314],\n",
       "        [0.64509603, 0.3567855 ],\n",
       "        [0.51188065, 0.02216752],\n",
       "        [0.04521478, 0.11526196],\n",
       "        [0.99044052, 0.93751913],\n",
       "        [0.9379833 , 0.11319787],\n",
       "        [0.94487916, 0.17320947],\n",
       "        [0.5579793 , 0.58176772],\n",
       "        [0.70492044, 0.0200013 ],\n",
       "        [0.62788063, 0.50736519],\n",
       "        [0.30423633, 0.43184481],\n",
       "        [0.01165676, 0.90044904],\n",
       "        [0.29390877, 0.27048347],\n",
       "        [0.53051192, 0.26796288],\n",
       "        [0.4572348 , 0.17398232],\n",
       "        [0.05908516, 0.11405202],\n",
       "        [0.5364411 , 0.50819093],\n",
       "        [0.68618167, 0.91752823],\n",
       "        [0.169646  , 0.79978679],\n",
       "        [0.17933819, 0.1262377 ],\n",
       "        [0.30828211, 0.20876996],\n",
       "        [0.03850515, 0.58370994],\n",
       "        [0.98741081, 0.76313388],\n",
       "        [0.34436169, 0.67448879],\n",
       "        [0.72664248, 0.18184632],\n",
       "        [0.08721223, 0.33562923],\n",
       "        [0.97024873, 0.84279585],\n",
       "        [0.41630584, 0.81759303],\n",
       "        [0.75003214, 0.90514306],\n",
       "        [0.33884503, 0.26154097],\n",
       "        [0.98605808, 0.18806017],\n",
       "        [0.46795489, 0.02416837],\n",
       "        [0.96157993, 0.41199388],\n",
       "        [0.4335974 , 0.89630517],\n",
       "        [0.39808001, 0.58912086],\n",
       "        [0.54329502, 0.48748373],\n",
       "        [0.25826426, 0.43716016],\n",
       "        [0.62730131, 0.68046939],\n",
       "        [0.98812332, 0.10454357],\n",
       "        [0.1681704 , 0.26109245],\n",
       "        [0.58724261, 0.67060176],\n",
       "        [0.99744685, 0.98633358],\n",
       "        [0.75399434, 0.60268178],\n",
       "        [0.06772956, 0.47791666],\n",
       "        [0.59112939, 0.68434895],\n",
       "        [0.45043573, 0.4651823 ],\n",
       "        [0.9542151 , 0.88129782],\n",
       "        [0.81960716, 0.30586433],\n",
       "        [0.72323514, 0.42704622],\n",
       "        [0.08548006, 0.76741256],\n",
       "        [0.63281256, 0.35745304],\n",
       "        [0.48059633, 0.93892967],\n",
       "        [0.73225485, 0.52689496],\n",
       "        [0.9503155 , 0.98412289],\n",
       "        [0.41977032, 0.9242432 ],\n",
       "        [0.60689953, 0.30281672],\n",
       "        [0.30831832, 0.87814056],\n",
       "        [0.30104351, 0.23515891],\n",
       "        [0.37684077, 0.90106067],\n",
       "        [0.34303414, 0.50861836],\n",
       "        [0.20677397, 0.2431208 ],\n",
       "        [0.01237326, 0.75719388],\n",
       "        [0.78177349, 0.38702123],\n",
       "        [0.155247  , 0.20638485],\n",
       "        [0.74110202, 0.1979784 ],\n",
       "        [0.61646658, 0.12339982],\n",
       "        [0.92250738, 0.5892194 ],\n",
       "        [0.73186187, 0.35308023],\n",
       "        [0.89066102, 0.16017608],\n",
       "        [0.54610567, 0.52437381],\n",
       "        [0.8631761 , 0.48135544],\n",
       "        [0.14084223, 0.37913487],\n",
       "        [0.07361412, 0.9426819 ],\n",
       "        [0.76380717, 0.89271408],\n",
       "        [0.73916573, 0.26025265]]))"
      ]
     },
     "execution_count": 11,
     "metadata": {},
     "output_type": "execute_result"
    }
   ],
   "source": [
    "points = np.concatenate([x[:,None], y[:, None]], axis=1)\n",
    "points.shape, points"
   ]
  },
  {
   "cell_type": "code",
   "execution_count": null,
   "metadata": {},
   "outputs": [
    {
     "data": {
      "text/plain": [
       "(100, 2)"
      ]
     },
     "execution_count": 12,
     "metadata": {},
     "output_type": "execute_result"
    }
   ],
   "source": [
    "import numpy as np\n",
    "\n",
    "np.random.rand(100, 2).shape"
   ]
  },
  {
   "cell_type": "code",
   "execution_count": 51,
   "metadata": {},
   "outputs": [
    {
     "data": {
      "text/plain": [
       "((3,), array([1, 2, 3]))"
      ]
     },
     "execution_count": 51,
     "metadata": {},
     "output_type": "execute_result"
    }
   ],
   "source": [
    "A = np.arange(1, 4)\n",
    "A.shape, A"
   ]
  },
  {
   "cell_type": "code",
   "execution_count": 52,
   "metadata": {},
   "outputs": [
    {
     "data": {
      "text/plain": [
       "(array([[1],\n",
       "        [2],\n",
       "        [3]]),\n",
       " (3, 1))"
      ]
     },
     "execution_count": 52,
     "metadata": {},
     "output_type": "execute_result"
    }
   ],
   "source": [
    "B = np.arange(1, 4)[:, None]\n",
    "B, B.shape"
   ]
  },
  {
   "cell_type": "code",
   "execution_count": 54,
   "metadata": {},
   "outputs": [
    {
     "data": {
      "text/plain": [
       "(array([[ 0,  1,  2],\n",
       "        [-1,  0,  1],\n",
       "        [-2, -1,  0]]),\n",
       " (3, 3))"
      ]
     },
     "execution_count": 54,
     "metadata": {},
     "output_type": "execute_result"
    }
   ],
   "source": [
    "# A = (1, 3)\n",
    "# B = (3, 1)\n",
    "\n",
    "A - B, (A - B).shape"
   ]
  },
  {
   "cell_type": "code",
   "execution_count": 59,
   "metadata": {},
   "outputs": [
    {
     "data": {
      "text/plain": [
       "(100,)"
      ]
     },
     "execution_count": 59,
     "metadata": {},
     "output_type": "execute_result"
    }
   ],
   "source": [
    "x = np.random.rand(100)\n",
    "x.shape"
   ]
  },
  {
   "cell_type": "code",
   "execution_count": 60,
   "metadata": {},
   "outputs": [
    {
     "data": {
      "text/plain": [
       "(100, 1)"
      ]
     },
     "execution_count": 60,
     "metadata": {},
     "output_type": "execute_result"
    }
   ],
   "source": [
    "y = np.random.rand(100).reshape(100, 1)\n",
    "y.shape"
   ]
  },
  {
   "cell_type": "code",
   "execution_count": 61,
   "metadata": {},
   "outputs": [],
   "source": [
    "def f(x, y):\n",
    "    return np.sqrt((x - y)**2)"
   ]
  },
  {
   "cell_type": "code",
   "execution_count": 62,
   "metadata": {},
   "outputs": [
    {
     "data": {
      "text/plain": [
       "(100, 100)"
      ]
     },
     "execution_count": 62,
     "metadata": {},
     "output_type": "execute_result"
    }
   ],
   "source": [
    "f(x, y).shape"
   ]
  },
  {
   "cell_type": "code",
   "execution_count": 69,
   "metadata": {},
   "outputs": [
    {
     "data": {
      "text/plain": [
       "(array([1, 2, 3]),\n",
       " array([[1, 2, 3],\n",
       "        [1, 2, 3],\n",
       "        [1, 2, 3]]))"
      ]
     },
     "execution_count": 69,
     "metadata": {},
     "output_type": "execute_result"
    }
   ],
   "source": [
    "A, np.broadcast_to(A, (3, 3))"
   ]
  },
  {
   "cell_type": "code",
   "execution_count": 65,
   "metadata": {},
   "outputs": [
    {
     "data": {
      "text/plain": [
       "(array([[1],\n",
       "        [2],\n",
       "        [3]]),\n",
       " array([[1, 1, 1],\n",
       "        [2, 2, 2],\n",
       "        [3, 3, 3]]))"
      ]
     },
     "execution_count": 65,
     "metadata": {},
     "output_type": "execute_result"
    }
   ],
   "source": [
    "B, np.broadcast_to(B, (3, 3))"
   ]
  },
  {
   "cell_type": "code",
   "execution_count": 70,
   "metadata": {},
   "outputs": [
    {
     "data": {
      "text/plain": [
       "(array([[0.48932675, 0.18327328],\n",
       "        [0.03375121, 0.8898557 ],\n",
       "        [0.11007174, 0.97147906],\n",
       "        [0.9327892 , 0.55083675],\n",
       "        [0.05172764, 0.56328565],\n",
       "        [0.38471554, 0.81907576],\n",
       "        [0.70440691, 0.39950123],\n",
       "        [0.54261749, 0.01793597],\n",
       "        [0.30212464, 0.1807542 ],\n",
       "        [0.60573943, 0.61709187]]),\n",
       " (10, 2))"
      ]
     },
     "execution_count": 70,
     "metadata": {},
     "output_type": "execute_result"
    }
   ],
   "source": [
    "points = np.random.rand(10, 2)\n",
    "points, points.shape"
   ]
  },
  {
   "cell_type": "code",
   "execution_count": null,
   "metadata": {},
   "outputs": [
    {
     "data": {
      "text/plain": [
       "(array([[0.48932675, 0.18327328],\n",
       "        [0.03375121, 0.8898557 ],\n",
       "        [0.11007174, 0.97147906],\n",
       "        [0.9327892 , 0.55083675],\n",
       "        [0.05172764, 0.56328565],\n",
       "        [0.38471554, 0.81907576],\n",
       "        [0.70440691, 0.39950123],\n",
       "        [0.54261749, 0.01793597],\n",
       "        [0.30212464, 0.1807542 ],\n",
       "        [0.60573943, 0.61709187]]),\n",
       " array([0.48932675, 0.03375121, 0.11007174, 0.9327892 , 0.05172764,\n",
       "        0.38471554, 0.70440691, 0.54261749, 0.30212464, 0.60573943]),\n",
       " array([0.18327328, 0.8898557 , 0.97147906, 0.55083675, 0.56328565,\n",
       "        0.81907576, 0.39950123, 0.01793597, 0.1807542 , 0.61709187]))"
      ]
     },
     "execution_count": 88,
     "metadata": {},
     "output_type": "execute_result"
    }
   ],
   "source": [
    "# 각 좌표의 x, y 추출하는 방법!\n",
    "points, points[:,0], points[:,1]"
   ]
  },
  {
   "cell_type": "code",
   "execution_count": 89,
   "metadata": {},
   "outputs": [
    {
     "data": {
      "text/plain": [
       "<matplotlib.collections.PathCollection at 0x28fc6074fd0>"
      ]
     },
     "execution_count": 89,
     "metadata": {},
     "output_type": "execute_result"
    },
    {
     "data": {
      "image/png": "[encoded data removed]",
      "text/plain": [
       "<Figure size 640x480 with 1 Axes>"
      ]
     },
     "metadata": {},
     "output_type": "display_data"
    }
   ],
   "source": [
    "import matplotlib.pyplot as plt\n",
    "\n",
    "plt.scatter(points[:,0], points[:,1])"
   ]
  },
  {
   "cell_type": "markdown",
   "metadata": {},
   "source": [
    "## 3.2 거리 행렬 계산:\n",
    "\n",
    "각 점 간의 유클리드 거리 제곱을 계산하여 100x100 크기의 거리 행렬을 생성."
   ]
  },
  {
   "cell_type": "code",
   "execution_count": 90,
   "metadata": {},
   "outputs": [
    {
     "data": {
      "text/plain": [
       "((1, 10, 2), (10, 1, 2))"
      ]
     },
     "execution_count": 90,
     "metadata": {},
     "output_type": "execute_result"
    }
   ],
   "source": [
    "points = np.random.rand(10, 2)\n",
    "points[None, :, :].shape, points[:, None, :].shape"
   ]
  },
  {
   "cell_type": "code",
   "execution_count": null,
   "metadata": {},
   "outputs": [
    {
     "data": {
      "text/plain": [
       "(array([[0.32182997, 0.56418957],\n",
       "        [0.51216106, 0.16481233],\n",
       "        [0.3443428 , 0.22545493],\n",
       "        [0.09413755, 0.27706493],\n",
       "        [0.48145058, 0.60159251],\n",
       "        [0.63909414, 0.41243595],\n",
       "        [0.13563635, 0.86270055],\n",
       "        [0.89941444, 0.07391739],\n",
       "        [0.64861492, 0.18473413],\n",
       "        [0.84750643, 0.37177625]]),\n",
       " (10, 2),\n",
       " array([[[0.32182997, 0.56418957],\n",
       "         [0.51216106, 0.16481233],\n",
       "         [0.3443428 , 0.22545493],\n",
       "         [0.09413755, 0.27706493],\n",
       "         [0.48145058, 0.60159251],\n",
       "         [0.63909414, 0.41243595],\n",
       "         [0.13563635, 0.86270055],\n",
       "         [0.89941444, 0.07391739],\n",
       "         [0.64861492, 0.18473413],\n",
       "         [0.84750643, 0.37177625]]]),\n",
       " (1, 10, 2),\n",
       " array([[[0.32182997, 0.56418957]],\n",
       " \n",
       "        [[0.51216106, 0.16481233]],\n",
       " \n",
       "        [[0.3443428 , 0.22545493]],\n",
       " \n",
       "        [[0.09413755, 0.27706493]],\n",
       " \n",
       "        [[0.48145058, 0.60159251]],\n",
       " \n",
       "        [[0.63909414, 0.41243595]],\n",
       " \n",
       "        [[0.13563635, 0.86270055]],\n",
       " \n",
       "        [[0.89941444, 0.07391739]],\n",
       " \n",
       "        [[0.64861492, 0.18473413]],\n",
       " \n",
       "        [[0.84750643, 0.37177625]]]),\n",
       " (10, 1, 2))"
      ]
     },
     "execution_count": 97,
     "metadata": {},
     "output_type": "execute_result"
    }
   ],
   "source": [
    "# 기존 (100,2) -> (1, 10, 2), (10, 4, 2)\n",
    "points, points.shape, points[None, :, :], points[None, :, :].shape, points[:,None,:], points[:,None,:].shape"
   ]
  },
  {
   "cell_type": "code",
   "execution_count": 53,
   "metadata": {},
   "outputs": [
    {
     "data": {
      "text/plain": [
       "((10, 2), (10, 1, 2))"
      ]
     },
     "execution_count": 53,
     "metadata": {},
     "output_type": "execute_result"
    }
   ],
   "source": [
    "points = np.random.rand(10, 2)\n",
    "points.shape, points[:, None, :].shape"
   ]
  },
  {
   "cell_type": "code",
   "execution_count": 54,
   "metadata": {},
   "outputs": [
    {
     "data": {
      "text/plain": [
       "(10, 10, 2)"
      ]
     },
     "execution_count": 54,
     "metadata": {},
     "output_type": "execute_result"
    }
   ],
   "source": [
    "d = points - points[:, None, :]\n",
    "d.shape"
   ]
  },
  {
   "cell_type": "code",
   "execution_count": 55,
   "metadata": {},
   "outputs": [
    {
     "data": {
      "text/plain": [
       "(10, 10, 2)"
      ]
     },
     "execution_count": 55,
     "metadata": {},
     "output_type": "execute_result"
    }
   ],
   "source": [
    "d = (points - points[:, None, :])\n",
    "d.shape"
   ]
  },
  {
   "cell_type": "code",
   "execution_count": 59,
   "metadata": {},
   "outputs": [
    {
     "data": {
      "text/plain": [
       "array([[0.        , 0.75316332, 0.2765868 , 0.39186239, 0.87784314,\n",
       "        0.81765984, 0.31911266, 0.42075669, 0.50957857, 0.47028307],\n",
       "       [0.75316332, 0.        , 0.50045135, 0.58289796, 0.14077547,\n",
       "        0.31163876, 0.43902595, 1.1037008 , 0.54752868, 0.3557191 ],\n",
       "       [0.2765868 , 0.50045135, 0.        , 0.20818768, 0.63485951,\n",
       "        0.63810783, 0.07338973, 0.68469371, 0.29296156, 0.19396288],\n",
       "       [0.39186239, 0.58289796, 0.20818768, 0.        , 0.72366142,\n",
       "        0.79132781, 0.2641626 , 0.810551  , 0.12027908, 0.22825243],\n",
       "       [0.87784314, 0.14077547, 0.63485951, 0.72366142, 0.        ,\n",
       "        0.26890745, 0.57015167, 1.2077931 , 0.68563871, 0.49643626],\n",
       "       [0.81765984, 0.31163876, 0.63810783, 0.79132781, 0.26890745,\n",
       "        0.        , 0.56477692, 1.07101464, 0.79373336, 0.57433529],\n",
       "       [0.31911266, 0.43902595, 0.07338973, 0.2641626 , 0.57015167,\n",
       "        0.56477692, 0.        , 0.70834278, 0.32934045, 0.17534787],\n",
       "       [0.42075669, 1.1037008 , 0.68469371, 0.810551  , 1.2077931 ,\n",
       "        1.07101464, 0.70834278, 0.        , 0.92945251, 0.87653987],\n",
       "       [0.50957857, 0.54752868, 0.29296156, 0.12027908, 0.68563871,\n",
       "        0.79373336, 0.32934045, 0.92945251, 0.        , 0.22166193],\n",
       "       [0.47028307, 0.3557191 , 0.19396288, 0.22825243, 0.49643626,\n",
       "        0.57433529, 0.17534787, 0.87653987, 0.22166193, 0.        ]])"
      ]
     },
     "execution_count": 59,
     "metadata": {},
     "output_type": "execute_result"
    }
   ],
   "source": [
    "d = np.sqrt(np.sum((points - points[:, None, :])**2, axis=2))\n",
    "d"
   ]
  },
  {
   "cell_type": "code",
   "execution_count": 58,
   "metadata": {},
   "outputs": [
    {
     "data": {
      "text/plain": [
       "array([[0.        , 0.75316332, 0.2765868 , 0.39186239, 0.87784314,\n",
       "        0.81765984, 0.31911266, 0.42075669, 0.50957857, 0.47028307],\n",
       "       [0.75316332, 0.        , 0.50045135, 0.58289796, 0.14077547,\n",
       "        0.31163876, 0.43902595, 1.1037008 , 0.54752868, 0.3557191 ],\n",
       "       [0.2765868 , 0.50045135, 0.        , 0.20818768, 0.63485951,\n",
       "        0.63810783, 0.07338973, 0.68469371, 0.29296156, 0.19396288],\n",
       "       [0.39186239, 0.58289796, 0.20818768, 0.        , 0.72366142,\n",
       "        0.79132781, 0.2641626 , 0.810551  , 0.12027908, 0.22825243],\n",
       "       [0.87784314, 0.14077547, 0.63485951, 0.72366142, 0.        ,\n",
       "        0.26890745, 0.57015167, 1.2077931 , 0.68563871, 0.49643626],\n",
       "       [0.81765984, 0.31163876, 0.63810783, 0.79132781, 0.26890745,\n",
       "        0.        , 0.56477692, 1.07101464, 0.79373336, 0.57433529],\n",
       "       [0.31911266, 0.43902595, 0.07338973, 0.2641626 , 0.57015167,\n",
       "        0.56477692, 0.        , 0.70834278, 0.32934045, 0.17534787],\n",
       "       [0.42075669, 1.1037008 , 0.68469371, 0.810551  , 1.2077931 ,\n",
       "        1.07101464, 0.70834278, 0.        , 0.92945251, 0.87653987],\n",
       "       [0.50957857, 0.54752868, 0.29296156, 0.12027908, 0.68563871,\n",
       "        0.79373336, 0.32934045, 0.92945251, 0.        , 0.22166193],\n",
       "       [0.47028307, 0.3557191 , 0.19396288, 0.22825243, 0.49643626,\n",
       "        0.57433529, 0.17534787, 0.87653987, 0.22166193, 0.        ]])"
      ]
     },
     "execution_count": 58,
     "metadata": {},
     "output_type": "execute_result"
    }
   ],
   "source": [
    "from sklearn.metrics import pairwise_distances\n",
    "\n",
    "points = np.random.rand(10, 2)\n",
    "pairwise_distances(points)"
   ]
  },
  {
   "cell_type": "code",
   "execution_count": 52,
   "metadata": {},
   "outputs": [
    {
     "data": {
      "text/plain": [
       "array([[0, 5, 4, 1, 7, 6, 8, 9, 2, 3],\n",
       "       [1, 5, 0, 8, 6, 4, 7, 3, 2, 9],\n",
       "       [2, 9, 8, 1, 7, 3, 0, 5, 6, 4],\n",
       "       [3, 8, 6, 1, 5, 2, 0, 9, 7, 4],\n",
       "       [4, 0, 5, 7, 1, 9, 6, 8, 2, 3],\n",
       "       [5, 0, 1, 4, 6, 7, 8, 3, 9, 2],\n",
       "       [6, 3, 8, 5, 1, 0, 4, 2, 7, 9],\n",
       "       [7, 9, 0, 4, 1, 5, 2, 8, 6, 3],\n",
       "       [8, 3, 1, 6, 2, 5, 0, 9, 7, 4],\n",
       "       [9, 2, 7, 1, 0, 8, 4, 5, 3, 6]], dtype=int64)"
      ]
     },
     "execution_count": 52,
     "metadata": {},
     "output_type": "execute_result"
    }
   ],
   "source": [
    "np.argsort(d)"
   ]
  },
  {
   "cell_type": "code",
   "execution_count": 50,
   "metadata": {},
   "outputs": [
    {
     "data": {
      "text/plain": [
       "array([0.10747072, 0.53482865, 0.48899658, 0.73044657, 0.09488453,\n",
       "       0.30155786, 0.50093485, 0.96834425, 0.77651748, 0.26665473])"
      ]
     },
     "execution_count": 50,
     "metadata": {},
     "output_type": "execute_result"
    }
   ],
   "source": [
    "data = np.random.rand(10)\n",
    "data"
   ]
  },
  {
   "cell_type": "code",
   "execution_count": 51,
   "metadata": {},
   "outputs": [
    {
     "data": {
      "text/plain": [
       "array([4, 0, 9, 5, 2, 6, 1, 3, 8, 7], dtype=int64)"
      ]
     },
     "execution_count": 51,
     "metadata": {},
     "output_type": "execute_result"
    }
   ],
   "source": [
    "np.argsort(data)"
   ]
  },
  {
   "cell_type": "markdown",
   "metadata": {},
   "source": [
    "3.3 5-최근접 이웃 찾기:\n",
    "각 점에 대해 가장 가까운 5개의 점을 거리 순으로 정렬.\n",
    "자기 자신을 제외하고 가장 가까운 5개의 이웃.\n",
    "\n"
   ]
  },
  {
   "cell_type": "code",
   "execution_count": null,
   "metadata": {},
   "outputs": [],
   "source": []
  },
  {
   "cell_type": "markdown",
   "metadata": {},
   "source": [
    "3.4 결과 출력:\n",
    "각 점에 대해 가장 가까운 5개의 이웃의 좌표와 거리 제곱을 출력.\n",
    "\n"
   ]
  },
  {
   "cell_type": "code",
   "execution_count": null,
   "metadata": {},
   "outputs": [],
   "source": []
  },
  {
   "cell_type": "markdown",
   "metadata": {},
   "source": [
    "3.5 시각화:\n",
    "matplotlib를 사용하여 각 점과 해당 점의 5-최근접 이웃을 플롯.\n",
    "각 점은 scatter로 표시하고, 가까운 이웃과 연결하는 선을 추가하여 관계를 시각적으로 표현."
   ]
  },
  {
   "cell_type": "code",
   "execution_count": null,
   "metadata": {},
   "outputs": [],
   "source": []
  },
  {
   "cell_type": "markdown",
   "metadata": {},
   "source": [
    "###### 연습장"
   ]
  },
  {
   "cell_type": "code",
   "execution_count": 98,
   "metadata": {},
   "outputs": [
    {
     "data": {
      "text/plain": [
       "array([[7, 7],\n",
       "       [3, 2],\n",
       "       [7, 5],\n",
       "       [7, 8],\n",
       "       [5, 5]], dtype=int32)"
      ]
     },
     "execution_count": 98,
     "metadata": {},
     "output_type": "execute_result"
    }
   ],
   "source": [
    "data = np.random.randint(0, 10, (5, 2))\n",
    "data"
   ]
  },
  {
   "cell_type": "code",
   "execution_count": 99,
   "metadata": {},
   "outputs": [
    {
     "data": {
      "text/plain": [
       "<matplotlib.collections.PathCollection at 0x28fc817d850>"
      ]
     },
     "execution_count": 99,
     "metadata": {},
     "output_type": "execute_result"
    },
    {
     "data": {
      "image/png": "[encoded data removed]",
      "text/plain": [
       "<Figure size 640x480 with 1 Axes>"
      ]
     },
     "metadata": {},
     "output_type": "display_data"
    }
   ],
   "source": [
    "plt.scatter(data[:,0], data[:,1])"
   ]
  },
  {
   "cell_type": "code",
   "execution_count": 100,
   "metadata": {},
   "outputs": [
    {
     "data": {
      "text/plain": [
       "array([[[7, 7]],\n",
       "\n",
       "       [[3, 2]],\n",
       "\n",
       "       [[7, 5]],\n",
       "\n",
       "       [[7, 8]],\n",
       "\n",
       "       [[5, 5]]], dtype=int32)"
      ]
     },
     "execution_count": 100,
     "metadata": {},
     "output_type": "execute_result"
    }
   ],
   "source": [
    "data[:, None, :]"
   ]
  },
  {
   "cell_type": "code",
   "execution_count": 103,
   "metadata": {},
   "outputs": [
    {
     "data": {
      "text/plain": [
       "((5, 1, 2), (1, 5, 2))"
      ]
     },
     "execution_count": 103,
     "metadata": {},
     "output_type": "execute_result"
    }
   ],
   "source": [
    "data[:, None, :].shape , data[None, :, :].shape"
   ]
  },
  {
   "cell_type": "code",
   "execution_count": 105,
   "metadata": {},
   "outputs": [
    {
     "data": {
      "text/plain": [
       "(array([[[ 0,  0],\n",
       "         [ 4,  5],\n",
       "         [ 0,  2],\n",
       "         [ 0, -1],\n",
       "         [ 2,  2]],\n",
       " \n",
       "        [[-4, -5],\n",
       "         [ 0,  0],\n",
       "         [-4, -3],\n",
       "         [-4, -6],\n",
       "         [-2, -3]],\n",
       " \n",
       "        [[ 0, -2],\n",
       "         [ 4,  3],\n",
       "         [ 0,  0],\n",
       "         [ 0, -3],\n",
       "         [ 2,  0]],\n",
       " \n",
       "        [[ 0,  1],\n",
       "         [ 4,  6],\n",
       "         [ 0,  3],\n",
       "         [ 0,  0],\n",
       "         [ 2,  3]],\n",
       " \n",
       "        [[-2, -2],\n",
       "         [ 2,  3],\n",
       "         [-2,  0],\n",
       "         [-2, -3],\n",
       "         [ 0,  0]]], dtype=int32),\n",
       " (5, 5, 2))"
      ]
     },
     "execution_count": 105,
     "metadata": {},
     "output_type": "execute_result"
    }
   ],
   "source": [
    "data[:, None, :] - data[None, :, :], (data[:, None, :] - data[None, :, :]).shape"
   ]
  },
  {
   "cell_type": "code",
   "execution_count": 107,
   "metadata": {},
   "outputs": [
    {
     "data": {
      "text/plain": [
       "array([-1,  2])"
      ]
     },
     "execution_count": 107,
     "metadata": {},
     "output_type": "execute_result"
    }
   ],
   "source": [
    "np.array([1,4]) - np.array([2,2])"
   ]
  },
  {
   "cell_type": "code",
   "execution_count": 111,
   "metadata": {},
   "outputs": [
    {
     "data": {
      "text/plain": [
       "array([1., 2.])"
      ]
     },
     "execution_count": 111,
     "metadata": {},
     "output_type": "execute_result"
    }
   ],
   "source": [
    "np.sqrt((np.array([1,4]) - np.array([2,2]))**2)"
   ]
  },
  {
   "cell_type": "code",
   "execution_count": null,
   "metadata": {},
   "outputs": [
    {
     "data": {
      "text/plain": [
       "(array([[[0., 0.],\n",
       "         [4., 5.],\n",
       "         [0., 2.],\n",
       "         [0., 1.],\n",
       "         [2., 2.]],\n",
       " \n",
       "        [[4., 5.],\n",
       "         [0., 0.],\n",
       "         [4., 3.],\n",
       "         [4., 6.],\n",
       "         [2., 3.]],\n",
       " \n",
       "        [[0., 2.],\n",
       "         [4., 3.],\n",
       "         [0., 0.],\n",
       "         [0., 3.],\n",
       "         [2., 0.]],\n",
       " \n",
       "        [[0., 1.],\n",
       "         [4., 6.],\n",
       "         [0., 3.],\n",
       "         [0., 0.],\n",
       "         [2., 3.]],\n",
       " \n",
       "        [[2., 2.],\n",
       "         [2., 3.],\n",
       "         [2., 0.],\n",
       "         [2., 3.],\n",
       "         [0., 0.]]]),\n",
       " (5, 5, 2))"
      ]
     },
     "execution_count": 112,
     "metadata": {},
     "output_type": "execute_result"
    }
   ],
   "source": [
    "#np.sqrt((data[:, None, :] - data[None, :, :])**2), (np.sqrt((data[:, None, :] - data[None, :, :])**2)).shape"
   ]
  },
  {
   "cell_type": "code",
   "execution_count": null,
   "metadata": {},
   "outputs": [
    {
     "data": {
      "text/plain": [
       "array([[ 0.,  9.,  2.,  1.,  4.],\n",
       "       [ 9.,  0.,  7., 10.,  5.],\n",
       "       [ 2.,  7.,  0.,  3.,  2.],\n",
       "       [ 1., 10.,  3.,  0.,  5.],\n",
       "       [ 4.,  5.,  2.,  5.,  0.]])"
      ]
     },
     "execution_count": 116,
     "metadata": {},
     "output_type": "execute_result"
    }
   ],
   "source": [
    "# 거리 매트릭 만들기\n",
    "#np.sum(np.sqrt((data[:, None, :] - data[None, :, :])**2), axis=2) # 거리를 계산한 인접행렬"
   ]
  },
  {
   "cell_type": "code",
   "execution_count": null,
   "metadata": {},
   "outputs": [
    {
     "ename": "TypeError",
     "evalue": "sqrt() got an unexpected keyword argument 'axis'",
     "output_type": "error",
     "traceback": [
      "\u001b[1;31m---------------------------------------------------------------------------\u001b[0m",
      "\u001b[1;31mTypeError\u001b[0m                                 Traceback (most recent call last)",
      "Cell \u001b[1;32mIn[122], line 1\u001b[0m\n\u001b[1;32m----> 1\u001b[0m dist \u001b[38;5;241m=\u001b[39m \u001b[43mnp\u001b[49m\u001b[38;5;241;43m.\u001b[39;49m\u001b[43msqrt\u001b[49m\u001b[43m(\u001b[49m\u001b[43mnp\u001b[49m\u001b[38;5;241;43m.\u001b[39;49m\u001b[43msum\u001b[49m\u001b[43m(\u001b[49m\u001b[43m(\u001b[49m\u001b[43mdata\u001b[49m\u001b[43m[\u001b[49m\u001b[43m:\u001b[49m\u001b[43m,\u001b[49m\u001b[43m \u001b[49m\u001b[38;5;28;43;01mNone\u001b[39;49;00m\u001b[43m,\u001b[49m\u001b[43m \u001b[49m\u001b[43m:\u001b[49m\u001b[43m]\u001b[49m\u001b[43m \u001b[49m\u001b[38;5;241;43m-\u001b[39;49m\u001b[43m \u001b[49m\u001b[43mdata\u001b[49m\u001b[43m[\u001b[49m\u001b[38;5;28;43;01mNone\u001b[39;49;00m\u001b[43m,\u001b[49m\u001b[43m \u001b[49m\u001b[43m:\u001b[49m\u001b[43m,\u001b[49m\u001b[43m \u001b[49m\u001b[43m:\u001b[49m\u001b[43m]\u001b[49m\u001b[43m)\u001b[49m\u001b[38;5;241;43m*\u001b[39;49m\u001b[38;5;241;43m*\u001b[39;49m\u001b[38;5;241;43m2\u001b[39;49m\u001b[43m)\u001b[49m\u001b[43m,\u001b[49m\u001b[43m \u001b[49m\u001b[43maxis\u001b[49m\u001b[38;5;241;43m=\u001b[39;49m\u001b[38;5;241;43m2\u001b[39;49m\u001b[43m)\u001b[49m\n\u001b[0;32m      2\u001b[0m np\u001b[38;5;241m.\u001b[39msort(dist), np\u001b[38;5;241m.\u001b[39msort(dist)[:, \u001b[38;5;241m1\u001b[39m:\u001b[38;5;241m4\u001b[39m], np\u001b[38;5;241m.\u001b[39margsort(dist) \u001b[38;5;66;03m# 나한테서 가장 가까운 점 찾을 수 있겠다!\u001b[39;00m\n",
      "\u001b[1;31mTypeError\u001b[0m: sqrt() got an unexpected keyword argument 'axis'"
     ]
    }
   ],
   "source": [
    "#dist = np.sqrt(np.sum((data[:, None, :] - data[None, :, :])**2), axis=2)\n",
    "#np.sort(dist), np.sort(dist)[:, 1:4], np.argsort(dist) # 나한테서 가장 가까운 점 찾을 수 있겠다!"
   ]
  }
 ],
 "metadata": {
  "kernelspec": {
   "display_name": "Python 3",
   "language": "python",
   "name": "python3"
  },
  "language_info": {
   "codemirror_mode": {
    "name": "ipython",
    "version": 3
   },
   "file_extension": ".py",
   "mimetype": "text/x-python",
   "name": "python",
   "nbconvert_exporter": "python",
   "pygments_lexer": "ipython3",
   "version": "3.9.13"
  }
 },
 "nbformat": 4,
 "nbformat_minor": 2
}
