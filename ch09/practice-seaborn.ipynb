{
 "cells": [
  {
   "cell_type": "markdown",
   "id": "435f3f77",
   "metadata": {},
   "source": [
    "# 타이타닉 생존자 예측을 위한 EDA"
   ]
  },
  {
   "cell_type": "markdown",
   "id": "f1069f41",
   "metadata": {},
   "source": [
    "데이터 전처리"
   ]
  },
  {
   "cell_type": "code",
   "execution_count": 1,
   "id": "a868352c",
   "metadata": {},
   "outputs": [],
   "source": [
    "import numpy as np\n",
    "import pandas as pd\n",
    "import matplotlib.pyplot as plt"
   ]
  },
  {
   "cell_type": "code",
   "execution_count": 2,
   "id": "678aaa4a",
   "metadata": {},
   "outputs": [],
   "source": [
    "plt.rcParams[\"font.family\"] = \"Malgun Gothic\"\n",
    "plt.rcParams[\"axes.unicode_minus\"] = False"
   ]
  },
  {
   "cell_type": "code",
   "execution_count": 3,
   "id": "785e58db",
   "metadata": {},
   "outputs": [
    {
     "data": {
      "text/html": [
       "<div>\n",
       "<style scoped>\n",
       "    .dataframe tbody tr th:only-of-type {\n",
       "        vertical-align: middle;\n",
       "    }\n",
       "\n",
       "    .dataframe tbody tr th {\n",
       "        vertical-align: top;\n",
       "    }\n",
       "\n",
       "    .dataframe thead th {\n",
       "        text-align: right;\n",
       "    }\n",
       "</style>\n",
       "<table border=\"1\" class=\"dataframe\">\n",
       "  <thead>\n",
       "    <tr style=\"text-align: right;\">\n",
       "      <th></th>\n",
       "      <th>survived</th>\n",
       "      <th>pclass</th>\n",
       "      <th>sex</th>\n",
       "      <th>age</th>\n",
       "      <th>sibsp</th>\n",
       "      <th>parch</th>\n",
       "      <th>fare</th>\n",
       "      <th>embarked</th>\n",
       "      <th>class</th>\n",
       "      <th>who</th>\n",
       "      <th>adult_male</th>\n",
       "      <th>deck</th>\n",
       "      <th>embark_town</th>\n",
       "      <th>alive</th>\n",
       "      <th>alone</th>\n",
       "    </tr>\n",
       "  </thead>\n",
       "  <tbody>\n",
       "    <tr>\n",
       "      <th>0</th>\n",
       "      <td>0</td>\n",
       "      <td>3</td>\n",
       "      <td>male</td>\n",
       "      <td>22.0</td>\n",
       "      <td>1</td>\n",
       "      <td>0</td>\n",
       "      <td>7.2500</td>\n",
       "      <td>S</td>\n",
       "      <td>Third</td>\n",
       "      <td>man</td>\n",
       "      <td>True</td>\n",
       "      <td>NaN</td>\n",
       "      <td>Southampton</td>\n",
       "      <td>no</td>\n",
       "      <td>False</td>\n",
       "    </tr>\n",
       "    <tr>\n",
       "      <th>1</th>\n",
       "      <td>1</td>\n",
       "      <td>1</td>\n",
       "      <td>female</td>\n",
       "      <td>38.0</td>\n",
       "      <td>1</td>\n",
       "      <td>0</td>\n",
       "      <td>71.2833</td>\n",
       "      <td>C</td>\n",
       "      <td>First</td>\n",
       "      <td>woman</td>\n",
       "      <td>False</td>\n",
       "      <td>C</td>\n",
       "      <td>Cherbourg</td>\n",
       "      <td>yes</td>\n",
       "      <td>False</td>\n",
       "    </tr>\n",
       "    <tr>\n",
       "      <th>2</th>\n",
       "      <td>1</td>\n",
       "      <td>3</td>\n",
       "      <td>female</td>\n",
       "      <td>26.0</td>\n",
       "      <td>0</td>\n",
       "      <td>0</td>\n",
       "      <td>7.9250</td>\n",
       "      <td>S</td>\n",
       "      <td>Third</td>\n",
       "      <td>woman</td>\n",
       "      <td>False</td>\n",
       "      <td>NaN</td>\n",
       "      <td>Southampton</td>\n",
       "      <td>yes</td>\n",
       "      <td>True</td>\n",
       "    </tr>\n",
       "    <tr>\n",
       "      <th>3</th>\n",
       "      <td>1</td>\n",
       "      <td>1</td>\n",
       "      <td>female</td>\n",
       "      <td>35.0</td>\n",
       "      <td>1</td>\n",
       "      <td>0</td>\n",
       "      <td>53.1000</td>\n",
       "      <td>S</td>\n",
       "      <td>First</td>\n",
       "      <td>woman</td>\n",
       "      <td>False</td>\n",
       "      <td>C</td>\n",
       "      <td>Southampton</td>\n",
       "      <td>yes</td>\n",
       "      <td>False</td>\n",
       "    </tr>\n",
       "    <tr>\n",
       "      <th>4</th>\n",
       "      <td>0</td>\n",
       "      <td>3</td>\n",
       "      <td>male</td>\n",
       "      <td>35.0</td>\n",
       "      <td>0</td>\n",
       "      <td>0</td>\n",
       "      <td>8.0500</td>\n",
       "      <td>S</td>\n",
       "      <td>Third</td>\n",
       "      <td>man</td>\n",
       "      <td>True</td>\n",
       "      <td>NaN</td>\n",
       "      <td>Southampton</td>\n",
       "      <td>no</td>\n",
       "      <td>True</td>\n",
       "    </tr>\n",
       "  </tbody>\n",
       "</table>\n",
       "</div>"
      ],
      "text/plain": [
       "   survived  pclass     sex   age  sibsp  parch     fare embarked  class  \\\n",
       "0         0       3    male  22.0      1      0   7.2500        S  Third   \n",
       "1         1       1  female  38.0      1      0  71.2833        C  First   \n",
       "2         1       3  female  26.0      0      0   7.9250        S  Third   \n",
       "3         1       1  female  35.0      1      0  53.1000        S  First   \n",
       "4         0       3    male  35.0      0      0   8.0500        S  Third   \n",
       "\n",
       "     who  adult_male deck  embark_town alive  alone  \n",
       "0    man        True  NaN  Southampton    no  False  \n",
       "1  woman       False    C    Cherbourg   yes  False  \n",
       "2  woman       False  NaN  Southampton   yes   True  \n",
       "3  woman       False    C  Southampton   yes  False  \n",
       "4    man        True  NaN  Southampton    no   True  "
      ]
     },
     "execution_count": 3,
     "metadata": {},
     "output_type": "execute_result"
    }
   ],
   "source": [
    "import seaborn as sns\n",
    "df = sns.load_dataset(\"titanic\") # Pandas DataFrame을 반환해줌\n",
    "df.head(5)"
   ]
  },
  {
   "cell_type": "code",
   "execution_count": 4,
   "id": "184475c6",
   "metadata": {},
   "outputs": [
    {
     "data": {
      "text/html": [
       "<div>\n",
       "<style scoped>\n",
       "    .dataframe tbody tr th:only-of-type {\n",
       "        vertical-align: middle;\n",
       "    }\n",
       "\n",
       "    .dataframe tbody tr th {\n",
       "        vertical-align: top;\n",
       "    }\n",
       "\n",
       "    .dataframe thead th {\n",
       "        text-align: right;\n",
       "    }\n",
       "</style>\n",
       "<table border=\"1\" class=\"dataframe\">\n",
       "  <thead>\n",
       "    <tr style=\"text-align: right;\">\n",
       "      <th></th>\n",
       "      <th>survived</th>\n",
       "      <th>pclass</th>\n",
       "      <th>age</th>\n",
       "      <th>sibsp</th>\n",
       "      <th>parch</th>\n",
       "      <th>fare</th>\n",
       "    </tr>\n",
       "  </thead>\n",
       "  <tbody>\n",
       "    <tr>\n",
       "      <th>count</th>\n",
       "      <td>891.000000</td>\n",
       "      <td>891.000000</td>\n",
       "      <td>714.000000</td>\n",
       "      <td>891.000000</td>\n",
       "      <td>891.000000</td>\n",
       "      <td>891.000000</td>\n",
       "    </tr>\n",
       "    <tr>\n",
       "      <th>mean</th>\n",
       "      <td>0.383838</td>\n",
       "      <td>2.308642</td>\n",
       "      <td>29.699118</td>\n",
       "      <td>0.523008</td>\n",
       "      <td>0.381594</td>\n",
       "      <td>32.204208</td>\n",
       "    </tr>\n",
       "    <tr>\n",
       "      <th>std</th>\n",
       "      <td>0.486592</td>\n",
       "      <td>0.836071</td>\n",
       "      <td>14.526497</td>\n",
       "      <td>1.102743</td>\n",
       "      <td>0.806057</td>\n",
       "      <td>49.693429</td>\n",
       "    </tr>\n",
       "    <tr>\n",
       "      <th>min</th>\n",
       "      <td>0.000000</td>\n",
       "      <td>1.000000</td>\n",
       "      <td>0.420000</td>\n",
       "      <td>0.000000</td>\n",
       "      <td>0.000000</td>\n",
       "      <td>0.000000</td>\n",
       "    </tr>\n",
       "    <tr>\n",
       "      <th>25%</th>\n",
       "      <td>0.000000</td>\n",
       "      <td>2.000000</td>\n",
       "      <td>20.125000</td>\n",
       "      <td>0.000000</td>\n",
       "      <td>0.000000</td>\n",
       "      <td>7.910400</td>\n",
       "    </tr>\n",
       "    <tr>\n",
       "      <th>50%</th>\n",
       "      <td>0.000000</td>\n",
       "      <td>3.000000</td>\n",
       "      <td>28.000000</td>\n",
       "      <td>0.000000</td>\n",
       "      <td>0.000000</td>\n",
       "      <td>14.454200</td>\n",
       "    </tr>\n",
       "    <tr>\n",
       "      <th>75%</th>\n",
       "      <td>1.000000</td>\n",
       "      <td>3.000000</td>\n",
       "      <td>38.000000</td>\n",
       "      <td>1.000000</td>\n",
       "      <td>0.000000</td>\n",
       "      <td>31.000000</td>\n",
       "    </tr>\n",
       "    <tr>\n",
       "      <th>max</th>\n",
       "      <td>1.000000</td>\n",
       "      <td>3.000000</td>\n",
       "      <td>80.000000</td>\n",
       "      <td>8.000000</td>\n",
       "      <td>6.000000</td>\n",
       "      <td>512.329200</td>\n",
       "    </tr>\n",
       "  </tbody>\n",
       "</table>\n",
       "</div>"
      ],
      "text/plain": [
       "         survived      pclass         age       sibsp       parch        fare\n",
       "count  891.000000  891.000000  714.000000  891.000000  891.000000  891.000000\n",
       "mean     0.383838    2.308642   29.699118    0.523008    0.381594   32.204208\n",
       "std      0.486592    0.836071   14.526497    1.102743    0.806057   49.693429\n",
       "min      0.000000    1.000000    0.420000    0.000000    0.000000    0.000000\n",
       "25%      0.000000    2.000000   20.125000    0.000000    0.000000    7.910400\n",
       "50%      0.000000    3.000000   28.000000    0.000000    0.000000   14.454200\n",
       "75%      1.000000    3.000000   38.000000    1.000000    0.000000   31.000000\n",
       "max      1.000000    3.000000   80.000000    8.000000    6.000000  512.329200"
      ]
     },
     "execution_count": 4,
     "metadata": {},
     "output_type": "execute_result"
    }
   ],
   "source": [
    "df.describe()"
   ]
  },
  {
   "cell_type": "code",
   "execution_count": 5,
   "id": "91d11018",
   "metadata": {},
   "outputs": [
    {
     "name": "stdout",
     "output_type": "stream",
     "text": [
      "<class 'pandas.core.frame.DataFrame'>\n",
      "RangeIndex: 891 entries, 0 to 890\n",
      "Data columns (total 15 columns):\n",
      " #   Column       Non-Null Count  Dtype   \n",
      "---  ------       --------------  -----   \n",
      " 0   survived     891 non-null    int64   \n",
      " 1   pclass       891 non-null    int64   \n",
      " 2   sex          891 non-null    object  \n",
      " 3   age          714 non-null    float64 \n",
      " 4   sibsp        891 non-null    int64   \n",
      " 5   parch        891 non-null    int64   \n",
      " 6   fare         891 non-null    float64 \n",
      " 7   embarked     889 non-null    object  \n",
      " 8   class        891 non-null    category\n",
      " 9   who          891 non-null    object  \n",
      " 10  adult_male   891 non-null    bool    \n",
      " 11  deck         203 non-null    category\n",
      " 12  embark_town  889 non-null    object  \n",
      " 13  alive        891 non-null    object  \n",
      " 14  alone        891 non-null    bool    \n",
      "dtypes: bool(2), category(2), float64(2), int64(4), object(5)\n",
      "memory usage: 80.7+ KB\n"
     ]
    }
   ],
   "source": [
    "df.info()"
   ]
  },
  {
   "cell_type": "code",
   "execution_count": 6,
   "id": "f61a3319",
   "metadata": {},
   "outputs": [
    {
     "data": {
      "text/plain": [
       "survived        0.000000\n",
       "pclass          0.000000\n",
       "sex             0.000000\n",
       "age            19.865320\n",
       "sibsp           0.000000\n",
       "parch           0.000000\n",
       "fare            0.000000\n",
       "embarked        0.224467\n",
       "class           0.000000\n",
       "who             0.000000\n",
       "adult_male      0.000000\n",
       "deck           77.216611\n",
       "embark_town     0.224467\n",
       "alive           0.000000\n",
       "alone           0.000000\n",
       "dtype: float64"
      ]
     },
     "execution_count": 6,
     "metadata": {},
     "output_type": "execute_result"
    }
   ],
   "source": [
    "missing_values = df.isnull().sum()\n",
    "missing_percent = (missing_values / len(df)) * 100\n",
    "missing_percent"
   ]
  },
  {
   "cell_type": "code",
   "execution_count": 7,
   "id": "5583329f",
   "metadata": {},
   "outputs": [],
   "source": [
    "# TODO: Pandas 경고는 수정해야 됨\n",
    "# 원본 데이터는 항상 보존되어야 한다!\n",
    "#df[\"age\"].fillna(df[\"age\"].mean(), inplace=True)\n",
    "#df[\"embarked\"].fillna(df[\"embarked\"].mode()[0], inplace=True)\n",
    "\n",
    "df[\"age\"] = df[\"age\"].fillna(df[\"age\"].mean())\n",
    "df[\"embarked\"] = df[\"embarked\"].fillna(df[\"embarked\"].mode()[0])"
   ]
  },
  {
   "cell_type": "markdown",
   "id": "9856ef59",
   "metadata": {},
   "source": [
    "## 생존자 현황"
   ]
  },
  {
   "cell_type": "code",
   "execution_count": 8,
   "id": "bd379be3",
   "metadata": {},
   "outputs": [
    {
     "name": "stdout",
     "output_type": "stream",
     "text": [
      "생존자: 342명\n",
      "사망자: 549명\n",
      "생존율: 38.38%\n"
     ]
    }
   ],
   "source": [
    "survived_count = df[\"survived\"].value_counts()\n",
    "survived_rate = df[\"survived\"].mean()\n",
    "print(f\"생존자: {survived_count[1]}명\")\n",
    "print(f\"사망자: {survived_count[0]}명\")\n",
    "print(f\"생존율: {survived_rate:.2%}\")"
   ]
  },
  {
   "cell_type": "code",
   "execution_count": 9,
   "id": "ec161378",
   "metadata": {},
   "outputs": [
    {
     "data": {
      "text/html": [
       "<div>\n",
       "<style scoped>\n",
       "    .dataframe tbody tr th:only-of-type {\n",
       "        vertical-align: middle;\n",
       "    }\n",
       "\n",
       "    .dataframe tbody tr th {\n",
       "        vertical-align: top;\n",
       "    }\n",
       "\n",
       "    .dataframe thead th {\n",
       "        text-align: right;\n",
       "    }\n",
       "</style>\n",
       "<table border=\"1\" class=\"dataframe\">\n",
       "  <thead>\n",
       "    <tr style=\"text-align: right;\">\n",
       "      <th>survived</th>\n",
       "      <th>0</th>\n",
       "      <th>1</th>\n",
       "    </tr>\n",
       "    <tr>\n",
       "      <th>sex</th>\n",
       "      <th></th>\n",
       "      <th></th>\n",
       "    </tr>\n",
       "  </thead>\n",
       "  <tbody>\n",
       "    <tr>\n",
       "      <th>female</th>\n",
       "      <td>81</td>\n",
       "      <td>233</td>\n",
       "    </tr>\n",
       "    <tr>\n",
       "      <th>male</th>\n",
       "      <td>468</td>\n",
       "      <td>109</td>\n",
       "    </tr>\n",
       "  </tbody>\n",
       "</table>\n",
       "</div>"
      ],
      "text/plain": [
       "survived    0    1\n",
       "sex               \n",
       "female     81  233\n",
       "male      468  109"
      ]
     },
     "execution_count": 9,
     "metadata": {},
     "output_type": "execute_result"
    }
   ],
   "source": [
    "# crossTab : 매우 유용!!!!!\n",
    "pd.crosstab(df[\"sex\"], df[\"survived\"]) # Pandas의 약속: x축은 무족건 index로 깐다는 전제!"
   ]
  },
  {
   "cell_type": "code",
   "execution_count": 10,
   "id": "9e9f30fd",
   "metadata": {},
   "outputs": [
    {
     "data": {
      "text/plain": [
       "<Axes: xlabel='sex'>"
      ]
     },
     "execution_count": 10,
     "metadata": {},
     "output_type": "execute_result"
    },
    {
     "data": {
      "image/png": "[encoded data removed]",
      "text/plain": [
       "<Figure size 640x480 with 1 Axes>"
      ]
     },
     "metadata": {},
     "output_type": "display_data"
    }
   ],
   "source": [
    "gender_survival_counts = pd.crosstab(df[\"sex\"], df[\"survived\"]) # Pandas의 약속: x축은 무족건 index로 깐다는 전제!\n",
    "gender_survival_counts.plot(kind=\"bar\", color=[\"red\", \"green\"])"
   ]
  },
  {
   "cell_type": "code",
   "execution_count": 11,
   "id": "0f8819be",
   "metadata": {},
   "outputs": [
    {
     "data": {
      "text/plain": [
       "<Axes: xlabel='sex', ylabel='count'>"
      ]
     },
     "execution_count": 11,
     "metadata": {},
     "output_type": "execute_result"
    },
    {
     "data": {
      "image/png": "[encoded data removed]",
      "text/plain": [
       "<Figure size 640x480 with 1 Axes>"
      ]
     },
     "metadata": {},
     "output_type": "display_data"
    }
   ],
   "source": [
    "sns.countplot(data=df, x=\"sex\")"
   ]
  },
  {
   "cell_type": "code",
   "execution_count": 12,
   "id": "68441219",
   "metadata": {},
   "outputs": [
    {
     "data": {
      "text/plain": [
       "<Axes: xlabel='sex', ylabel='count'>"
      ]
     },
     "execution_count": 12,
     "metadata": {},
     "output_type": "execute_result"
    },
    {
     "data": {
      "image/png": "[encoded data removed]",
      "text/plain": [
       "<Figure size 640x480 with 1 Axes>"
      ]
     },
     "metadata": {},
     "output_type": "display_data"
    }
   ],
   "source": [
    "# sns.countplot(data=df, x=\"sex\", hue=\"survived\", palette=[\"red\", \"green\"])\n",
    "sns.countplot(data=df, x=\"sex\", hue=\"survived\") # sex를 보여주는데 survived를 기준으로 컬러를 나눠서 보여줘!"
   ]
  },
  {
   "cell_type": "markdown",
   "id": "9c878f35",
   "metadata": {},
   "source": [
    "## 1. 성별에 따른 생존률 분석"
   ]
  },
  {
   "cell_type": "code",
   "execution_count": 13,
   "id": "a9d91a87",
   "metadata": {},
   "outputs": [
    {
     "data": {
      "text/html": [
       "<div>\n",
       "<style scoped>\n",
       "    .dataframe tbody tr th:only-of-type {\n",
       "        vertical-align: middle;\n",
       "    }\n",
       "\n",
       "    .dataframe tbody tr th {\n",
       "        vertical-align: top;\n",
       "    }\n",
       "\n",
       "    .dataframe thead th {\n",
       "        text-align: right;\n",
       "    }\n",
       "</style>\n",
       "<table border=\"1\" class=\"dataframe\">\n",
       "  <thead>\n",
       "    <tr style=\"text-align: right;\">\n",
       "      <th></th>\n",
       "      <th>survived</th>\n",
       "    </tr>\n",
       "    <tr>\n",
       "      <th>sex</th>\n",
       "      <th></th>\n",
       "    </tr>\n",
       "  </thead>\n",
       "  <tbody>\n",
       "    <tr>\n",
       "      <th>female</th>\n",
       "      <td>0.742038</td>\n",
       "    </tr>\n",
       "    <tr>\n",
       "      <th>male</th>\n",
       "      <td>0.188908</td>\n",
       "    </tr>\n",
       "  </tbody>\n",
       "</table>\n",
       "</div>"
      ],
      "text/plain": [
       "        survived\n",
       "sex             \n",
       "female  0.742038\n",
       "male    0.188908"
      ]
     },
     "execution_count": 13,
     "metadata": {},
     "output_type": "execute_result"
    }
   ],
   "source": [
    "pd.DataFrame(df.groupby(\"sex\")[\"survived\"].mean())"
   ]
  },
  {
   "cell_type": "code",
   "execution_count": 14,
   "id": "f791277e",
   "metadata": {},
   "outputs": [
    {
     "data": {
      "text/html": [
       "<div>\n",
       "<style scoped>\n",
       "    .dataframe tbody tr th:only-of-type {\n",
       "        vertical-align: middle;\n",
       "    }\n",
       "\n",
       "    .dataframe tbody tr th {\n",
       "        vertical-align: top;\n",
       "    }\n",
       "\n",
       "    .dataframe thead th {\n",
       "        text-align: right;\n",
       "    }\n",
       "</style>\n",
       "<table border=\"1\" class=\"dataframe\">\n",
       "  <thead>\n",
       "    <tr style=\"text-align: right;\">\n",
       "      <th></th>\n",
       "      <th>sex</th>\n",
       "      <th>survived</th>\n",
       "    </tr>\n",
       "  </thead>\n",
       "  <tbody>\n",
       "    <tr>\n",
       "      <th>0</th>\n",
       "      <td>female</td>\n",
       "      <td>0.742038</td>\n",
       "    </tr>\n",
       "    <tr>\n",
       "      <th>1</th>\n",
       "      <td>male</td>\n",
       "      <td>0.188908</td>\n",
       "    </tr>\n",
       "  </tbody>\n",
       "</table>\n",
       "</div>"
      ],
      "text/plain": [
       "      sex  survived\n",
       "0  female  0.742038\n",
       "1    male  0.188908"
      ]
     },
     "execution_count": 14,
     "metadata": {},
     "output_type": "execute_result"
    }
   ],
   "source": [
    "df.groupby(\"sex\")[\"survived\"].mean().reset_index()"
   ]
  },
  {
   "cell_type": "code",
   "execution_count": null,
   "id": "e96d8db4",
   "metadata": {},
   "outputs": [
    {
     "data": {
      "image/png": "[encoded data removed]",
      "text/plain": [
       "<Figure size 1500x500 with 2 Axes>"
      ]
     },
     "metadata": {},
     "output_type": "display_data"
    }
   ],
   "source": [
    "fig, axes = plt.subplots(1,2, figsize=(15,5))\n",
    "sns.countplot(data=df, x=\"sex\", hue=\"survived\", ax=axes[0])\n",
    "axes[0].set_title(\"성별에 따른 생존자 수\")\n",
    "axes[0].set_xlabel(\"성별\")\n",
    "axes[0].set_ylabel(\"승객수\")\n",
    "axes[0].legend(labels=[\"사망\", \"생존\"])\n",
    "\n",
    "#성별 생존율! => 항상 수와 비율은 같이 가야한다!\n",
    "#df.groupby(\"sex\")[\"survived\"].mean().reset_index()\n",
    "#sns.barplot(data=df.groupby(\"sex\")[\"survived\"].mean().reset_index(), x=\"sex\", y=\"survived\", ax=axes[1], hue=\"survived\", palette=[\"lightblue\", \"pink\"])\n",
    "#sns.barplot(data=pd.DataFrame(df.groupby(\"sex\")[\"survived\"].mean()), x=\"sex\", y=\"survived\", ax=axes[1])\n",
    "sns.barplot(data=df.groupby(\"sex\")[\"survived\"].mean().reset_index(), x=\"sex\", y=\"survived\", ax=axes[1])\n",
    "axes[1].set_title(\"성별에 따른 생존률\")\n",
    "axes[1].set_xlabel(\"성별\")\n",
    "axes[1].set_ylabel(\"승객수\")\n",
    "axes[1].set_ylim(0,1)\n",
    "\n",
    "plt.tight_layout()\n",
    "plt.show() # 메모리를 아끼자!"
   ]
  },
  {
   "cell_type": "markdown",
   "id": "ac41a72c",
   "metadata": {},
   "source": [
    "## 2. 승객 등급에 따른 생존율\n",
    "- 등급별 생존자 수\n",
    "- 등급별 생존율\n",
    "- 등급과 성별 교차표"
   ]
  },
  {
   "cell_type": "code",
   "execution_count": 33,
   "id": "7060603a",
   "metadata": {},
   "outputs": [
    {
     "data": {
      "image/png": "[encoded data removed]",
      "text/plain": [
       "<Figure size 1500x500 with 4 Axes>"
      ]
     },
     "metadata": {},
     "output_type": "display_data"
    }
   ],
   "source": [
    "fig, axes = plt.subplots(1,3, figsize=(15,5))\n",
    "\n",
    "# 등급별 생존자수\n",
    "sns.countplot(data=df, x=\"pclass\", hue=\"survived\", ax=axes[0])\n",
    "axes[0].set_title(\"등급에 따른 생존자 수\")\n",
    "axes[0].set_xlabel(\"승객 등급\")\n",
    "axes[0].set_ylabel(\"승객 수\")\n",
    "axes[0].legend(labels=[\"사망\", \"생존\"])\n",
    "\n",
    "# 등급별 생존률\n",
    "sns.barplot(data=df.groupby(\"pclass\")[\"survived\"].mean().reset_index(), x=\"pclass\", y=\"survived\", ax=axes[1], color=\"skyblue\")\n",
    "axes[1].set_title(\"등급에 따른 생존률\")\n",
    "axes[1].set_xlabel(\"승객 등급\")\n",
    "axes[1].set_ylabel(\"승객 수\")\n",
    "axes[1].set_ylim(0,1)\n",
    "\n",
    "# 교차 히트맵 : 색의 농도에 따라서\n",
    "cross_tab = pd.crosstab(df[\"pclass\"], df[\"sex\"], values=df[\"survived\"], aggfunc=\"mean\")\n",
    "sns.heatmap(cross_tab, annot=True, fmt=\".2f\", cmap=\"RdYlBu_r\", cbar_kws={\"label\":\"생존율\"}, ax=axes[2])\n",
    "\n",
    "plt.tight_layout()\n",
    "plt.show()"
   ]
  },
  {
   "cell_type": "code",
   "execution_count": null,
   "id": "ac66fee9",
   "metadata": {},
   "outputs": [],
   "source": [
    "#### 새로운 데이터 만들기\n",
    "#### pivot과 melt는 매우 중요!!!!!\n",
    "#### pivot: pivot -> 옆으로 길게 만든다\n",
    "#### melt: -> 아래로 길게 만든다\n",
    "#### crosstab: 범주형 변수(A,B,C,D,E)를 기준으로\n",
    "\n",
    "\n",
    "#### tidy data"
   ]
  },
  {
   "cell_type": "code",
   "execution_count": 27,
   "id": "84b37fbf",
   "metadata": {},
   "outputs": [
    {
     "data": {
      "text/html": [
       "<div>\n",
       "<style scoped>\n",
       "    .dataframe tbody tr th:only-of-type {\n",
       "        vertical-align: middle;\n",
       "    }\n",
       "\n",
       "    .dataframe tbody tr th {\n",
       "        vertical-align: top;\n",
       "    }\n",
       "\n",
       "    .dataframe thead th {\n",
       "        text-align: right;\n",
       "    }\n",
       "</style>\n",
       "<table border=\"1\" class=\"dataframe\">\n",
       "  <thead>\n",
       "    <tr style=\"text-align: right;\">\n",
       "      <th>sex</th>\n",
       "      <th>female</th>\n",
       "      <th>male</th>\n",
       "    </tr>\n",
       "    <tr>\n",
       "      <th>pclass</th>\n",
       "      <th></th>\n",
       "      <th></th>\n",
       "    </tr>\n",
       "  </thead>\n",
       "  <tbody>\n",
       "    <tr>\n",
       "      <th>1</th>\n",
       "      <td>94</td>\n",
       "      <td>122</td>\n",
       "    </tr>\n",
       "    <tr>\n",
       "      <th>2</th>\n",
       "      <td>76</td>\n",
       "      <td>108</td>\n",
       "    </tr>\n",
       "    <tr>\n",
       "      <th>3</th>\n",
       "      <td>144</td>\n",
       "      <td>347</td>\n",
       "    </tr>\n",
       "  </tbody>\n",
       "</table>\n",
       "</div>"
      ],
      "text/plain": [
       "sex     female  male\n",
       "pclass              \n",
       "1           94   122\n",
       "2           76   108\n",
       "3          144   347"
      ]
     },
     "execution_count": 27,
     "metadata": {},
     "output_type": "execute_result"
    }
   ],
   "source": [
    "# pclass 기준으로 성별을 계산해서 보여줘!\n",
    "pd.crosstab(df[\"pclass\"], df[\"sex\"])"
   ]
  },
  {
   "cell_type": "code",
   "execution_count": 28,
   "id": "3ac3cfa7",
   "metadata": {},
   "outputs": [
    {
     "data": {
      "text/html": [
       "<div>\n",
       "<style scoped>\n",
       "    .dataframe tbody tr th:only-of-type {\n",
       "        vertical-align: middle;\n",
       "    }\n",
       "\n",
       "    .dataframe tbody tr th {\n",
       "        vertical-align: top;\n",
       "    }\n",
       "\n",
       "    .dataframe thead th {\n",
       "        text-align: right;\n",
       "    }\n",
       "</style>\n",
       "<table border=\"1\" class=\"dataframe\">\n",
       "  <thead>\n",
       "    <tr style=\"text-align: right;\">\n",
       "      <th>sex</th>\n",
       "      <th>female</th>\n",
       "      <th>male</th>\n",
       "    </tr>\n",
       "    <tr>\n",
       "      <th>pclass</th>\n",
       "      <th></th>\n",
       "      <th></th>\n",
       "    </tr>\n",
       "  </thead>\n",
       "  <tbody>\n",
       "    <tr>\n",
       "      <th>1</th>\n",
       "      <td>0.968085</td>\n",
       "      <td>0.368852</td>\n",
       "    </tr>\n",
       "    <tr>\n",
       "      <th>2</th>\n",
       "      <td>0.921053</td>\n",
       "      <td>0.157407</td>\n",
       "    </tr>\n",
       "    <tr>\n",
       "      <th>3</th>\n",
       "      <td>0.500000</td>\n",
       "      <td>0.135447</td>\n",
       "    </tr>\n",
       "  </tbody>\n",
       "</table>\n",
       "</div>"
      ],
      "text/plain": [
       "sex       female      male\n",
       "pclass                    \n",
       "1       0.968085  0.368852\n",
       "2       0.921053  0.157407\n",
       "3       0.500000  0.135447"
      ]
     },
     "execution_count": 28,
     "metadata": {},
     "output_type": "execute_result"
    }
   ],
   "source": [
    "# pclass 기준으로 성별을 계산해서 보여줘!\n",
    "pd.crosstab(df[\"pclass\"], df[\"sex\"], values=df[\"survived\"], aggfunc=\"mean\") # ValueError: values cannot be used without an aggfunc. aggfunc 집계함수"
   ]
  },
  {
   "cell_type": "code",
   "execution_count": 35,
   "id": "19297d1b",
   "metadata": {},
   "outputs": [
    {
     "data": {
      "text/plain": [
       "0      22.000000\n",
       "1      38.000000\n",
       "2      26.000000\n",
       "3      35.000000\n",
       "4      35.000000\n",
       "         ...    \n",
       "886    27.000000\n",
       "887    19.000000\n",
       "888    29.699118\n",
       "889    26.000000\n",
       "890    32.000000\n",
       "Name: age, Length: 891, dtype: float64"
      ]
     },
     "execution_count": 35,
     "metadata": {},
     "output_type": "execute_result"
    }
   ],
   "source": [
    "df[\"age\"]"
   ]
  },
  {
   "cell_type": "markdown",
   "id": "de9bc54c",
   "metadata": {},
   "source": [
    "## 3. 나이에 따른 생존율 분석\n",
    "- 성별과 나이\n",
    "- 전체 나이 분포\n",
    "- 그룹별\n",
    "- 생존 여부에 따른 나이 분포"
   ]
  },
  {
   "cell_type": "code",
   "execution_count": null,
   "id": "fd472e63",
   "metadata": {},
   "outputs": [
    {
     "name": "stderr",
     "output_type": "stream",
     "text": [
      "C:\\Users\\user\\AppData\\Local\\Temp\\ipykernel_4040\\793992176.py:33: FutureWarning: The default of observed=False is deprecated and will be changed to True in a future version of pandas. Pass observed=False to retain current behavior or observed=True to adopt the future default and silence this warning.\n",
      "  sns.barplot(data=df.groupby(\"age_group\")[\"survived\"].mean().reset_index(), x=\"age_group\", y=\"survived\", ax=axes[1,0], color=\"skyblue\")\n"
     ]
    },
    {
     "data": {
      "image/png": "[encoded data removed]",
      "text/plain": [
       "<Figure size 1500x1000 with 4 Axes>"
      ]
     },
     "metadata": {},
     "output_type": "display_data"
    }
   ],
   "source": [
    "# seabord 사이트 > gallery 참조\n",
    "# boxplot\n",
    "fig, axes = plt.subplots(2,2, figsize=(15,10))\n",
    "\n",
    "# 성별과 나이에 따른 생존자 수 =================================\n",
    "sns.boxplot(data=df, x=\"sex\", y=\"age\", hue=\"survived\", ax=axes[0,0])\n",
    "axes[0,0].set_title(\"성별과 나이에 따른 생존자 수\")\n",
    "axes[0,0].set_xlabel(\"성별\")\n",
    "axes[0,0].set_ylabel(\"나이\")\n",
    "axes[0,0].legend(labels=[\"사망\", \"생존\"])\n",
    "\n",
    "\n",
    "# 전체 나이 분포 > 히스토그램 =================================\n",
    "sns.histplot(data=df, x=\"age\", ax=axes[0,1]) # age별로 개수 세아려줌\n",
    "axes[0,1].set_title(\"전체 승객 나이\")\n",
    "axes[0,1].set_xlabel(\"나이\")\n",
    "axes[0,1].set_ylabel(\"인원수\")\n",
    "\n",
    "\n",
    "# 나이 그룹별 생존률 =================================\n",
    "# 유아(0~4)\n",
    "# 어린이(5-11)\n",
    "# 청소년(12-17)\n",
    "# 청년(18-24)\n",
    "# 성인(25-34)\n",
    "# 중년(35-59)\n",
    "# 노년(60+)\n",
    "\n",
    "labels = [\"유아(0~4)\", \"어린이(5-11)\", \"청소년(12-17)\", \"청년(18-24)\", \"성인(25-34)\", \"중년(35-59)\", \"노년(60+)\"]\n",
    "bins = [0, 5, 12, 18, 25, 35, 60, np.inf]\n",
    "df[\"age_group\"] = pd.cut(df[\"age\"], bins, labels=labels)\n",
    "\n",
    "sns.barplot(data=df.groupby(\"age_group\", observed=True)[\"survived\"].mean().reset_index(), x=\"age_group\", y=\"survived\", ax=axes[1,0], color=\"skyblue\")\n",
    "axes[1,0].set_title(\"나이 그룹별 생존률\")\n",
    "axes[1,0].set_xlabel(\"나이 그룹\")\n",
    "axes[1,0].set_ylabel(\"승객 수\")\n",
    "axes[1,0].tick_params(axis=\"x\", rotation=45)\n",
    "axes[1,0].set_ylim(0,1)\n",
    "\n",
    "# 생존 여부에 따른 나이 분포 =================================\n",
    "sns.histplot(data=df, x=\"age\", hue=\"survived\", stat=\"density\", ax=axes[1,1]) # age별로 개수 세아려줌\n",
    "axes[0,1].set_title(\"생존 여부에 따른 나이 분포\")\n",
    "axes[0,1].set_xlabel(\"나이\")\n",
    "axes[0,1].set_ylabel(\"밀도\")\n",
    "\n",
    "plt.tight_layout()\n",
    "plt.show()\n"
   ]
  },
  {
   "cell_type": "code",
   "execution_count": 45,
   "id": "787bbfc6",
   "metadata": {},
   "outputs": [
    {
     "data": {
      "text/plain": [
       "0      청년(18-24)\n",
       "1      중년(35-59)\n",
       "2      성인(25-34)\n",
       "3      성인(25-34)\n",
       "4      성인(25-34)\n",
       "         ...    \n",
       "886    성인(25-34)\n",
       "887    청년(18-24)\n",
       "888    성인(25-34)\n",
       "889    성인(25-34)\n",
       "890    성인(25-34)\n",
       "Name: age, Length: 891, dtype: category\n",
       "Categories (7, object): ['유아(0~4)' < '어린이(5-11)' < '청소년(12-17)' < '청년(18-24)' < '성인(25-34)' < '중년(35-59)' < '노년(60+)']"
      ]
     },
     "execution_count": 45,
     "metadata": {},
     "output_type": "execute_result"
    }
   ],
   "source": [
    "bins = [0, 5, 12, 18, 25, 35, 60, np.inf]\n",
    "pd.cut(df[\"age\"], bins, labels=labels)"
   ]
  },
  {
   "cell_type": "code",
   "execution_count": 44,
   "id": "1bb5c0ad",
   "metadata": {},
   "outputs": [
    {
     "data": {
      "text/plain": [
       "0      청년(18-24)\n",
       "1      중년(35-59)\n",
       "2      성인(25-34)\n",
       "3      성인(25-34)\n",
       "4      성인(25-34)\n",
       "         ...    \n",
       "886    성인(25-34)\n",
       "887    청년(18-24)\n",
       "888    성인(25-34)\n",
       "889    성인(25-34)\n",
       "890    성인(25-34)\n",
       "Name: age, Length: 891, dtype: category\n",
       "Categories (7, object): ['유아(0~4)' < '어린이(5-11)' < '청소년(12-17)' < '청년(18-24)' < '성인(25-34)' < '중년(35-59)' < '노년(60+)']"
      ]
     },
     "execution_count": 44,
     "metadata": {},
     "output_type": "execute_result"
    }
   ],
   "source": [
    "labels = [\"유아(0~4)\", \"어린이(5-11)\", \"청소년(12-17)\", \"청년(18-24)\", \"성인(25-34)\", \"중년(35-59)\", \"노년(60+)\"]\n",
    "bins = [0, 5, 12, 18, 25, 35, 60, np.inf]\n",
    "pd.cut(df[\"age\"], bins, labels=labels)"
   ]
  },
  {
   "cell_type": "code",
   "execution_count": null,
   "id": "73ec48b2",
   "metadata": {},
   "outputs": [],
   "source": [
    "# Pandas로 바꿔보기!\n",
    "fig, axes = plt.subplots(2,2, figsize=(15,10))\n",
    "\n",
    "# 성별과 나이에 따른 생존자 수 =================================\n",
    "sns.boxplot(data=df, x=\"sex\", y=\"age\", hue=\"survived\", ax=axes[0,0])\n",
    "axes[0,0].set_title(\"성별과 나이에 따른 생존자 수\")\n",
    "axes[0,0].set_xlabel(\"성별\")\n",
    "axes[0,0].set_ylabel(\"나이\")\n",
    "axes[0,0].legend(labels=[\"사망\", \"생존\"])\n",
    "\n",
    "\n",
    "# 전체 나이 분포 > 히스토그램 =================================\n",
    "sns.histplot(data=df, x=\"age\", ax=axes[0,1])\n",
    "#df[\"age\"].plot()\n",
    "axes[0,1].set_title(\"전체 승객 나이\")\n",
    "axes[0,1].set_xlabel(\"나이\")\n",
    "axes[0,1].set_ylabel(\"인원수\")\n",
    "\n",
    "\n",
    "# 나이 그룹별 생존률 =================================\n",
    "labels = [\"유아(0~4)\", \"어린이(5-11)\", \"청소년(12-17)\", \"청년(18-24)\", \"성인(25-34)\", \"중년(35-59)\", \"노년(60+)\"]\n",
    "bins = [0, 5, 12, 18, 25, 35, 60, np.inf]\n",
    "df[\"age_group\"] = pd.cut(df[\"age\"], bins, labels=labels)\n",
    "\n",
    "sns.barplot(data=df.groupby(\"age_group\", observed=True)[\"survived\"].mean().reset_index(), x=\"age_group\", y=\"survived\", ax=axes[1,0], color=\"skyblue\")\n",
    "axes[1,0].set_title(\"나이 그룹별 생존률\")\n",
    "axes[1,0].set_xlabel(\"나이 그룹\")\n",
    "axes[1,0].set_ylabel(\"승객 수\")\n",
    "axes[1,0].tick_params(axis=\"x\", rotation=45)\n",
    "axes[1,0].set_ylim(0,1)\n",
    "\n",
    "# 생존 여부에 따른 나이 분포 =================================\n",
    "sns.histplot(data=df, x=\"age\", hue=\"survived\", stat=\"density\", ax=axes[1,1]) # age별로 개수 세아려줌\n",
    "axes[0,1].set_title(\"생존 여부에 따른 나이 분포\")\n",
    "axes[0,1].set_xlabel(\"나이\")\n",
    "axes[0,1].set_ylabel(\"밀도\")\n",
    "\n",
    "plt.tight_layout()\n",
    "plt.show()\n"
   ]
  },
  {
   "cell_type": "markdown",
   "id": "97b2f535",
   "metadata": {},
   "source": [
    "[수업 중 노트]\n",
    "새로운 데이터(N) -> \n",
    "독립변인 : 성별(x1), 나이(x2), 등급(x3) \n",
    "생존여부 : y + alpha(오차)\n",
    "방정식(1차 방정식, 선형대수) : a1*x1 + a2*x2 + a3*x3 + alpha(절편, 상수항, 여기선 오차) = y\n",
    "방정식 어떠한 항이 미지수인것\n",
    "\n",
    "y = a1*N1 + a2*N2 + a3*N3 + alpha(오차)\n",
    "a1, a2, a3는 기울기, 기울기는 비율, x의 증가량에 따른 y의 증가량\n",
    "N1, N2, N3는 미지수\n",
    "=> 선형 대수\n",
    "\n",
    "머신 러닝 전부 1차 방정식으로 -> 오로지 직선만\n",
    "\n",
    "[머신 러닝 맛보기]\n",
    "[생존자 예측]\n",
    "a1*x1 + a2*x2 + a3*x3 = y, y > 0 이면 \"생존\"(으로 가정)\n",
    "\n",
    "\"머신러닝에서 x는 미지수가 아니라 무조건 상수(데이터가 주어지므로!)\"\n",
    "덧셈과 상수배로만 이루어져 있는 시스템을 선형성, 선형 대수\n",
    "모든 대수는 선형 공간 이라는 집합계(선형계, 등등)\n",
    "선형의 기울기는 미지수\n",
    "=> 기울기로 모든 것을 결정한다!\n",
    "\n",
    "머신러닝에서\n",
    "x는 가중치, weight\n",
    "\n",
    "\n",
    "[조각 지식]\n",
    "편미분\n",
    "행렬의 상수배\n",
    "\n",
    "수학: 기하, 대수(집합과 연산이 주어짐-> {S, *} 항등식), 해석(항등식에 미지수를 넣어 방정식을, 해석을 위해 그래프를 그린다), 통계\n",
    "\n",
    "\n",
    "(옛) O 데이터 -> 전처리(EDA) -> 보고서 (상관관계, 이해) -> __ -> 예측(1. 사람, 2. 수학, 3. 기계)"
   ]
  }
 ],
 "metadata": {
  "kernelspec": {
   "display_name": "Python 3",
   "language": "python",
   "name": "python3"
  },
  "language_info": {
   "codemirror_mode": {
    "name": "ipython",
    "version": 3
   },
   "file_extension": ".py",
   "mimetype": "text/x-python",
   "name": "python",
   "nbconvert_exporter": "python",
   "pygments_lexer": "ipython3",
   "version": "3.9.13"
  }
 },
 "nbformat": 4,
 "nbformat_minor": 5
}
